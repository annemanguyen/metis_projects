{
 "cells": [
  {
   "cell_type": "code",
   "execution_count": 2,
   "metadata": {
    "collapsed": true
   },
   "outputs": [],
   "source": [
    "import nltk\n",
    "from nltk.tokenize import sent_tokenize, word_tokenize, RegexpTokenizer\n",
    "import sys"
   ]
  },
  {
   "cell_type": "code",
   "execution_count": 3,
   "metadata": {
    "collapsed": true
   },
   "outputs": [],
   "source": [
    "import glob\n",
    "import os"
   ]
  },
  {
   "cell_type": "code",
   "execution_count": 4,
   "metadata": {
    "collapsed": false
   },
   "outputs": [
    {
     "name": "stderr",
     "output_type": "stream",
     "text": [
      "/home/amn34/anaconda2/lib/python2.7/site-packages/matplotlib/font_manager.py:273: UserWarning: Matplotlib is building the font cache using fc-list. This may take a moment.\n",
      "  warnings.warn('Matplotlib is building the font cache using fc-list. This may take a moment.')\n"
     ]
    }
   ],
   "source": [
    "import matplotlib\n",
    "%matplotlib inline"
   ]
  },
  {
   "cell_type": "code",
   "execution_count": 5,
   "metadata": {
    "collapsed": true
   },
   "outputs": [],
   "source": [
    "import gensim"
   ]
  },
  {
   "cell_type": "code",
   "execution_count": 6,
   "metadata": {
    "collapsed": true
   },
   "outputs": [],
   "source": [
    "from gensim import corpora, models, similarities"
   ]
  },
  {
   "cell_type": "code",
   "execution_count": 7,
   "metadata": {
    "collapsed": true
   },
   "outputs": [],
   "source": [
    "from nltk.stem.porter import PorterStemmer"
   ]
  },
  {
   "cell_type": "code",
   "execution_count": 8,
   "metadata": {
    "collapsed": false
   },
   "outputs": [],
   "source": [
    "from nltk.corpus import stopwords\n",
    "stop = stopwords.words('english')"
   ]
  },
  {
   "cell_type": "code",
   "execution_count": 9,
   "metadata": {
    "collapsed": false
   },
   "outputs": [],
   "source": [
    "stop.append('said')"
   ]
  },
  {
   "cell_type": "code",
   "execution_count": 10,
   "metadata": {
    "collapsed": true
   },
   "outputs": [],
   "source": [
    "tokenizer = RegexpTokenizer(r'\\w+')"
   ]
  },
  {
   "cell_type": "code",
   "execution_count": 78,
   "metadata": {
    "collapsed": true
   },
   "outputs": [],
   "source": [
    "texts = []\n",
    "path = '/home/amn34/metis/stuff/noirs/chandler'\n",
    "for books in glob.glob(os.path.join(path, '*.txt')):\n",
    "    doc = open(books).read()\n",
    "    doc = doc.decode('utf-8')\n",
    "    doc = doc.lower()\n",
    "    docwords = tokenizer.tokenize(doc)\n",
    "    stopped = [w for w in docwords if not w in stop]\n",
    "    p_stem = PorterStemmer()\n",
    "    stemmed_words = [p_stemmer.stem(i) for i in stopped]\n",
    "    texts.append(stemmed_words)"
   ]
  },
  {
   "cell_type": "code",
   "execution_count": 92,
   "metadata": {
    "collapsed": false
   },
   "outputs": [
    {
     "name": "stdout",
     "output_type": "stream",
     "text": [
      "book: [u'hous', u'dresden', u'avenu', u'oak', u'noll', u'section', u'pasadena', u'big', u'solid', u'cool', u'look', u'hous', u'burgundi', u'brick', u'wall', u'terra', u'cotta', u'tile', u'roof', u'white', u'stone', u'trim', u'front', u'window', u'lead', u'downstair', u'upstair', u'window', u'cottag', u'type', u'lot', u'rococo', u'imit', u'stonework', u'trim', u'around', u'front', u'wall', u'attend', u'flower', u'bush', u'half', u'acr', u'fine', u'green', u'lawn', u'drift', u'gentl', u'slope', u'street'] \n",
      "\n",
      "book: [u'one', u'mix', u'block', u'central', u'avenu', u'block', u'yet', u'negro', u'come', u'three', u'chair', u'barber', u'shop', u'agenc', u'thought', u'relief', u'barber', u'name', u'dimitrio', u'aleidi', u'might', u'work', u'small', u'matter', u'wife', u'will', u'spend', u'littl', u'money', u'come', u'home', u'never', u'found', u'mr', u'aleidi', u'never', u'paid', u'money', u'either', u'warm', u'day', u'almost', u'end', u'march', u'stood', u'outsid', u'barber', u'shop', u'look', u'jut'] \n",
      "\n",
      "book: [u'pebbl', u'glass', u'door', u'panel', u'letter', u'flake', u'black', u'paint', u'philip', u'marlow', u'investig', u'reason', u'shabbi', u'door', u'end', u'reason', u'shabbi', u'corridor', u'sort', u'build', u'new', u'year', u'tile', u'bathroom', u'becam', u'basi', u'civil', u'door', u'lock', u'next', u'anoth', u'door', u'legend', u'lock', u'come', u'nobodi', u'big', u'bluebottl', u'fli', u'manhattan', u'kansa', u'one', u'clear', u'bright', u'summer', u'morn', u'get', u'earli', u'spring', u'california'] \n",
      "\n",
      "book: [u'voic', u'telephon', u'seem', u'sharp', u'peremptori', u'hear', u'well', u'partli', u'half', u'awak', u'partli', u'hold', u'receiv', u'upsid', u'fumbl', u'around', u'grunt', u'hear', u'clyde', u'umney', u'lawyer', u'clyde', u'umney', u'lawyer', u'thought', u'sever', u'marlow', u'yeah', u'guess', u'look', u'wrist', u'watch', u'6', u'30', u'best', u'hour', u'get', u'fresh', u'young', u'man', u'sorri', u'mr', u'umney', u'young', u'man', u'old', u'tire', u'full', u'coffe', u'sir'] \n",
      "\n",
      "book: [u'first', u'time', u'laid', u'eye', u'terri', u'lennox', u'drunk', u'roll', u'royc', u'silver', u'wraith', u'outsid', u'terrac', u'dancer', u'park', u'lot', u'attend', u'brought', u'car', u'still', u'hold', u'door', u'open', u'terri', u'lennox', u'left', u'foot', u'still', u'dangl', u'outsid', u'forgotten', u'one', u'young', u'look', u'face', u'hair', u'bone', u'white', u'could', u'tell', u'eye', u'plaster', u'hairlin', u'otherwis', u'look', u'like', u'nice', u'young', u'guy', u'dinner'] \n",
      "\n",
      "book: [u'treloar', u'build', u'oliv', u'street', u'near', u'sixth', u'west', u'side', u'sidewalk', u'front', u'built', u'black', u'white', u'rubber', u'block', u'take', u'give', u'govern', u'hatless', u'pale', u'man', u'face', u'like', u'build', u'superintend', u'watch', u'work', u'look', u'break', u'heart', u'went', u'past', u'arcad', u'specialti', u'shop', u'vast', u'black', u'gold', u'lobbi', u'gillerlain', u'compani', u'seventh', u'floor', u'front', u'behind', u'swing', u'doubl', u'plate', u'glass', u'door'] \n",
      "\n",
      "book: [u'eleven', u'clock', u'morn', u'mid', u'octob', u'sun', u'shine', u'look', u'hard', u'wet', u'rain', u'clear', u'foothil', u'wear', u'powder', u'blue', u'suit', u'dark', u'blue', u'shirt', u'tie', u'display', u'handkerchief', u'black', u'brogu', u'black', u'wool', u'sock', u'dark', u'blue', u'clock', u'neat', u'clean', u'shave', u'sober', u'care', u'knew', u'everyth', u'well', u'dress', u'privat', u'detect', u'ought', u'call', u'four', u'million', u'dollar', u'main', u'hallway', u'sternwood'] \n",
      "\n"
     ]
    }
   ],
   "source": [
    "for i in texts: print 'book:', i[0:50], '\\n'"
   ]
  },
  {
   "cell_type": "code",
   "execution_count": 83,
   "metadata": {
    "collapsed": false
   },
   "outputs": [],
   "source": [
    "dictionary = corpora.Dictionary(texts)"
   ]
  },
  {
   "cell_type": "code",
   "execution_count": 84,
   "metadata": {
    "collapsed": true
   },
   "outputs": [],
   "source": [
    "corpus = [dictionary.doc2bow(text) for text in texts]"
   ]
  },
  {
   "cell_type": "code",
   "execution_count": 115,
   "metadata": {
    "collapsed": false
   },
   "outputs": [
    {
     "name": "stdout",
     "output_type": "stream",
     "text": [
      "look\n",
      "like\n",
      "back\n",
      "know\n",
      "went\n",
      "door\n",
      "would\n",
      "mr\n",
      "get\n",
      "littl\n",
      "hand\n",
      "one\n",
      "man\n",
      "go\n",
      "eye\n",
      "\n",
      "\n",
      "\n",
      "look\n",
      "like\n",
      "back\n",
      "one\n",
      "get\n",
      "man\n",
      "went\n",
      "littl\n",
      "got\n",
      "door\n",
      "go\n",
      "eye\n",
      "hand\n",
      "know\n",
      "would\n",
      "\n",
      "\n",
      "\n",
      "look\n",
      "like\n",
      "back\n",
      "littl\n",
      "know\n",
      "went\n",
      "one\n",
      "get\n",
      "door\n",
      "would\n",
      "hand\n",
      "got\n",
      "man\n",
      "go\n",
      "eye\n",
      "\n",
      "\n",
      "\n",
      "look\n",
      "back\n",
      "went\n",
      "know\n",
      "get\n",
      "could\n",
      "one\n",
      "got\n",
      "would\n",
      "like\n",
      "man\n",
      "mitchel\n",
      "mr\n",
      "car\n",
      "door\n",
      "\n",
      "\n",
      "\n",
      "look\n",
      "get\n",
      "got\n",
      "like\n",
      "know\n",
      "one\n",
      "back\n",
      "would\n",
      "time\n",
      "mr\n",
      "went\n",
      "want\n",
      "could\n",
      "man\n",
      "wade\n",
      "\n",
      "\n",
      "\n",
      "look\n",
      "like\n",
      "back\n",
      "know\n",
      "went\n",
      "would\n",
      "littl\n",
      "one\n",
      "got\n",
      "get\n",
      "degarmo\n",
      "go\n",
      "kingsley\n",
      "hand\n",
      "door\n",
      "\n",
      "\n",
      "\n",
      "look\n",
      "like\n",
      "back\n",
      "went\n",
      "door\n",
      "eye\n",
      "know\n",
      "got\n",
      "littl\n",
      "man\n",
      "get\n",
      "would\n",
      "one\n",
      "car\n",
      "hand\n",
      "\n",
      "\n",
      "\n"
     ]
    }
   ],
   "source": [
    "corpus2 = []\n",
    "\n",
    "for i in corpus:\n",
    "    s = sorted(i, key=lambda x: x[1], reverse=True)\n",
    "    corpus2.append(s[20:])\n",
    "    for j in s[0:15]:\n",
    "        print dictionary.get(j[0])\n",
    "    print '\\n\\n'"
   ]
  },
  {
   "cell_type": "code",
   "execution_count": 113,
   "metadata": {
    "collapsed": true
   },
   "outputs": [],
   "source": [
    "ldamodel = gensim.models.ldamodel.LdaModel(corpus, num_topics=5, alpha = 'auto', id2word = dictionary, passes=10)"
   ]
  },
  {
   "cell_type": "code",
   "execution_count": 118,
   "metadata": {
    "collapsed": false
   },
   "outputs": [
    {
     "data": {
      "text/plain": [
       "[(0, u'0.011*look + 0.009*like + 0.008*back + 0.007*know + 0.007*went'),\n",
       " (1, u'0.012*look + 0.009*like + 0.008*back + 0.007*get + 0.007*one'),\n",
       " (2, u'0.010*look + 0.009*like + 0.009*back + 0.006*went + 0.006*door'),\n",
       " (3, u'0.010*look + 0.008*get + 0.008*back + 0.007*got + 0.007*like'),\n",
       " (4, u'0.013*look + 0.008*like + 0.008*back + 0.007*know + 0.007*went')]"
      ]
     },
     "execution_count": 118,
     "metadata": {},
     "output_type": "execute_result"
    }
   ],
   "source": [
    "ldamodel.print_topics(num_topics=5, num_words=5)"
   ]
  },
  {
   "cell_type": "code",
   "execution_count": 116,
   "metadata": {
    "collapsed": true
   },
   "outputs": [],
   "source": [
    "ldamodel2 = gensim.models.ldamodel.LdaModel(corpus2, num_topics=5, alpha = 'auto', id2word = dictionary, passes=10)"
   ]
  },
  {
   "cell_type": "code",
   "execution_count": 117,
   "metadata": {
    "collapsed": false
   },
   "outputs": [
    {
     "data": {
      "text/plain": [
       "[(0, u'0.004*see + 0.004*around + 0.004*light + 0.004*want + 0.004*head'),\n",
       " (1, u'0.001*someth + 0.001*see + 0.001*right + 0.001*room + 0.001*away'),\n",
       " (2, u'0.005*want + 0.005*around + 0.004*gun + 0.004*murdock + 0.004*time'),\n",
       " (3, u'0.004*littl + 0.004*way + 0.004*think + 0.004*see + 0.004*call'),\n",
       " (4, u'0.004*around + 0.004*open + 0.004*right + 0.004*way + 0.004*came')]"
      ]
     },
     "execution_count": 117,
     "metadata": {},
     "output_type": "execute_result"
    }
   ],
   "source": [
    "ldamodel2.print_topics(num_topics=5, num_words=5)"
   ]
  },
  {
   "cell_type": "markdown",
   "metadata": {},
   "source": [
    "#### tfidf and similarities"
   ]
  },
  {
   "cell_type": "code",
   "execution_count": 119,
   "metadata": {
    "collapsed": true
   },
   "outputs": [],
   "source": [
    "tfidf = models.TfidfModel(corpus)"
   ]
  },
  {
   "cell_type": "code",
   "execution_count": 120,
   "metadata": {
    "collapsed": true
   },
   "outputs": [],
   "source": [
    "corpus_tfidf = tfidf[corpus]"
   ]
  },
  {
   "cell_type": "code",
   "execution_count": 124,
   "metadata": {
    "collapsed": false
   },
   "outputs": [],
   "source": [
    "index = similarities.MatrixSimilarity(tfidf[corpus])"
   ]
  },
  {
   "cell_type": "code",
   "execution_count": 125,
   "metadata": {
    "collapsed": true
   },
   "outputs": [],
   "source": [
    "sims = index[corpus_tfidf]"
   ]
  },
  {
   "cell_type": "code",
   "execution_count": 126,
   "metadata": {
    "collapsed": false,
    "scrolled": true
   },
   "outputs": [
    {
     "name": "stdout",
     "output_type": "stream",
     "text": [
      "[[ 1.00000036  0.00745812  0.00613282  0.0040765   0.00991494  0.00413227\n",
      "   0.00398679]\n",
      " [ 0.00745812  1.00000024  0.00856385  0.00429486  0.00982617  0.00537938\n",
      "   0.01591069]\n",
      " [ 0.00613282  0.00856385  1.00000012  0.00765501  0.02133632  0.00746867\n",
      "   0.00506177]\n",
      " [ 0.0040765   0.00429486  0.00765501  1.00000024  0.01149879  0.00275196\n",
      "   0.00725088]\n",
      " [ 0.00991494  0.00982617  0.02133632  0.01149879  1.00000215  0.00815626\n",
      "   0.0108847 ]\n",
      " [ 0.00413227  0.00537938  0.00746867  0.00275196  0.00815626  1.00000072\n",
      "   0.00309715]\n",
      " [ 0.00398679  0.01591069  0.00506177  0.00725088  0.0108847   0.00309715\n",
      "   1.00000083]]\n"
     ]
    }
   ],
   "source": [
    "print sims"
   ]
  },
  {
   "cell_type": "code",
   "execution_count": 127,
   "metadata": {
    "collapsed": false
   },
   "outputs": [
    {
     "name": "stderr",
     "output_type": "stream",
     "text": [
      "/home/amn34/anaconda2/lib/python2.7/site-packages/gensim/models/ldamodel.py:527: RuntimeWarning: overflow encountered in exp2\n",
      "  (perwordbound, numpy.exp2(-perwordbound), len(chunk), corpus_words))\n"
     ]
    }
   ],
   "source": [
    "ldamodel3 = gensim.models.ldamodel.LdaModel(corpus_tfidf, num_topics=5, alpha = 'auto', id2word = dictionary, passes=10)"
   ]
  },
  {
   "cell_type": "code",
   "execution_count": 128,
   "metadata": {
    "collapsed": false
   },
   "outputs": [
    {
     "data": {
      "text/plain": [
       "[(0,\n",
       "  u'0.000*murdock + 0.000*vannier + 0.000*hench + 0.000*morni + 0.000*phillip'),\n",
       " (1, u'0.000*lennox + 0.000*wade + 0.000*spencer + 0.000*roger + 0.000*terri'),\n",
       " (2,\n",
       "  u'0.000*degarmo + 0.000*kingsley + 0.000*laveri + 0.000*patton + 0.000*almor'),\n",
       " (3,\n",
       "  u'0.000*marriott + 0.000*florian + 0.000*malloy + 0.000*nulti + 0.000*grayl'),\n",
       " (4,\n",
       "  u'0.000*mitchel + 0.000*geiger + 0.000*marriott + 0.000*regan + 0.000*brodi')]"
      ]
     },
     "execution_count": 128,
     "metadata": {},
     "output_type": "execute_result"
    }
   ],
   "source": [
    "ldamodel3.print_topics(num_topics=5, num_words=5)"
   ]
  },
  {
   "cell_type": "markdown",
   "metadata": {},
   "source": [
    "#### parsing"
   ]
  },
  {
   "cell_type": "code",
   "execution_count": 16,
   "metadata": {
    "collapsed": true
   },
   "outputs": [],
   "source": [
    "from nltk import pos_tag"
   ]
  },
  {
   "cell_type": "code",
   "execution_count": 11,
   "metadata": {
    "collapsed": false
   },
   "outputs": [],
   "source": [
    "sleep = open('/home/amn34/metis/stuff/noirs/chandler/rc_bigsleep.txt').read()"
   ]
  },
  {
   "cell_type": "code",
   "execution_count": 12,
   "metadata": {
    "collapsed": false
   },
   "outputs": [],
   "source": [
    "sleep = sleep.decode('utf-8')"
   ]
  },
  {
   "cell_type": "code",
   "execution_count": 10,
   "metadata": {
    "collapsed": true
   },
   "outputs": [],
   "source": [
    "#sleepsent = sent_tokenize(sleep)"
   ]
  },
  {
   "cell_type": "code",
   "execution_count": 13,
   "metadata": {
    "collapsed": true
   },
   "outputs": [],
   "source": [
    "raw = sleep.lower()\n",
    "sleepwords = tokenizer.tokenize(raw)"
   ]
  },
  {
   "cell_type": "code",
   "execution_count": 14,
   "metadata": {
    "collapsed": true
   },
   "outputs": [],
   "source": [
    "stopped = [w for w in sleepwords if not w in stop]"
   ]
  },
  {
   "cell_type": "code",
   "execution_count": 52,
   "metadata": {
    "collapsed": true
   },
   "outputs": [],
   "source": [
    "#p_stemmer = PorterStemmer()"
   ]
  },
  {
   "cell_type": "code",
   "execution_count": 53,
   "metadata": {
    "collapsed": true
   },
   "outputs": [],
   "source": [
    "#stemmed_words = [p_stemmer.stem(i) for i in stopped]"
   ]
  },
  {
   "cell_type": "code",
   "execution_count": 17,
   "metadata": {
    "collapsed": false
   },
   "outputs": [],
   "source": [
    "tagged = pos_tag(stopped)"
   ]
  },
  {
   "cell_type": "code",
   "execution_count": 143,
   "metadata": {
    "collapsed": true
   },
   "outputs": [],
   "source": [
    "from nltk import Text"
   ]
  },
  {
   "cell_type": "code",
   "execution_count": 144,
   "metadata": {
    "collapsed": true
   },
   "outputs": [],
   "source": [
    "text = nltk.Text(stopped)"
   ]
  },
  {
   "cell_type": "code",
   "execution_count": 148,
   "metadata": {
    "collapsed": false
   },
   "outputs": [
    {
     "name": "stdout",
     "output_type": "stream",
     "text": [
      "one stare brody door enough wall moved changed gentleman anybody gun\n",
      "behind calm gee sharp still tell know\n"
     ]
    }
   ],
   "source": [
    "text.similar('man')"
   ]
  },
  {
   "cell_type": "code",
   "execution_count": 149,
   "metadata": {
    "collapsed": false
   },
   "outputs": [
    {
     "name": "stdout",
     "output_type": "stream",
     "text": [
      "wig gray head right kissed norris jumped frowned revolver hand wallet\n",
      "notebook little man luger worrying left\n"
     ]
    }
   ],
   "source": [
    "text.similar('gun')"
   ]
  },
  {
   "cell_type": "code",
   "execution_count": 160,
   "metadata": {
    "collapsed": false
   },
   "outputs": [
    {
     "name": "stdout",
     "output_type": "stream",
     "text": [
      "cigar room dump scream\n"
     ]
    }
   ],
   "source": [
    "text.similar('cigarette')"
   ]
  },
  {
   "cell_type": "code",
   "execution_count": 157,
   "metadata": {
    "collapsed": false
   },
   "outputs": [
    {
     "name": "stdout",
     "output_type": "stream",
     "text": [
      "little_back\n"
     ]
    }
   ],
   "source": [
    "text.common_contexts(['man','gun'])"
   ]
  },
  {
   "cell_type": "code",
   "execution_count": 158,
   "metadata": {
    "collapsed": false
   },
   "outputs": [
    {
     "name": "stdout",
     "output_type": "stream",
     "text": [
      "Displaying 25 of 186 matches:\n",
      "hot hard coal black eyes general look man would pay get along thought might gen\n",
      " holding seem bother tall thin silver man sixty close little past blue eyes rem\n",
      "s could skin smooth bright moved like man sound muscles walked slowly across fl\n",
      "chair wheel chair old obviously dying man watched us come black eyes fire died \n",
      "er stood front mr marlowe general old man move speak even nod looked lifelessly\n",
      "acks legs sat took hat deft scoop old man dragged voice bottom well brandy norr\n",
      " brandy beneath may take coat sir hot man blood veins stood peeled coat got han\n",
      "t automatically cigarette stopped old man caught gesture smiled faintly may smo\n",
      "dowed comers mouth nice state affairs man indulge vices proxy dryly looking dul\n",
      "soft wet heat like pall around us old man nodded neck afraid weight head butler\n",
      "d shut behind jungle sipped drink old man licked lips watching drawing one lip \n",
      "orney investigator chief investigator man named bernie ohls called told wanted \n",
      " policemen wives little bit cynic old man smiled like working wilde fired insub\n",
      "mr marlowe still secrets happened old man looked woodenly went away month ago a\n",
      "ths came say nine ten months ago paid man named joe brody five thousand dollars\n",
      " closed eyes opened suddenly need add man indulges parenthood first time age fi\n",
      "d visibly yet slowly hardly pulse old man two thirds dead still determined beli\n",
      " kept notes crook knows onions honest man little loan business side ought money\n",
      "mount squeeze afraid rather impatient man mr marlowe charges get twenty five da\n",
      "ssing persons bureau organization one man job oh dad hear police brought looked\n",
      "table beside handkerchief loose money man brushes keyholder man clothes closet \n",
      "ief loose money man brushes keyholder man clothes closet man slippers flounced \n",
      " brushes keyholder man clothes closet man slippers flounced edge bed cover mr g\n",
      "aight chairs bureau dark grained wood man toilet set two black candles foot hig\n",
      " bed full whiskey frustration dreamed man bloody chinese coat chased naked girl\n"
     ]
    }
   ],
   "source": [
    "text.concordance('man')"
   ]
  },
  {
   "cell_type": "code",
   "execution_count": 178,
   "metadata": {
    "collapsed": false
   },
   "outputs": [
    {
     "name": "stdout",
     "output_type": "stream",
     "text": [
      "eddie mars; harry jones; last night; mrs regan; captain gregory; totem\n",
      "pole; missing persons; general sternwood; old man; silver wig; owen\n",
      "taylor; door opened; went back; joe brody; arthur gwynn; purring\n",
      "voice; persons bureau; thousand dollars; laverne terrace; rusty regan\n"
     ]
    }
   ],
   "source": [
    "text.collocations()"
   ]
  },
  {
   "cell_type": "code",
   "execution_count": 161,
   "metadata": {
    "collapsed": false
   },
   "outputs": [
    {
     "data": {
      "text/plain": [
       "91"
      ]
     },
     "execution_count": 161,
     "metadata": {},
     "output_type": "execute_result"
    }
   ],
   "source": [
    "text.count('gun')"
   ]
  },
  {
   "cell_type": "code",
   "execution_count": 162,
   "metadata": {
    "collapsed": true
   },
   "outputs": [],
   "source": [
    "from nltk import FreqDist"
   ]
  },
  {
   "cell_type": "code",
   "execution_count": 163,
   "metadata": {
    "collapsed": true
   },
   "outputs": [],
   "source": [
    "fd = nltk.FreqDist(text)"
   ]
  },
  {
   "cell_type": "code",
   "execution_count": 177,
   "metadata": {
    "collapsed": false
   },
   "outputs": [
    {
     "data": {
      "image/png": "[encoded data removed]",
      "text/plain": [
       "<matplotlib.figure.Figure at 0x7fbb72e75890>"
      ]
     },
     "metadata": {},
     "output_type": "display_data"
    }
   ],
   "source": [
    "fd.plot(50,cumulative=False)"
   ]
  },
  {
   "cell_type": "code",
   "execution_count": 18,
   "metadata": {
    "collapsed": false
   },
   "outputs": [
    {
     "data": {
      "text/plain": [
       "[(u'eleven', 'RB'),\n",
       " (u'clock', 'NN'),\n",
       " (u'morning', 'NN'),\n",
       " (u'mid', 'JJ'),\n",
       " (u'october', 'NN'),\n",
       " (u'sun', 'JJ'),\n",
       " (u'shining', 'VBG'),\n",
       " (u'look', 'NN'),\n",
       " (u'hard', 'JJ'),\n",
       " (u'wet', 'NN')]"
      ]
     },
     "execution_count": 18,
     "metadata": {},
     "output_type": "execute_result"
    }
   ],
   "source": [
    "tagged[0:10]"
   ]
  },
  {
   "cell_type": "code",
   "execution_count": 19,
   "metadata": {
    "collapsed": false
   },
   "outputs": [],
   "source": [
    "keeplist = ['NN', 'NNP','NNPS','NNS', 'JJ', 'JJR', 'JJS', 'RB', 'RBR', 'RBS']"
   ]
  },
  {
   "cell_type": "code",
   "execution_count": 20,
   "metadata": {
    "collapsed": false
   },
   "outputs": [],
   "source": [
    "naa = []\n",
    "for i in tagged:\n",
    "    if i[1] in keeplist:\n",
    "        naa.append(i[0])"
   ]
  },
  {
   "cell_type": "code",
   "execution_count": 21,
   "metadata": {
    "collapsed": false
   },
   "outputs": [
    {
     "data": {
      "text/plain": [
       "[u'eleven',\n",
       " u'clock',\n",
       " u'morning',\n",
       " u'mid',\n",
       " u'october',\n",
       " u'sun',\n",
       " u'look',\n",
       " u'hard',\n",
       " u'wet',\n",
       " u'rain',\n",
       " u'clearness',\n",
       " u'foothills',\n",
       " u'powder',\n",
       " u'blue',\n",
       " u'suit',\n",
       " u'dark',\n",
       " u'blue',\n",
       " u'shirt',\n",
       " u'tie',\n",
       " u'display',\n",
       " u'handkerchief',\n",
       " u'black',\n",
       " u'brogues',\n",
       " u'black',\n",
       " u'wool',\n",
       " u'socks',\n",
       " u'blue',\n",
       " u'clocks',\n",
       " u'neat',\n",
       " u'clean',\n",
       " u'sober',\n",
       " u'everything',\n",
       " u'well',\n",
       " u'dressed',\n",
       " u'private',\n",
       " u'detective',\n",
       " u'dollars',\n",
       " u'main',\n",
       " u'hallway',\n",
       " u'sternwood',\n",
       " u'place',\n",
       " u'stories',\n",
       " u'high',\n",
       " u'entrance',\n",
       " u'doors',\n",
       " u'indian',\n",
       " u'elephants',\n",
       " u'broad',\n",
       " u'glass',\n",
       " u'panel',\n",
       " u'knight',\n",
       " u'dark',\n",
       " u'armor',\n",
       " u'lady',\n",
       " u'tree',\n",
       " u'clothes',\n",
       " u'long',\n",
       " u'convenient',\n",
       " u'hair',\n",
       " u'vizor',\n",
       " u'helmet',\n",
       " u'back',\n",
       " u'sociable',\n",
       " u'knots',\n",
       " u'ropes',\n",
       " u'lady',\n",
       " u'tree',\n",
       " u'anywhere',\n",
       " u'house',\n",
       " u'later',\n",
       " u'climb',\n",
       " u'help',\n",
       " u'really',\n",
       " u'french',\n",
       " u'doors',\n",
       " u'back',\n",
       " u'hall',\n",
       " u'wide',\n",
       " u'sweep',\n",
       " u'emerald',\n",
       " u'grass',\n",
       " u'white',\n",
       " u'garage',\n",
       " u'front',\n",
       " u'slim',\n",
       " u'dark',\n",
       " u'young',\n",
       " u'chauffeur',\n",
       " u'shiny',\n",
       " u'black',\n",
       " u'leggings',\n",
       " u'maroon',\n",
       " u'packard',\n",
       " u'convertible',\n",
       " u'garage',\n",
       " u'decorative',\n",
       " u'trees',\n",
       " u'carefully',\n",
       " u'poodle',\n",
       " u'dogs',\n",
       " u'large',\n",
       " u'greenhouse',\n",
       " u'roof',\n",
       " u'trees',\n",
       " u'everything',\n",
       " u'solid',\n",
       " u'uneven',\n",
       " u'comfortable',\n",
       " u'line',\n",
       " u'foothills',\n",
       " u'east',\n",
       " u'side',\n",
       " u'hall',\n",
       " u'free',\n",
       " u'staircase',\n",
       " u'tile',\n",
       " u'gallery',\n",
       " u'wrought',\n",
       " u'iron',\n",
       " u'piece',\n",
       " u'glass',\n",
       " u'romance',\n",
       " u'large',\n",
       " u'hard',\n",
       " u'chairs',\n",
       " u'red',\n",
       " u'plush',\n",
       " u'seats',\n",
       " u'vacant',\n",
       " u'spaces',\n",
       " u'round',\n",
       " u'look',\n",
       " u'anybody',\n",
       " u'ever',\n",
       " u'middle',\n",
       " u'west',\n",
       " u'wall',\n",
       " u'big',\n",
       " u'empty',\n",
       " u'fireplace',\n",
       " u'brass',\n",
       " u'screen',\n",
       " u'panels',\n",
       " u'fireplace',\n",
       " u'marble',\n",
       " u'mantel',\n",
       " u'cupids',\n",
       " u'corners',\n",
       " u'large',\n",
       " u'oil',\n",
       " u'portrait',\n",
       " u'portrait',\n",
       " u'bullet',\n",
       " u'cavalry',\n",
       " u'pennants',\n",
       " u'glass',\n",
       " u'frame',\n",
       " u'stiffly',\n",
       " u'job',\n",
       " u'officer',\n",
       " u'full',\n",
       " u'regimentals',\n",
       " u'time',\n",
       " u'mexican',\n",
       " u'war',\n",
       " u'officer',\n",
       " u'neat',\n",
       " u'black',\n",
       " u'imperial',\n",
       " u'black',\n",
       " u'mustachios',\n",
       " u'hot',\n",
       " u'hard',\n",
       " u'coal',\n",
       " u'black',\n",
       " u'eyes',\n",
       " u'general',\n",
       " u'look',\n",
       " u'man',\n",
       " u'along',\n",
       " u'sternwood',\n",
       " u'grandfather',\n",
       " u'hardly',\n",
       " u'general',\n",
       " u'even',\n",
       " u'heard',\n",
       " u'pretty',\n",
       " u'far',\n",
       " u'years',\n",
       " u'couple',\n",
       " u'daughters',\n",
       " u'still',\n",
       " u'dangerous',\n",
       " u'twenties',\n",
       " u'still',\n",
       " u'hot',\n",
       " u'black',\n",
       " u'eyes',\n",
       " u'door',\n",
       " u'far',\n",
       " u'back',\n",
       " u'stairs',\n",
       " u'butler',\n",
       " u'back',\n",
       " u'girl',\n",
       " u'twenty',\n",
       " u'small',\n",
       " u'delicately',\n",
       " u'together',\n",
       " u'durable',\n",
       " u'wore',\n",
       " u'pale',\n",
       " u'blue',\n",
       " u'slacks',\n",
       " u'well',\n",
       " u'hair',\n",
       " u'fine',\n",
       " u'tawny',\n",
       " u'wave',\n",
       " u'much',\n",
       " u'shorter',\n",
       " u'current',\n",
       " u'fashion',\n",
       " u'pageboy',\n",
       " u'tresses',\n",
       " u'bottom',\n",
       " u'eyes',\n",
       " u'gray',\n",
       " u'almost',\n",
       " u'expression',\n",
       " u'near',\n",
       " u'mouth',\n",
       " u'little',\n",
       " u'sharp',\n",
       " u'predatory',\n",
       " u'teeth',\n",
       " u'white',\n",
       " u'fresh',\n",
       " u'orange',\n",
       " u'pith',\n",
       " u'shiny',\n",
       " u'porcelain',\n",
       " u'thin',\n",
       " u'taut',\n",
       " u'lips',\n",
       " u'color',\n",
       " u'look',\n",
       " u'healthy',\n",
       " u'tall',\n",
       " u'mean',\n",
       " u'eyes',\n",
       " u'puzzled',\n",
       " u'thinking',\n",
       " u'even',\n",
       " u'short',\n",
       " u'acquaintance',\n",
       " u'thinking',\n",
       " u'always',\n",
       " u'bother',\n",
       " u'handsome',\n",
       " u'bet',\n",
       " u'name',\n",
       " u'reilly',\n",
       " u'reilly',\n",
       " u'funny',\n",
       " u'name',\n",
       " u'bit',\n",
       " u'lip',\n",
       " u'head',\n",
       " u'little',\n",
       " u'eyes',\n",
       " u'lashes',\n",
       " u'almost',\n",
       " u'cheeks',\n",
       " u'slowly',\n",
       " u'theater',\n",
       " u'know',\n",
       " u'trick',\n",
       " u'roll',\n",
       " u'back',\n",
       " u'paws',\n",
       " u'air',\n",
       " u'prizefighter',\n",
       " u'exactly',\n",
       " u'sleuth',\n",
       " u'tossed',\n",
       " u'head',\n",
       " u'angrily',\n",
       " u'rich',\n",
       " u'color',\n",
       " u'rather',\n",
       " u'dim',\n",
       " u'light',\n",
       " u'big',\n",
       " u'hall',\n",
       " u'making',\n",
       " u'fun',\n",
       " u'uh',\n",
       " u'anything',\n",
       " u'big',\n",
       " u'tease',\n",
       " u'thumb',\n",
       " u'bit',\n",
       " u'curiously',\n",
       " u'thin',\n",
       " u'narrow',\n",
       " u'extra',\n",
       " u'finger',\n",
       " u'first',\n",
       " u'joint',\n",
       " u'bit',\n",
       " u'sucked',\n",
       " u'slowly',\n",
       " u'mouth',\n",
       " u'baby',\n",
       " u'comforter',\n",
       " u'awfully',\n",
       " u'tall',\n",
       " u'secret',\n",
       " u'merriment',\n",
       " u'body',\n",
       " u'slowly',\n",
       " u'lithely',\n",
       " u'feet',\n",
       " u'hands',\n",
       " u'limp',\n",
       " u'sides',\n",
       " u'towards',\n",
       " u'toes',\n",
       " u'straight',\n",
       " u'back',\n",
       " u'arms',\n",
       " u'crack',\n",
       " u'head',\n",
       " u'floor',\n",
       " u'caught',\n",
       " u'arms',\n",
       " u'rubber',\n",
       " u'instantly',\n",
       " u'close',\n",
       " u'hold',\n",
       " u'head',\n",
       " u'chest',\n",
       " u'giggled',\n",
       " u'cute',\n",
       " u'cute',\n",
       " u'anything',\n",
       " u'butler',\n",
       " u'convenient',\n",
       " u'moment',\n",
       " u'back',\n",
       " u'french',\n",
       " u'doors',\n",
       " u'bother',\n",
       " u'tall',\n",
       " u'thin',\n",
       " u'silver',\n",
       " u'man',\n",
       " u'close',\n",
       " u'little',\n",
       " u'past',\n",
       " u'blue',\n",
       " u'eyes',\n",
       " u'eyes',\n",
       " u'smooth',\n",
       " u'bright',\n",
       " u'man',\n",
       " u'sound',\n",
       " u'slowly',\n",
       " u'floor',\n",
       " u'towards',\n",
       " u'away',\n",
       " u'room',\n",
       " u'foot',\n",
       " u'deer',\n",
       " u'long',\n",
       " u'breath',\n",
       " u'let',\n",
       " u'butler',\n",
       " u'tonelessly',\n",
       " u'general',\n",
       " u'see',\n",
       " u'mr',\n",
       " u'marlowe',\n",
       " u'lower',\n",
       " u'jaw',\n",
       " u'chest',\n",
       " u'miss',\n",
       " u'carmen',\n",
       " u'sir',\n",
       " u'old',\n",
       " u'enough',\n",
       " u'grave',\n",
       " u'politeness',\n",
       " u'french',\n",
       " u'doors',\n",
       " u'smooth',\n",
       " u'red',\n",
       " u'path',\n",
       " u'far',\n",
       " u'side',\n",
       " u'lawn',\n",
       " u'garage',\n",
       " u'boyish',\n",
       " u'chauffeur',\n",
       " u'big',\n",
       " u'black',\n",
       " u'chromium',\n",
       " u'sedan',\n",
       " u'path',\n",
       " u'side',\n",
       " u'greenhouse',\n",
       " u'butler',\n",
       " u'door',\n",
       " u'aside',\n",
       " u'sort',\n",
       " u'vestibule',\n",
       " u'warm',\n",
       " u'oven',\n",
       " u'shut',\n",
       " u'outer',\n",
       " u'door',\n",
       " u'inner',\n",
       " u'door',\n",
       " u'really',\n",
       " u'hot',\n",
       " u'air',\n",
       " u'thick',\n",
       " u'wet',\n",
       " u'steamy',\n",
       " u'smell',\n",
       " u'tropical',\n",
       " u'orchids',\n",
       " u'bloom',\n",
       " u'glass',\n",
       " u'walls',\n",
       " u'heavily',\n",
       " u'big',\n",
       " u'drops',\n",
       " u'moisture',\n",
       " u'plants',\n",
       " u'light',\n",
       " u'unreal',\n",
       " u'greenish',\n",
       " u'color',\n",
       " u'light',\n",
       " u'aquarium',\n",
       " u'tank',\n",
       " u'plants',\n",
       " u'place',\n",
       " u'forest',\n",
       " u'nasty',\n",
       " u'meaty',\n",
       " u'stalks',\n",
       " u'newly',\n",
       " u'fingers',\n",
       " u'dead',\n",
       " u'men',\n",
       " u'alcohol',\n",
       " u'blanket',\n",
       " u'butler',\n",
       " u'best',\n",
       " u'get',\n",
       " u'smacked',\n",
       " u'face',\n",
       " u'sodden',\n",
       " u'middle',\n",
       " u'jungle',\n",
       " u'roof',\n",
       " u'space',\n",
       " u'hexagonal',\n",
       " u'flags',\n",
       " u'old',\n",
       " u'red',\n",
       " u'turkish',\n",
       " u'rug',\n",
       " u'rug',\n",
       " u'wheel',\n",
       " u'chair',\n",
       " u'chair',\n",
       " u'old',\n",
       " u'obviously',\n",
       " u'man',\n",
       " u'black',\n",
       " u'eyes',\n",
       " u'long',\n",
       " u'ago',\n",
       " u'still',\n",
       " u'black',\n",
       " u'directness',\n",
       " u'eyes',\n",
       " u'hung',\n",
       " u'mantel',\n",
       " u'hall',\n",
       " u'rest',\n",
       " u'face',\n",
       " u'mask',\n",
       " u'bloodless',\n",
       " u'lips',\n",
       " u'sharp',\n",
       " u'nose',\n",
       " u'sunken',\n",
       " u'temples',\n",
       " u'outward',\n",
       " u'dissolution',\n",
       " u'long',\n",
       " u'narrow',\n",
       " u'body',\n",
       " u'heat',\n",
       " u'rug',\n",
       " u'red',\n",
       " u'bathrobe',\n",
       " u'thin',\n",
       " u'claw',\n",
       " u'hands',\n",
       " u'loosely',\n",
       " u'rug',\n",
       " u'purple',\n",
       " u'locks',\n",
       " u'dry',\n",
       " u'white',\n",
       " u'hair',\n",
       " u'clung',\n",
       " u'wild',\n",
       " u'flowers',\n",
       " u'life',\n",
       " u'bare',\n",
       " u'rock',\n",
       " u'butler',\n",
       " u'front',\n",
       " u'mr',\n",
       " u'marlowe',\n",
       " u'general',\n",
       " u'old',\n",
       " u'man',\n",
       " u'move',\n",
       " u'even',\n",
       " u'nod',\n",
       " u'lifelessly',\n",
       " u'damp',\n",
       " u'wicker',\n",
       " u'chair',\n",
       " u'backs',\n",
       " u'sat',\n",
       " u'scoop',\n",
       " u'old',\n",
       " u'man',\n",
       " u'voice',\n",
       " u'bottom',\n",
       " u'well',\n",
       " u'brandy',\n",
       " u'brandy',\n",
       " u'sir',\n",
       " u'way',\n",
       " u'butler',\n",
       " u'away',\n",
       " u'abominable',\n",
       " u'plants',\n",
       " u'general',\n",
       " u'slowly',\n",
       " u'strength',\n",
       " u'carefully',\n",
       " u'showgirl',\n",
       " u'uses',\n",
       " u'last',\n",
       " u'good',\n",
       " u'pair',\n",
       " u'stockings',\n",
       " u'mine',\n",
       " u'champagne',\n",
       " u'champagne',\n",
       " u'cold',\n",
       " u'valley',\n",
       " u'forge',\n",
       " u'third',\n",
       " u'glass',\n",
       " u'beneath',\n",
       " u'coat',\n",
       " u'sir',\n",
       " u'hot',\n",
       " u'man',\n",
       " u'blood',\n",
       " u'veins',\n",
       " u'peeled',\n",
       " u'coat',\n",
       " u'handkerchief',\n",
       " u'mopped',\n",
       " u'face',\n",
       " u'neck',\n",
       " u'backs',\n",
       " u'louis',\n",
       " u'august',\n",
       " u'nothing',\n",
       " u'place',\n",
       " u'automatically',\n",
       " u'cigarette',\n",
       " u'old',\n",
       " u'man',\n",
       " u'gesture',\n",
       " u'faintly',\n",
       " u'sir',\n",
       " u'smell',\n",
       " u'tobacco',\n",
       " u'cigarette',\n",
       " u'blew',\n",
       " u'lungful',\n",
       " u'sniffed',\n",
       " u'terrier',\n",
       " u'rathole',\n",
       " u'faint',\n",
       " u'smile',\n",
       " u'shadowed',\n",
       " u'comers',\n",
       " u'nice',\n",
       " u'state',\n",
       " u'affairs',\n",
       " u'man',\n",
       " u'indulge',\n",
       " u'vices',\n",
       " u'dryly',\n",
       " u'dull',\n",
       " u'survival',\n",
       " u'rather',\n",
       " u'gaudy',\n",
       " u'life',\n",
       " u'cripple',\n",
       " u'legs',\n",
       " u'half',\n",
       " u'lower',\n",
       " u'belly',\n",
       " u'little',\n",
       " u'eat',\n",
       " u'sleep',\n",
       " u'close',\n",
       " u'hardly',\n",
       " u'worth',\n",
       " u'name',\n",
       " u'largely',\n",
       " u'newborn',\n",
       " u'spider',\n",
       " u'orchids',\n",
       " u'heat',\n",
       " u'orchids',\n",
       " u'particularly',\n",
       " u'general',\n",
       " u'half',\n",
       " u'eyes',\n",
       " u'nasty',\n",
       " u'things',\n",
       " u'flesh',\n",
       " u'much',\n",
       " u'flesh',\n",
       " u'men',\n",
       " u'rotten',\n",
       " u'sweetness',\n",
       " u'prostitute',\n",
       " u'mouth',\n",
       " u'open',\n",
       " u'soft',\n",
       " u'wet',\n",
       " u'heat',\n",
       " u'pall',\n",
       " u'old',\n",
       " u'man',\n",
       " u'neck',\n",
       " u'afraid',\n",
       " u'weight',\n",
       " u'head',\n",
       " u'butler',\n",
       " u'back',\n",
       " u'jungle',\n",
       " u'teawagon',\n",
       " u'mixed',\n",
       " u'brandy',\n",
       " u'soda',\n",
       " u'copper',\n",
       " u'ice',\n",
       " u'bucket',\n",
       " u'damp',\n",
       " u'away',\n",
       " u'softly',\n",
       " u'orchids',\n",
       " u'door',\n",
       " u'jungle',\n",
       " u'old',\n",
       " u'man',\n",
       " u'lips',\n",
       " u'lip',\n",
       " u'slowly',\n",
       " u'funereal',\n",
       " u'absorption',\n",
       " u'undertaker',\n",
       " u'dry',\n",
       " u'hands',\n",
       " u'mr',\n",
       " u'suppose',\n",
       " u'right',\n",
       " u'ask',\n",
       " u'sure',\n",
       " u'little',\n",
       " u'tell',\n",
       " u'years',\n",
       " u'old',\n",
       " u'college',\n",
       " u'still',\n",
       " u'speak',\n",
       " u'english',\n",
       " u'demand',\n",
       " u'much',\n",
       " u'trade',\n",
       " u'mr',\n",
       " u'wilde',\n",
       " u'district',\n",
       " u'attorney',\n",
       " u'investigator',\n",
       " u'chief',\n",
       " u'investigator',\n",
       " u'man',\n",
       " u'bernie',\n",
       " u'ohls',\n",
       " u'see',\n",
       " u'unmarried',\n",
       " u'policemen',\n",
       " u'wives',\n",
       " u'little',\n",
       " u'bit',\n",
       " u'cynic',\n",
       " u'old',\n",
       " u'man',\n",
       " u'wilde',\n",
       " u'insubordination',\n",
       " u'test',\n",
       " u'high',\n",
       " u'insubordination',\n",
       " u'general',\n",
       " u'always',\n",
       " u'glad',\n",
       " u'hear',\n",
       " u'family',\n",
       " u'widower',\n",
       " u'young',\n",
       " u'daughters',\n",
       " u'pretty',\n",
       " u'times',\n",
       " u'last',\n",
       " u'time',\n",
       " u'ex',\n",
       " u'bootlegger',\n",
       " u'trade',\n",
       " u'name',\n",
       " u'rusty',\n",
       " u'regan',\n",
       " u'general',\n",
       " u'strike',\n",
       " u'peculiar',\n",
       " u'rusty',\n",
       " u'regan',\n",
       " u'part',\n",
       " u'maybe',\n",
       " u'always',\n",
       " u'along',\n",
       " u'bootleggers',\n",
       " u'faint',\n",
       " u'economical',\n",
       " u'smile',\n",
       " u'fond',\n",
       " u'rusty',\n",
       " u'big',\n",
       " u'curly',\n",
       " u'irishman',\n",
       " u'clonmel',\n",
       " u'sad',\n",
       " u'eyes',\n",
       " u'smile',\n",
       " u'wide',\n",
       " u'wilshire',\n",
       " u'first',\n",
       " u'time',\n",
       " u'probably',\n",
       " u'adventurer',\n",
       " u'get',\n",
       " u'velvet',\n",
       " u'learned',\n",
       " u'talk',\n",
       " u'language',\n",
       " u'thin',\n",
       " u'bloodless',\n",
       " u'hands',\n",
       " u'rug',\n",
       " u'cigarette',\n",
       " u'stub',\n",
       " u'breath',\n",
       " u'life',\n",
       " u'spent',\n",
       " u'hours',\n",
       " u'pig',\n",
       " u'drinking',\n",
       " u'brandy',\n",
       " u'quart',\n",
       " u'stories',\n",
       " u'irish',\n",
       " u'revolution',\n",
       " u'officer',\n",
       " u'r',\n",
       " u'even',\n",
       " u'legally',\n",
       " u'united',\n",
       " u'states',\n",
       " u'ridiculous',\n",
       " u'marriage',\n",
       " u'course',\n",
       " u'probably',\n",
       " u'last',\n",
       " u'month',\n",
       " u'marriage',\n",
       " u'family',\n",
       " u'secrets',\n",
       " u'marlowe',\n",
       " u'still',\n",
       " u'secrets',\n",
       " u'old',\n",
       " u'man',\n",
       " u'woodenly',\n",
       " u'away',\n",
       " u'month',\n",
       " u'ago',\n",
       " u'abruptly',\n",
       " u'word',\n",
       " u'anyone',\n",
       " u'good',\n",
       " u'hurt',\n",
       " u'little',\n",
       " u'rough',\n",
       " u'school',\n",
       " u'hear',\n",
       " u'days',\n",
       " u'meantime',\n",
       " u'brought',\n",
       " u'hands',\n",
       " u'envelope',\n",
       " u'anybody',\n",
       " u'tried',\n",
       " u'blackmail',\n",
       " u'rusty',\n",
       " u'months',\n",
       " u'ten',\n",
       " u'months',\n",
       " u'ago',\n",
       " u'man',\n",
       " u'joe',\n",
       " u'brody',\n",
       " u'dollars',\n",
       " u'younger',\n",
       " u'carmen',\n",
       " u'alone',\n",
       " u'thin',\n",
       " u'white',\n",
       " u'eyebrows',\n",
       " u'nothing',\n",
       " u'half',\n",
       " u'envelope',\n",
       " u'examine',\n",
       " u'help',\n",
       " u'envelope',\n",
       " u'knees',\n",
       " u'wiped',\n",
       " u'palms',\n",
       " u'hands',\n",
       " u'addressed',\n",
       " u'general',\n",
       " u'guy',\n",
       " u'sternwood',\n",
       " u'alta',\n",
       " u'brea',\n",
       " u'crescent',\n",
       " u'west',\n",
       " u'hollywood',\n",
       " u'california',\n",
       " u'address',\n",
       " u'ink',\n",
       " u'engineers',\n",
       " u'envelope',\n",
       " u'slit',\n",
       " u'card',\n",
       " u'slips',\n",
       " u'stiff',\n",
       " u'paper',\n",
       " u'card',\n",
       " u'thin',\n",
       " u'brown',\n",
       " u'linen',\n",
       " u'gold',\n",
       " u'mr',\n",
       " u'arthur',\n",
       " u'gwynn',\n",
       " u'geiger',\n",
       " u'address',\n",
       " u'small',\n",
       " u'lower',\n",
       " u'left',\n",
       " u'hand',\n",
       " u'corner',\n",
       " u'rare',\n",
       " u'books',\n",
       " u'editions',\n",
       " u'card',\n",
       " u'printing',\n",
       " u'back',\n",
       " u'dear',\n",
       " u'sir',\n",
       " u'spite',\n",
       " u'legal',\n",
       " u'uncollectibility',\n",
       " u'frankly',\n",
       " u'represent',\n",
       " u'debts',\n",
       " u'assume',\n",
       " u'respectfully',\n",
       " u'g',\n",
       " u'geiger',\n",
       " u'slips',\n",
       " u'stiffish',\n",
       " u'white',\n",
       " u'paper',\n",
       " u'promissory',\n",
       " u'notes',\n",
       " u'ink',\n",
       " u'several',\n",
       " u'dates',\n",
       " u'early',\n",
       " u'month',\n",
       " u'september',\n",
       " u'demand',\n",
       " u'promise',\n",
       " u'pay',\n",
       " u'arthur',\n",
       " u'gwynn',\n",
       " u'geiger',\n",
       " u'order',\n",
       " u'dollars',\n",
       " u'interest',\n",
       " u'value',\n",
       " u'carmen',\n",
       " u'part',\n",
       " u'moronic',\n",
       " u'handwriting',\n",
       " u'lot',\n",
       " u'fat',\n",
       " u'curlicues',\n",
       " u'circles',\n",
       " u'dots',\n",
       " u'drink',\n",
       " u'exhibit',\n",
       " u'aside',\n",
       " u'conclusions',\n",
       " u'general',\n",
       " u'yet',\n",
       " u'gwynn',\n",
       " u'geiger',\n",
       " u'faintest',\n",
       " u'idea',\n",
       " u'carmen',\n",
       " u'intend',\n",
       " u'thumb',\n",
       " u'look',\n",
       " u'coy',\n",
       " u'hall',\n",
       " u'sit',\n",
       " u'lap',\n",
       " u'nothing',\n",
       " u'expression',\n",
       " u'hands',\n",
       " u'peacefully',\n",
       " u'edge',\n",
       " u'rug',\n",
       " u'heat',\n",
       " u'feel',\n",
       " u'new',\n",
       " u'england',\n",
       " u'dinner',\n",
       " u'even',\n",
       " u'warm',\n",
       " u'polite',\n",
       " u'natural',\n",
       " u'noticed',\n",
       " u'suffer',\n",
       " u'many',\n",
       " u'inhibitions',\n",
       " u'girls',\n",
       " u'together',\n",
       " u'separate',\n",
       " u'slightly',\n",
       " u'divergent',\n",
       " u'roads',\n",
       " u'perdition',\n",
       " u'vivian',\n",
       " u'smart',\n",
       " u'quite',\n",
       " u'ruthless',\n",
       " u'carmen',\n",
       " ...]"
      ]
     },
     "execution_count": 21,
     "metadata": {},
     "output_type": "execute_result"
    }
   ],
   "source": [
    "naa"
   ]
  },
  {
   "cell_type": "code",
   "execution_count": 23,
   "metadata": {
    "collapsed": false
   },
   "outputs": [],
   "source": [
    "tagged_texts = []\n",
    "path = '/home/amn34/metis/stuff/noirs/chandler'\n",
    "for books in glob.glob(os.path.join(path, '*.txt')):\n",
    "    doc = open(books).read()\n",
    "    doc = doc.decode('utf-8')\n",
    "    doc = doc.lower()\n",
    "    docwords = tokenizer.tokenize(doc)\n",
    "    stopped = [w for w in docwords if not w in stop]\n",
    "    tagged = pos_tag(stopped)\n",
    "    tagged_texts.append(tagged)"
   ]
  },
  {
   "cell_type": "code",
   "execution_count": null,
   "metadata": {
    "collapsed": true
   },
   "outputs": [],
   "source": []
  }
 ],
 "metadata": {
  "kernelspec": {
   "display_name": "Python 2",
   "language": "python",
   "name": "python2"
  },
  "language_info": {
   "codemirror_mode": {
    "name": "ipython",
    "version": 2
   },
   "file_extension": ".py",
   "mimetype": "text/x-python",
   "name": "python",
   "nbconvert_exporter": "python",
   "pygments_lexer": "ipython2",
   "version": "2.7.11"
  }
 },
 "nbformat": 4,
 "nbformat_minor": 0
}
