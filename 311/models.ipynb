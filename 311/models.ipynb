{
 "cells": [
  {
   "cell_type": "code",
   "execution_count": 388,
   "metadata": {
    "collapsed": true
   },
   "outputs": [],
   "source": [
    "import pandas as pd"
   ]
  },
  {
   "cell_type": "code",
   "execution_count": 389,
   "metadata": {
    "collapsed": true
   },
   "outputs": [],
   "source": [
    "acs = pd.read_pickle('acs.pkl')"
   ]
  },
  {
   "cell_type": "code",
   "execution_count": 390,
   "metadata": {
    "collapsed": false
   },
   "outputs": [
    {
     "data": {
      "text/html": [
       "<div>\n",
       "<table border=\"1\" class=\"dataframe\">\n",
       "  <thead>\n",
       "    <tr style=\"text-align: right;\">\n",
       "      <th></th>\n",
       "      <th>GeogName</th>\n",
       "      <th>GeoID</th>\n",
       "      <th>MaleP</th>\n",
       "      <th>MdAgeE</th>\n",
       "      <th>Pop18plE</th>\n",
       "      <th>WtNHP</th>\n",
       "      <th>CvLFUEmP</th>\n",
       "      <th>MdHHIncE</th>\n",
       "      <th>Inc_SNAPP</th>\n",
       "      <th>FamBwPvP</th>\n",
       "      <th>HUE</th>\n",
       "      <th>VacHUP</th>\n",
       "      <th>BltBf39P</th>\n",
       "      <th>ROcHUP</th>\n",
       "      <th>MdGRE</th>\n",
       "      <th>HHE</th>\n",
       "      <th>FamP</th>\n",
       "      <th>SmHsP</th>\n",
       "      <th>NtvP</th>\n",
       "    </tr>\n",
       "  </thead>\n",
       "  <tbody>\n",
       "    <tr>\n",
       "      <th>0</th>\n",
       "      <td>Brooklyn Heights-Cobble Hill                  ...</td>\n",
       "      <td>BK09</td>\n",
       "      <td>49.4</td>\n",
       "      <td>36.9</td>\n",
       "      <td>20645.0</td>\n",
       "      <td>76.2</td>\n",
       "      <td>4.7</td>\n",
       "      <td>105126.0</td>\n",
       "      <td>2.4</td>\n",
       "      <td>2.8</td>\n",
       "      <td>12760.0</td>\n",
       "      <td>12.1</td>\n",
       "      <td>66.7</td>\n",
       "      <td>55.6</td>\n",
       "      <td>1893.0</td>\n",
       "      <td>11222.0</td>\n",
       "      <td>42.4</td>\n",
       "      <td>83.0</td>\n",
       "      <td>80.5</td>\n",
       "    </tr>\n",
       "    <tr>\n",
       "      <th>1</th>\n",
       "      <td>Sheepshead Bay-Gerritsen Beach-Manhattan Beac ...</td>\n",
       "      <td>BK17</td>\n",
       "      <td>45.9</td>\n",
       "      <td>43.8</td>\n",
       "      <td>51145.0</td>\n",
       "      <td>69.8</td>\n",
       "      <td>5.4</td>\n",
       "      <td>50721.0</td>\n",
       "      <td>17.7</td>\n",
       "      <td>13.5</td>\n",
       "      <td>27855.0</td>\n",
       "      <td>8.0</td>\n",
       "      <td>26.4</td>\n",
       "      <td>47.5</td>\n",
       "      <td>1077.0</td>\n",
       "      <td>25614.0</td>\n",
       "      <td>65.7</td>\n",
       "      <td>93.7</td>\n",
       "      <td>54.7</td>\n",
       "    </tr>\n",
       "    <tr>\n",
       "      <th>2</th>\n",
       "      <td>Brighton Beach                                ...</td>\n",
       "      <td>BK19</td>\n",
       "      <td>46.9</td>\n",
       "      <td>44.5</td>\n",
       "      <td>26813.0</td>\n",
       "      <td>69.2</td>\n",
       "      <td>4.2</td>\n",
       "      <td>29690.0</td>\n",
       "      <td>31.2</td>\n",
       "      <td>20.1</td>\n",
       "      <td>15518.0</td>\n",
       "      <td>9.0</td>\n",
       "      <td>35.5</td>\n",
       "      <td>70.5</td>\n",
       "      <td>1043.0</td>\n",
       "      <td>14122.0</td>\n",
       "      <td>56.2</td>\n",
       "      <td>88.4</td>\n",
       "      <td>31.1</td>\n",
       "    </tr>\n",
       "    <tr>\n",
       "      <th>3</th>\n",
       "      <td>Seagate-Coney Island                          ...</td>\n",
       "      <td>BK21</td>\n",
       "      <td>45.8</td>\n",
       "      <td>42.0</td>\n",
       "      <td>22492.0</td>\n",
       "      <td>30.2</td>\n",
       "      <td>10.2</td>\n",
       "      <td>23324.0</td>\n",
       "      <td>50.3</td>\n",
       "      <td>28.0</td>\n",
       "      <td>12101.0</td>\n",
       "      <td>10.2</td>\n",
       "      <td>16.3</td>\n",
       "      <td>83.4</td>\n",
       "      <td>619.0</td>\n",
       "      <td>10863.0</td>\n",
       "      <td>61.7</td>\n",
       "      <td>92.1</td>\n",
       "      <td>64.4</td>\n",
       "    </tr>\n",
       "    <tr>\n",
       "      <th>4</th>\n",
       "      <td>West Brighton                                 ...</td>\n",
       "      <td>BK23</td>\n",
       "      <td>40.8</td>\n",
       "      <td>57.2</td>\n",
       "      <td>13908.0</td>\n",
       "      <td>97.3</td>\n",
       "      <td>4.3</td>\n",
       "      <td>40285.0</td>\n",
       "      <td>24.9</td>\n",
       "      <td>8.2</td>\n",
       "      <td>8641.0</td>\n",
       "      <td>6.3</td>\n",
       "      <td>4.8</td>\n",
       "      <td>58.7</td>\n",
       "      <td>905.0</td>\n",
       "      <td>8094.0</td>\n",
       "      <td>53.6</td>\n",
       "      <td>96.8</td>\n",
       "      <td>39.2</td>\n",
       "    </tr>\n",
       "  </tbody>\n",
       "</table>\n",
       "</div>"
      ],
      "text/plain": [
       "                                            GeogName GeoID  MaleP  MdAgeE  \\\n",
       "0  Brooklyn Heights-Cobble Hill                  ...  BK09   49.4    36.9   \n",
       "1  Sheepshead Bay-Gerritsen Beach-Manhattan Beac ...  BK17   45.9    43.8   \n",
       "2  Brighton Beach                                ...  BK19   46.9    44.5   \n",
       "3  Seagate-Coney Island                          ...  BK21   45.8    42.0   \n",
       "4  West Brighton                                 ...  BK23   40.8    57.2   \n",
       "\n",
       "   Pop18plE  WtNHP  CvLFUEmP  MdHHIncE  Inc_SNAPP  FamBwPvP      HUE  VacHUP  \\\n",
       "0   20645.0   76.2       4.7  105126.0        2.4       2.8  12760.0    12.1   \n",
       "1   51145.0   69.8       5.4   50721.0       17.7      13.5  27855.0     8.0   \n",
       "2   26813.0   69.2       4.2   29690.0       31.2      20.1  15518.0     9.0   \n",
       "3   22492.0   30.2      10.2   23324.0       50.3      28.0  12101.0    10.2   \n",
       "4   13908.0   97.3       4.3   40285.0       24.9       8.2   8641.0     6.3   \n",
       "\n",
       "   BltBf39P  ROcHUP   MdGRE      HHE  FamP  SmHsP  NtvP  \n",
       "0      66.7    55.6  1893.0  11222.0  42.4   83.0  80.5  \n",
       "1      26.4    47.5  1077.0  25614.0  65.7   93.7  54.7  \n",
       "2      35.5    70.5  1043.0  14122.0  56.2   88.4  31.1  \n",
       "3      16.3    83.4   619.0  10863.0  61.7   92.1  64.4  \n",
       "4       4.8    58.7   905.0   8094.0  53.6   96.8  39.2  "
      ]
     },
     "execution_count": 390,
     "metadata": {},
     "output_type": "execute_result"
    }
   ],
   "source": [
    "acs.head()"
   ]
  },
  {
   "cell_type": "code",
   "execution_count": 391,
   "metadata": {
    "collapsed": true
   },
   "outputs": [],
   "source": [
    "x = acs[acs.columns[2:]]"
   ]
  },
  {
   "cell_type": "code",
   "execution_count": 392,
   "metadata": {
    "collapsed": true
   },
   "outputs": [],
   "source": [
    "import numpy as np"
   ]
  },
  {
   "cell_type": "code",
   "execution_count": 393,
   "metadata": {
    "collapsed": false
   },
   "outputs": [],
   "source": [
    "xnorm = x[['Pop18plE', 'MdHHIncE', 'HUE', 'HHE']].apply(lambda x: 100*(x - np.mean(x)) / (np.max(x) - np.min(x)))"
   ]
  },
  {
   "cell_type": "code",
   "execution_count": 394,
   "metadata": {
    "collapsed": false
   },
   "outputs": [
    {
     "name": "stderr",
     "output_type": "stream",
     "text": [
      "/home/amn34/.local/lib/python2.7/site-packages/ipykernel/__main__.py:2: SettingWithCopyWarning: \n",
      "A value is trying to be set on a copy of a slice from a DataFrame.\n",
      "Try using .loc[row_indexer,col_indexer] = value instead\n",
      "\n",
      "See the caveats in the documentation: http://pandas.pydata.org/pandas-docs/stable/indexing.html#indexing-view-versus-copy\n",
      "  from ipykernel import kernelapp as app\n"
     ]
    }
   ],
   "source": [
    "for i in ['Pop18plE', 'MdHHIncE', 'HUE', 'HHE']:\n",
    "    x[i] = xnorm[i]"
   ]
  },
  {
   "cell_type": "code",
   "execution_count": 395,
   "metadata": {
    "collapsed": false
   },
   "outputs": [
    {
     "data": {
      "text/html": [
       "<div>\n",
       "<table border=\"1\" class=\"dataframe\">\n",
       "  <thead>\n",
       "    <tr style=\"text-align: right;\">\n",
       "      <th></th>\n",
       "      <th>MaleP</th>\n",
       "      <th>MdAgeE</th>\n",
       "      <th>Pop18plE</th>\n",
       "      <th>WtNHP</th>\n",
       "      <th>CvLFUEmP</th>\n",
       "      <th>MdHHIncE</th>\n",
       "      <th>Inc_SNAPP</th>\n",
       "      <th>FamBwPvP</th>\n",
       "      <th>HUE</th>\n",
       "      <th>VacHUP</th>\n",
       "      <th>BltBf39P</th>\n",
       "      <th>ROcHUP</th>\n",
       "      <th>MdGRE</th>\n",
       "      <th>HHE</th>\n",
       "      <th>FamP</th>\n",
       "      <th>SmHsP</th>\n",
       "      <th>NtvP</th>\n",
       "    </tr>\n",
       "  </thead>\n",
       "  <tbody>\n",
       "    <tr>\n",
       "      <th>0</th>\n",
       "      <td>49.4</td>\n",
       "      <td>36.9</td>\n",
       "      <td>-13.174753</td>\n",
       "      <td>76.2</td>\n",
       "      <td>4.7</td>\n",
       "      <td>38.139401</td>\n",
       "      <td>2.4</td>\n",
       "      <td>2.8</td>\n",
       "      <td>-7.543279</td>\n",
       "      <td>12.1</td>\n",
       "      <td>66.7</td>\n",
       "      <td>55.6</td>\n",
       "      <td>1893.0</td>\n",
       "      <td>-8.346969</td>\n",
       "      <td>42.4</td>\n",
       "      <td>83.0</td>\n",
       "      <td>80.5</td>\n",
       "    </tr>\n",
       "    <tr>\n",
       "      <th>1</th>\n",
       "      <td>45.9</td>\n",
       "      <td>43.8</td>\n",
       "      <td>15.894184</td>\n",
       "      <td>69.8</td>\n",
       "      <td>5.4</td>\n",
       "      <td>-4.163237</td>\n",
       "      <td>17.7</td>\n",
       "      <td>13.5</td>\n",
       "      <td>14.286709</td>\n",
       "      <td>8.0</td>\n",
       "      <td>26.4</td>\n",
       "      <td>47.5</td>\n",
       "      <td>1077.0</td>\n",
       "      <td>15.187060</td>\n",
       "      <td>65.7</td>\n",
       "      <td>93.7</td>\n",
       "      <td>54.7</td>\n",
       "    </tr>\n",
       "    <tr>\n",
       "      <th>2</th>\n",
       "      <td>46.9</td>\n",
       "      <td>44.5</td>\n",
       "      <td>-7.296156</td>\n",
       "      <td>69.2</td>\n",
       "      <td>4.2</td>\n",
       "      <td>-20.515903</td>\n",
       "      <td>31.2</td>\n",
       "      <td>20.1</td>\n",
       "      <td>-3.554733</td>\n",
       "      <td>9.0</td>\n",
       "      <td>35.5</td>\n",
       "      <td>70.5</td>\n",
       "      <td>1043.0</td>\n",
       "      <td>-3.604842</td>\n",
       "      <td>56.2</td>\n",
       "      <td>88.4</td>\n",
       "      <td>31.1</td>\n",
       "    </tr>\n",
       "    <tr>\n",
       "      <th>3</th>\n",
       "      <td>45.8</td>\n",
       "      <td>42.0</td>\n",
       "      <td>-11.414414</td>\n",
       "      <td>30.2</td>\n",
       "      <td>10.2</td>\n",
       "      <td>-25.465790</td>\n",
       "      <td>50.3</td>\n",
       "      <td>28.0</td>\n",
       "      <td>-8.496307</td>\n",
       "      <td>10.2</td>\n",
       "      <td>16.3</td>\n",
       "      <td>83.4</td>\n",
       "      <td>619.0</td>\n",
       "      <td>-8.934011</td>\n",
       "      <td>61.7</td>\n",
       "      <td>92.1</td>\n",
       "      <td>64.4</td>\n",
       "    </tr>\n",
       "    <tr>\n",
       "      <th>4</th>\n",
       "      <td>40.8</td>\n",
       "      <td>57.2</td>\n",
       "      <td>-19.595652</td>\n",
       "      <td>97.3</td>\n",
       "      <td>4.3</td>\n",
       "      <td>-12.277755</td>\n",
       "      <td>24.9</td>\n",
       "      <td>8.2</td>\n",
       "      <td>-13.500067</td>\n",
       "      <td>6.3</td>\n",
       "      <td>4.8</td>\n",
       "      <td>58.7</td>\n",
       "      <td>905.0</td>\n",
       "      <td>-13.461925</td>\n",
       "      <td>53.6</td>\n",
       "      <td>96.8</td>\n",
       "      <td>39.2</td>\n",
       "    </tr>\n",
       "  </tbody>\n",
       "</table>\n",
       "</div>"
      ],
      "text/plain": [
       "   MaleP  MdAgeE   Pop18plE  WtNHP  CvLFUEmP   MdHHIncE  Inc_SNAPP  FamBwPvP  \\\n",
       "0   49.4    36.9 -13.174753   76.2       4.7  38.139401        2.4       2.8   \n",
       "1   45.9    43.8  15.894184   69.8       5.4  -4.163237       17.7      13.5   \n",
       "2   46.9    44.5  -7.296156   69.2       4.2 -20.515903       31.2      20.1   \n",
       "3   45.8    42.0 -11.414414   30.2      10.2 -25.465790       50.3      28.0   \n",
       "4   40.8    57.2 -19.595652   97.3       4.3 -12.277755       24.9       8.2   \n",
       "\n",
       "         HUE  VacHUP  BltBf39P  ROcHUP   MdGRE        HHE  FamP  SmHsP  NtvP  \n",
       "0  -7.543279    12.1      66.7    55.6  1893.0  -8.346969  42.4   83.0  80.5  \n",
       "1  14.286709     8.0      26.4    47.5  1077.0  15.187060  65.7   93.7  54.7  \n",
       "2  -3.554733     9.0      35.5    70.5  1043.0  -3.604842  56.2   88.4  31.1  \n",
       "3  -8.496307    10.2      16.3    83.4   619.0  -8.934011  61.7   92.1  64.4  \n",
       "4 -13.500067     6.3       4.8    58.7   905.0 -13.461925  53.6   96.8  39.2  "
      ]
     },
     "execution_count": 395,
     "metadata": {},
     "output_type": "execute_result"
    }
   ],
   "source": [
    "x.head()"
   ]
  },
  {
   "cell_type": "code",
   "execution_count": 396,
   "metadata": {
    "collapsed": true
   },
   "outputs": [],
   "source": [
    "housing = ['HUE', 'VacHUP', 'BltBf39P', 'ROcHUP', 'MdGRE']"
   ]
  },
  {
   "cell_type": "code",
   "execution_count": 397,
   "metadata": {
    "collapsed": false
   },
   "outputs": [],
   "source": [
    "non_housing = x.drop(housing, axis=1)"
   ]
  },
  {
   "cell_type": "code",
   "execution_count": 398,
   "metadata": {
    "collapsed": false
   },
   "outputs": [
    {
     "name": "stderr",
     "output_type": "stream",
     "text": [
      "/home/amn34/.local/lib/python2.7/site-packages/ipykernel/__main__.py:1: SettingWithCopyWarning: \n",
      "A value is trying to be set on a copy of a slice from a DataFrame\n",
      "\n",
      "See the caveats in the documentation: http://pandas.pydata.org/pandas-docs/stable/indexing.html#indexing-view-versus-copy\n",
      "  if __name__ == '__main__':\n"
     ]
    }
   ],
   "source": [
    "x.drop('Pop18plE', axis=1, inplace=True)"
   ]
  },
  {
   "cell_type": "code",
   "execution_count": 436,
   "metadata": {
    "collapsed": false
   },
   "outputs": [
    {
     "data": {
      "text/plain": [
       "188"
      ]
     },
     "execution_count": 436,
     "metadata": {},
     "output_type": "execute_result"
    }
   ],
   "source": []
  },
  {
   "cell_type": "markdown",
   "metadata": {},
   "source": [
    "#### rates model"
   ]
  },
  {
   "cell_type": "code",
   "execution_count": 399,
   "metadata": {
    "collapsed": true
   },
   "outputs": [],
   "source": [
    "import statsmodels.api as sm"
   ]
  },
  {
   "cell_type": "code",
   "execution_count": 400,
   "metadata": {
    "collapsed": false
   },
   "outputs": [],
   "source": [
    "x = sm.add_constant(x)"
   ]
  },
  {
   "cell_type": "code",
   "execution_count": 401,
   "metadata": {
    "collapsed": false
   },
   "outputs": [],
   "source": [
    "rates = pd.read_csv('nbsrate.csv', usecols = ['NTACode', 'nbs_rate'])"
   ]
  },
  {
   "cell_type": "code",
   "execution_count": 402,
   "metadata": {
    "collapsed": false
   },
   "outputs": [],
   "source": [
    "rates.sort_values(by='NTACode', inplace=True)"
   ]
  },
  {
   "cell_type": "code",
   "execution_count": 403,
   "metadata": {
    "collapsed": false
   },
   "outputs": [],
   "source": [
    "y = rates.nbs_rate.values"
   ]
  },
  {
   "cell_type": "code",
   "execution_count": 404,
   "metadata": {
    "collapsed": false
   },
   "outputs": [],
   "source": [
    "model = sm.OLS(y,x)"
   ]
  },
  {
   "cell_type": "code",
   "execution_count": 405,
   "metadata": {
    "collapsed": true
   },
   "outputs": [],
   "source": [
    "results = model.fit()"
   ]
  },
  {
   "cell_type": "code",
   "execution_count": 435,
   "metadata": {
    "collapsed": false,
    "scrolled": true
   },
   "outputs": [
    {
     "data": {
      "text/html": [
       "<table class=\"simpletable\">\n",
       "<caption>OLS Regression Results</caption>\n",
       "<tr>\n",
       "  <th>Dep. Variable:</th>            <td>y</td>        <th>  R-squared:         </th> <td>   0.680</td>\n",
       "</tr>\n",
       "<tr>\n",
       "  <th>Model:</th>                   <td>OLS</td>       <th>  Adj. R-squared:    </th> <td>   0.650</td>\n",
       "</tr>\n",
       "<tr>\n",
       "  <th>Method:</th>             <td>Least Squares</td>  <th>  F-statistic:       </th> <td>   22.71</td>\n",
       "</tr>\n",
       "<tr>\n",
       "  <th>Date:</th>             <td>Thu, 16 Jun 2016</td> <th>  Prob (F-statistic):</th> <td>3.12e-34</td>\n",
       "</tr>\n",
       "<tr>\n",
       "  <th>Time:</th>                 <td>23:12:37</td>     <th>  Log-Likelihood:    </th> <td> -1692.7</td>\n",
       "</tr>\n",
       "<tr>\n",
       "  <th>No. Observations:</th>      <td>   188</td>      <th>  AIC:               </th> <td>   3419.</td>\n",
       "</tr>\n",
       "<tr>\n",
       "  <th>Df Residuals:</th>          <td>   171</td>      <th>  BIC:               </th> <td>   3474.</td>\n",
       "</tr>\n",
       "<tr>\n",
       "  <th>Df Model:</th>              <td>    16</td>      <th>                     </th>     <td> </td>   \n",
       "</tr>\n",
       "<tr>\n",
       "  <th>Covariance Type:</th>      <td>nonrobust</td>    <th>                     </th>     <td> </td>   \n",
       "</tr>\n",
       "</table>\n",
       "<table class=\"simpletable\">\n",
       "<tr>\n",
       "      <td></td>         <th>coef</th>     <th>std err</th>      <th>t</th>      <th>P>|t|</th> <th>[95.0% Conf. Int.]</th> \n",
       "</tr>\n",
       "<tr>\n",
       "  <th>const</th>     <td>-3486.5531</td> <td> 9536.372</td> <td>   -0.366</td> <td> 0.715</td> <td>-2.23e+04  1.53e+04</td>\n",
       "</tr>\n",
       "<tr>\n",
       "  <th>MaleP</th>     <td>  -23.4135</td> <td>   75.369</td> <td>   -0.311</td> <td> 0.756</td> <td> -172.187   125.360</td>\n",
       "</tr>\n",
       "<tr>\n",
       "  <th>MdAgeE</th>    <td>   19.4727</td> <td>   64.603</td> <td>    0.301</td> <td> 0.763</td> <td> -108.049   146.995</td>\n",
       "</tr>\n",
       "<tr>\n",
       "  <th>WtNHP</th>     <td>  -13.6752</td> <td>   10.010</td> <td>   -1.366</td> <td> 0.174</td> <td>  -33.433     6.083</td>\n",
       "</tr>\n",
       "<tr>\n",
       "  <th>CvLFUEmP</th>  <td>  369.8042</td> <td>  116.627</td> <td>    3.171</td> <td> 0.002</td> <td>  139.590   600.018</td>\n",
       "</tr>\n",
       "<tr>\n",
       "  <th>MdHHIncE</th>  <td>  -28.6917</td> <td>   31.325</td> <td>   -0.916</td> <td> 0.361</td> <td>  -90.525    33.141</td>\n",
       "</tr>\n",
       "<tr>\n",
       "  <th>Inc_SNAPP</th> <td>   70.1976</td> <td>   38.526</td> <td>    1.822</td> <td> 0.070</td> <td>   -5.851   146.246</td>\n",
       "</tr>\n",
       "<tr>\n",
       "  <th>FamBwPvP</th>  <td>  -47.9858</td> <td>   56.117</td> <td>   -0.855</td> <td> 0.394</td> <td> -158.757    62.786</td>\n",
       "</tr>\n",
       "<tr>\n",
       "  <th>HUE</th>       <td>   35.4252</td> <td>  294.159</td> <td>    0.120</td> <td> 0.904</td> <td> -545.225   616.075</td>\n",
       "</tr>\n",
       "<tr>\n",
       "  <th>VacHUP</th>    <td>  -28.0053</td> <td>  111.529</td> <td>   -0.251</td> <td> 0.802</td> <td> -248.156   192.146</td>\n",
       "</tr>\n",
       "<tr>\n",
       "  <th>BltBf39P</th>  <td>   50.6148</td> <td>   10.573</td> <td>    4.787</td> <td> 0.000</td> <td>   29.745    71.485</td>\n",
       "</tr>\n",
       "<tr>\n",
       "  <th>ROcHUP</th>    <td>    6.5565</td> <td>   22.162</td> <td>    0.296</td> <td> 0.768</td> <td>  -37.190    50.303</td>\n",
       "</tr>\n",
       "<tr>\n",
       "  <th>MdGRE</th>     <td>   -0.2382</td> <td>    1.497</td> <td>   -0.159</td> <td> 0.874</td> <td>   -3.192     2.716</td>\n",
       "</tr>\n",
       "<tr>\n",
       "  <th>HHE</th>       <td>   61.9325</td> <td>  287.026</td> <td>    0.216</td> <td> 0.829</td> <td> -504.638   628.503</td>\n",
       "</tr>\n",
       "<tr>\n",
       "  <th>FamP</th>      <td>  -26.7793</td> <td>   30.489</td> <td>   -0.878</td> <td> 0.381</td> <td>  -86.963    33.405</td>\n",
       "</tr>\n",
       "<tr>\n",
       "  <th>SmHsP</th>     <td>   42.8312</td> <td>   67.196</td> <td>    0.637</td> <td> 0.525</td> <td>  -89.810   175.472</td>\n",
       "</tr>\n",
       "<tr>\n",
       "  <th>NtvP</th>      <td>    8.9945</td> <td>   20.044</td> <td>    0.449</td> <td> 0.654</td> <td>  -30.572    48.561</td>\n",
       "</tr>\n",
       "</table>\n",
       "<table class=\"simpletable\">\n",
       "<tr>\n",
       "  <th>Omnibus:</th>       <td>40.512</td> <th>  Durbin-Watson:     </th> <td>   1.466</td>\n",
       "</tr>\n",
       "<tr>\n",
       "  <th>Prob(Omnibus):</th> <td> 0.000</td> <th>  Jarque-Bera (JB):  </th> <td>  72.251</td>\n",
       "</tr>\n",
       "<tr>\n",
       "  <th>Skew:</th>          <td> 1.075</td> <th>  Prob(JB):          </th> <td>2.05e-16</td>\n",
       "</tr>\n",
       "<tr>\n",
       "  <th>Kurtosis:</th>      <td> 5.145</td> <th>  Cond. No.          </th> <td>8.19e+04</td>\n",
       "</tr>\n",
       "</table>"
      ],
      "text/plain": [
       "<class 'statsmodels.iolib.summary.Summary'>\n",
       "\"\"\"\n",
       "                            OLS Regression Results                            \n",
       "==============================================================================\n",
       "Dep. Variable:                      y   R-squared:                       0.680\n",
       "Model:                            OLS   Adj. R-squared:                  0.650\n",
       "Method:                 Least Squares   F-statistic:                     22.71\n",
       "Date:                Thu, 16 Jun 2016   Prob (F-statistic):           3.12e-34\n",
       "Time:                        23:12:37   Log-Likelihood:                -1692.7\n",
       "No. Observations:                 188   AIC:                             3419.\n",
       "Df Residuals:                     171   BIC:                             3474.\n",
       "Df Model:                          16                                         \n",
       "Covariance Type:            nonrobust                                         \n",
       "==============================================================================\n",
       "                 coef    std err          t      P>|t|      [95.0% Conf. Int.]\n",
       "------------------------------------------------------------------------------\n",
       "const      -3486.5531   9536.372     -0.366      0.715     -2.23e+04  1.53e+04\n",
       "MaleP        -23.4135     75.369     -0.311      0.756      -172.187   125.360\n",
       "MdAgeE        19.4727     64.603      0.301      0.763      -108.049   146.995\n",
       "WtNHP        -13.6752     10.010     -1.366      0.174       -33.433     6.083\n",
       "CvLFUEmP     369.8042    116.627      3.171      0.002       139.590   600.018\n",
       "MdHHIncE     -28.6917     31.325     -0.916      0.361       -90.525    33.141\n",
       "Inc_SNAPP     70.1976     38.526      1.822      0.070        -5.851   146.246\n",
       "FamBwPvP     -47.9858     56.117     -0.855      0.394      -158.757    62.786\n",
       "HUE           35.4252    294.159      0.120      0.904      -545.225   616.075\n",
       "VacHUP       -28.0053    111.529     -0.251      0.802      -248.156   192.146\n",
       "BltBf39P      50.6148     10.573      4.787      0.000        29.745    71.485\n",
       "ROcHUP         6.5565     22.162      0.296      0.768       -37.190    50.303\n",
       "MdGRE         -0.2382      1.497     -0.159      0.874        -3.192     2.716\n",
       "HHE           61.9325    287.026      0.216      0.829      -504.638   628.503\n",
       "FamP         -26.7793     30.489     -0.878      0.381       -86.963    33.405\n",
       "SmHsP         42.8312     67.196      0.637      0.525       -89.810   175.472\n",
       "NtvP           8.9945     20.044      0.449      0.654       -30.572    48.561\n",
       "==============================================================================\n",
       "Omnibus:                       40.512   Durbin-Watson:                   1.466\n",
       "Prob(Omnibus):                  0.000   Jarque-Bera (JB):               72.251\n",
       "Skew:                           1.075   Prob(JB):                     2.05e-16\n",
       "Kurtosis:                       5.145   Cond. No.                     8.19e+04\n",
       "==============================================================================\n",
       "\n",
       "Warnings:\n",
       "[1] Standard Errors assume that the covariance matrix of the errors is correctly specified.\n",
       "[2] The condition number is large, 8.19e+04. This might indicate that there are\n",
       "strong multicollinearity or other numerical problems.\n",
       "\"\"\""
      ]
     },
     "execution_count": 435,
     "metadata": {},
     "output_type": "execute_result"
    }
   ],
   "source": [
    "results.summary()"
   ]
  },
  {
   "cell_type": "markdown",
   "metadata": {},
   "source": [
    "##### without housing variables"
   ]
  },
  {
   "cell_type": "code",
   "execution_count": 407,
   "metadata": {
    "collapsed": true
   },
   "outputs": [],
   "source": [
    "nhmodel = sm.OLS(y, non_housing)"
   ]
  },
  {
   "cell_type": "code",
   "execution_count": 408,
   "metadata": {
    "collapsed": true
   },
   "outputs": [],
   "source": [
    "nhresults = nhmodel.fit()"
   ]
  },
  {
   "cell_type": "code",
   "execution_count": 409,
   "metadata": {
    "collapsed": false
   },
   "outputs": [
    {
     "data": {
      "text/html": [
       "<table class=\"simpletable\">\n",
       "<caption>OLS Regression Results</caption>\n",
       "<tr>\n",
       "  <th>Dep. Variable:</th>            <td>y</td>        <th>  R-squared:         </th> <td>   0.946</td> \n",
       "</tr>\n",
       "<tr>\n",
       "  <th>Model:</th>                   <td>OLS</td>       <th>  Adj. R-squared:    </th> <td>   0.942</td> \n",
       "</tr>\n",
       "<tr>\n",
       "  <th>Method:</th>             <td>Least Squares</td>  <th>  F-statistic:       </th> <td>   257.1</td> \n",
       "</tr>\n",
       "<tr>\n",
       "  <th>Date:</th>             <td>Thu, 16 Jun 2016</td> <th>  Prob (F-statistic):</th> <td>1.07e-104</td>\n",
       "</tr>\n",
       "<tr>\n",
       "  <th>Time:</th>                 <td>22:33:40</td>     <th>  Log-Likelihood:    </th> <td>  214.41</td> \n",
       "</tr>\n",
       "<tr>\n",
       "  <th>No. Observations:</th>      <td>   188</td>      <th>  AIC:               </th> <td>  -404.8</td> \n",
       "</tr>\n",
       "<tr>\n",
       "  <th>Df Residuals:</th>          <td>   176</td>      <th>  BIC:               </th> <td>  -366.0</td> \n",
       "</tr>\n",
       "<tr>\n",
       "  <th>Df Model:</th>              <td>    12</td>      <th>                     </th>     <td> </td>    \n",
       "</tr>\n",
       "<tr>\n",
       "  <th>Covariance Type:</th>      <td>nonrobust</td>    <th>                     </th>     <td> </td>    \n",
       "</tr>\n",
       "</table>\n",
       "<table class=\"simpletable\">\n",
       "<tr>\n",
       "      <td></td>         <th>coef</th>     <th>std err</th>      <th>t</th>      <th>P>|t|</th> <th>[95.0% Conf. Int.]</th> \n",
       "</tr>\n",
       "<tr>\n",
       "  <th>MaleP</th>     <td>    0.0067</td> <td>    0.002</td> <td>    3.178</td> <td> 0.002</td> <td>    0.003     0.011</td>\n",
       "</tr>\n",
       "<tr>\n",
       "  <th>MdAgeE</th>    <td>   -0.0061</td> <td>    0.002</td> <td>   -2.923</td> <td> 0.004</td> <td>   -0.010    -0.002</td>\n",
       "</tr>\n",
       "<tr>\n",
       "  <th>Pop18plE</th>  <td>   -0.0008</td> <td>    0.002</td> <td>   -0.397</td> <td> 0.692</td> <td>   -0.005     0.003</td>\n",
       "</tr>\n",
       "<tr>\n",
       "  <th>WtNHP</th>     <td> 2.382e-05</td> <td>    0.000</td> <td>    0.064</td> <td> 0.949</td> <td>   -0.001     0.001</td>\n",
       "</tr>\n",
       "<tr>\n",
       "  <th>CvLFUEmP</th>  <td>    0.0209</td> <td>    0.004</td> <td>    4.915</td> <td> 0.000</td> <td>    0.013     0.029</td>\n",
       "</tr>\n",
       "<tr>\n",
       "  <th>MdHHIncE</th>  <td>    0.0014</td> <td>    0.001</td> <td>    1.783</td> <td> 0.076</td> <td>   -0.000     0.003</td>\n",
       "</tr>\n",
       "<tr>\n",
       "  <th>Inc_SNAPP</th> <td>    0.0003</td> <td>    0.001</td> <td>    0.232</td> <td> 0.817</td> <td>   -0.003     0.003</td>\n",
       "</tr>\n",
       "<tr>\n",
       "  <th>FamBwPvP</th>  <td>    0.0025</td> <td>    0.002</td> <td>    1.209</td> <td> 0.228</td> <td>   -0.002     0.007</td>\n",
       "</tr>\n",
       "<tr>\n",
       "  <th>HHE</th>       <td> 3.404e-05</td> <td>    0.002</td> <td>    0.015</td> <td> 0.988</td> <td>   -0.005     0.005</td>\n",
       "</tr>\n",
       "<tr>\n",
       "  <th>FamP</th>      <td>   -0.0027</td> <td>    0.001</td> <td>   -3.006</td> <td> 0.003</td> <td>   -0.005    -0.001</td>\n",
       "</tr>\n",
       "<tr>\n",
       "  <th>SmHsP</th>     <td>    0.0026</td> <td>    0.002</td> <td>    1.346</td> <td> 0.180</td> <td>   -0.001     0.006</td>\n",
       "</tr>\n",
       "<tr>\n",
       "  <th>NtvP</th>      <td>   -0.0005</td> <td>    0.001</td> <td>   -0.811</td> <td> 0.418</td> <td>   -0.002     0.001</td>\n",
       "</tr>\n",
       "</table>\n",
       "<table class=\"simpletable\">\n",
       "<tr>\n",
       "  <th>Omnibus:</th>       <td>54.465</td> <th>  Durbin-Watson:     </th> <td>   1.882</td>\n",
       "</tr>\n",
       "<tr>\n",
       "  <th>Prob(Omnibus):</th> <td> 0.000</td> <th>  Jarque-Bera (JB):  </th> <td> 340.236</td>\n",
       "</tr>\n",
       "<tr>\n",
       "  <th>Skew:</th>          <td> 0.891</td> <th>  Prob(JB):          </th> <td>1.31e-74</td>\n",
       "</tr>\n",
       "<tr>\n",
       "  <th>Kurtosis:</th>      <td> 9.345</td> <th>  Cond. No.          </th> <td>    112.</td>\n",
       "</tr>\n",
       "</table>"
      ],
      "text/plain": [
       "<class 'statsmodels.iolib.summary.Summary'>\n",
       "\"\"\"\n",
       "                            OLS Regression Results                            \n",
       "==============================================================================\n",
       "Dep. Variable:                      y   R-squared:                       0.946\n",
       "Model:                            OLS   Adj. R-squared:                  0.942\n",
       "Method:                 Least Squares   F-statistic:                     257.1\n",
       "Date:                Thu, 16 Jun 2016   Prob (F-statistic):          1.07e-104\n",
       "Time:                        22:33:40   Log-Likelihood:                 214.41\n",
       "No. Observations:                 188   AIC:                            -404.8\n",
       "Df Residuals:                     176   BIC:                            -366.0\n",
       "Df Model:                          12                                         \n",
       "Covariance Type:            nonrobust                                         \n",
       "==============================================================================\n",
       "                 coef    std err          t      P>|t|      [95.0% Conf. Int.]\n",
       "------------------------------------------------------------------------------\n",
       "MaleP          0.0067      0.002      3.178      0.002         0.003     0.011\n",
       "MdAgeE        -0.0061      0.002     -2.923      0.004        -0.010    -0.002\n",
       "Pop18plE      -0.0008      0.002     -0.397      0.692        -0.005     0.003\n",
       "WtNHP       2.382e-05      0.000      0.064      0.949        -0.001     0.001\n",
       "CvLFUEmP       0.0209      0.004      4.915      0.000         0.013     0.029\n",
       "MdHHIncE       0.0014      0.001      1.783      0.076        -0.000     0.003\n",
       "Inc_SNAPP      0.0003      0.001      0.232      0.817        -0.003     0.003\n",
       "FamBwPvP       0.0025      0.002      1.209      0.228        -0.002     0.007\n",
       "HHE         3.404e-05      0.002      0.015      0.988        -0.005     0.005\n",
       "FamP          -0.0027      0.001     -3.006      0.003        -0.005    -0.001\n",
       "SmHsP          0.0026      0.002      1.346      0.180        -0.001     0.006\n",
       "NtvP          -0.0005      0.001     -0.811      0.418        -0.002     0.001\n",
       "==============================================================================\n",
       "Omnibus:                       54.465   Durbin-Watson:                   1.882\n",
       "Prob(Omnibus):                  0.000   Jarque-Bera (JB):              340.236\n",
       "Skew:                           0.891   Prob(JB):                     1.31e-74\n",
       "Kurtosis:                       9.345   Cond. No.                         112.\n",
       "==============================================================================\n",
       "\n",
       "Warnings:\n",
       "[1] Standard Errors assume that the covariance matrix of the errors is correctly specified.\n",
       "\"\"\""
      ]
     },
     "execution_count": 409,
     "metadata": {},
     "output_type": "execute_result"
    }
   ],
   "source": [
    "nhresults.summary()"
   ]
  },
  {
   "cell_type": "markdown",
   "metadata": {},
   "source": [
    "#### counts model"
   ]
  },
  {
   "cell_type": "code",
   "execution_count": 410,
   "metadata": {
    "collapsed": true
   },
   "outputs": [],
   "source": [
    "counts = pd.read_csv('nbsrate.csv', usecols = ['NTACode', 'nbs_totals'])"
   ]
  },
  {
   "cell_type": "code",
   "execution_count": 411,
   "metadata": {
    "collapsed": true
   },
   "outputs": [],
   "source": [
    "counts.sort_values(by='NTACode', inplace=True)"
   ]
  },
  {
   "cell_type": "code",
   "execution_count": 412,
   "metadata": {
    "collapsed": false
   },
   "outputs": [],
   "source": [
    "y1 = counts.nbs_totals.values"
   ]
  },
  {
   "cell_type": "code",
   "execution_count": 413,
   "metadata": {
    "collapsed": true
   },
   "outputs": [],
   "source": [
    "countsmodel = sm.OLS(y1,x)"
   ]
  },
  {
   "cell_type": "code",
   "execution_count": 414,
   "metadata": {
    "collapsed": false
   },
   "outputs": [],
   "source": [
    "countsresults = countsmodel.fit()"
   ]
  },
  {
   "cell_type": "code",
   "execution_count": 415,
   "metadata": {
    "collapsed": false
   },
   "outputs": [
    {
     "data": {
      "text/html": [
       "<table class=\"simpletable\">\n",
       "<caption>OLS Regression Results</caption>\n",
       "<tr>\n",
       "  <th>Dep. Variable:</th>            <td>y</td>        <th>  R-squared:         </th> <td>   0.783</td>\n",
       "</tr>\n",
       "<tr>\n",
       "  <th>Model:</th>                   <td>OLS</td>       <th>  Adj. R-squared:    </th> <td>   0.763</td>\n",
       "</tr>\n",
       "<tr>\n",
       "  <th>Method:</th>             <td>Least Squares</td>  <th>  F-statistic:       </th> <td>   38.67</td>\n",
       "</tr>\n",
       "<tr>\n",
       "  <th>Date:</th>             <td>Thu, 16 Jun 2016</td> <th>  Prob (F-statistic):</th> <td>2.61e-48</td>\n",
       "</tr>\n",
       "<tr>\n",
       "  <th>Time:</th>                 <td>22:33:40</td>     <th>  Log-Likelihood:    </th> <td> -1768.6</td>\n",
       "</tr>\n",
       "<tr>\n",
       "  <th>No. Observations:</th>      <td>   188</td>      <th>  AIC:               </th> <td>   3571.</td>\n",
       "</tr>\n",
       "<tr>\n",
       "  <th>Df Residuals:</th>          <td>   171</td>      <th>  BIC:               </th> <td>   3626.</td>\n",
       "</tr>\n",
       "<tr>\n",
       "  <th>Df Model:</th>              <td>    16</td>      <th>                     </th>     <td> </td>   \n",
       "</tr>\n",
       "<tr>\n",
       "  <th>Covariance Type:</th>      <td>nonrobust</td>    <th>                     </th>     <td> </td>   \n",
       "</tr>\n",
       "</table>\n",
       "<table class=\"simpletable\">\n",
       "<tr>\n",
       "      <td></td>         <th>coef</th>     <th>std err</th>      <th>t</th>      <th>P>|t|</th> <th>[95.0% Conf. Int.]</th> \n",
       "</tr>\n",
       "<tr>\n",
       "  <th>const</th>     <td>-4374.9958</td> <td> 1.43e+04</td> <td>   -0.306</td> <td> 0.760</td> <td>-3.26e+04  2.38e+04</td>\n",
       "</tr>\n",
       "<tr>\n",
       "  <th>MaleP</th>     <td>  193.3886</td> <td>  112.826</td> <td>    1.714</td> <td> 0.088</td> <td>  -29.322   416.099</td>\n",
       "</tr>\n",
       "<tr>\n",
       "  <th>MdAgeE</th>    <td> -119.1147</td> <td>   96.709</td> <td>   -1.232</td> <td> 0.220</td> <td> -310.012    71.783</td>\n",
       "</tr>\n",
       "<tr>\n",
       "  <th>WtNHP</th>     <td>  -18.9302</td> <td>   14.984</td> <td>   -1.263</td> <td> 0.208</td> <td>  -48.508    10.647</td>\n",
       "</tr>\n",
       "<tr>\n",
       "  <th>CvLFUEmP</th>  <td>  582.9498</td> <td>  174.588</td> <td>    3.339</td> <td> 0.001</td> <td>  238.324   927.576</td>\n",
       "</tr>\n",
       "<tr>\n",
       "  <th>MdHHIncE</th>  <td>   27.8090</td> <td>   46.893</td> <td>    0.593</td> <td> 0.554</td> <td>  -64.754   120.372</td>\n",
       "</tr>\n",
       "<tr>\n",
       "  <th>Inc_SNAPP</th> <td>   35.0588</td> <td>   57.673</td> <td>    0.608</td> <td> 0.544</td> <td>  -78.785   148.902</td>\n",
       "</tr>\n",
       "<tr>\n",
       "  <th>FamBwPvP</th>  <td>    6.0900</td> <td>   84.006</td> <td>    0.072</td> <td> 0.942</td> <td> -159.733   171.913</td>\n",
       "</tr>\n",
       "<tr>\n",
       "  <th>HUE</th>       <td>-1019.1317</td> <td>  440.349</td> <td>   -2.314</td> <td> 0.022</td> <td>-1888.352  -149.911</td>\n",
       "</tr>\n",
       "<tr>\n",
       "  <th>VacHUP</th>    <td>  434.2350</td> <td>  166.957</td> <td>    2.601</td> <td> 0.010</td> <td>  104.674   763.796</td>\n",
       "</tr>\n",
       "<tr>\n",
       "  <th>BltBf39P</th>  <td>   80.6606</td> <td>   15.827</td> <td>    5.096</td> <td> 0.000</td> <td>   49.418   111.903</td>\n",
       "</tr>\n",
       "<tr>\n",
       "  <th>ROcHUP</th>    <td>  -33.3407</td> <td>   33.176</td> <td>   -1.005</td> <td> 0.316</td> <td>  -98.828    32.146</td>\n",
       "</tr>\n",
       "<tr>\n",
       "  <th>MdGRE</th>     <td>   -1.8196</td> <td>    2.240</td> <td>   -0.812</td> <td> 0.418</td> <td>   -6.242     2.603</td>\n",
       "</tr>\n",
       "<tr>\n",
       "  <th>HHE</th>       <td> 1288.8797</td> <td>  429.672</td> <td>    3.000</td> <td> 0.003</td> <td>  440.736  2137.023</td>\n",
       "</tr>\n",
       "<tr>\n",
       "  <th>FamP</th>      <td>  -67.4944</td> <td>   45.642</td> <td>   -1.479</td> <td> 0.141</td> <td> -157.589    22.600</td>\n",
       "</tr>\n",
       "<tr>\n",
       "  <th>SmHsP</th>     <td>  112.8470</td> <td>  100.591</td> <td>    1.122</td> <td> 0.264</td> <td>  -85.714   311.408</td>\n",
       "</tr>\n",
       "<tr>\n",
       "  <th>NtvP</th>      <td>  -27.7151</td> <td>   30.006</td> <td>   -0.924</td> <td> 0.357</td> <td>  -86.945    31.515</td>\n",
       "</tr>\n",
       "</table>\n",
       "<table class=\"simpletable\">\n",
       "<tr>\n",
       "  <th>Omnibus:</th>       <td>35.927</td> <th>  Durbin-Watson:     </th> <td>   1.705</td>\n",
       "</tr>\n",
       "<tr>\n",
       "  <th>Prob(Omnibus):</th> <td> 0.000</td> <th>  Jarque-Bera (JB):  </th> <td>  97.978</td>\n",
       "</tr>\n",
       "<tr>\n",
       "  <th>Skew:</th>          <td> 0.781</td> <th>  Prob(JB):          </th> <td>5.30e-22</td>\n",
       "</tr>\n",
       "<tr>\n",
       "  <th>Kurtosis:</th>      <td> 6.173</td> <th>  Cond. No.          </th> <td>8.19e+04</td>\n",
       "</tr>\n",
       "</table>"
      ],
      "text/plain": [
       "<class 'statsmodels.iolib.summary.Summary'>\n",
       "\"\"\"\n",
       "                            OLS Regression Results                            \n",
       "==============================================================================\n",
       "Dep. Variable:                      y   R-squared:                       0.783\n",
       "Model:                            OLS   Adj. R-squared:                  0.763\n",
       "Method:                 Least Squares   F-statistic:                     38.67\n",
       "Date:                Thu, 16 Jun 2016   Prob (F-statistic):           2.61e-48\n",
       "Time:                        22:33:40   Log-Likelihood:                -1768.6\n",
       "No. Observations:                 188   AIC:                             3571.\n",
       "Df Residuals:                     171   BIC:                             3626.\n",
       "Df Model:                          16                                         \n",
       "Covariance Type:            nonrobust                                         \n",
       "==============================================================================\n",
       "                 coef    std err          t      P>|t|      [95.0% Conf. Int.]\n",
       "------------------------------------------------------------------------------\n",
       "const      -4374.9958   1.43e+04     -0.306      0.760     -3.26e+04  2.38e+04\n",
       "MaleP        193.3886    112.826      1.714      0.088       -29.322   416.099\n",
       "MdAgeE      -119.1147     96.709     -1.232      0.220      -310.012    71.783\n",
       "WtNHP        -18.9302     14.984     -1.263      0.208       -48.508    10.647\n",
       "CvLFUEmP     582.9498    174.588      3.339      0.001       238.324   927.576\n",
       "MdHHIncE      27.8090     46.893      0.593      0.554       -64.754   120.372\n",
       "Inc_SNAPP     35.0588     57.673      0.608      0.544       -78.785   148.902\n",
       "FamBwPvP       6.0900     84.006      0.072      0.942      -159.733   171.913\n",
       "HUE        -1019.1317    440.349     -2.314      0.022     -1888.352  -149.911\n",
       "VacHUP       434.2350    166.957      2.601      0.010       104.674   763.796\n",
       "BltBf39P      80.6606     15.827      5.096      0.000        49.418   111.903\n",
       "ROcHUP       -33.3407     33.176     -1.005      0.316       -98.828    32.146\n",
       "MdGRE         -1.8196      2.240     -0.812      0.418        -6.242     2.603\n",
       "HHE         1288.8797    429.672      3.000      0.003       440.736  2137.023\n",
       "FamP         -67.4944     45.642     -1.479      0.141      -157.589    22.600\n",
       "SmHsP        112.8470    100.591      1.122      0.264       -85.714   311.408\n",
       "NtvP         -27.7151     30.006     -0.924      0.357       -86.945    31.515\n",
       "==============================================================================\n",
       "Omnibus:                       35.927   Durbin-Watson:                   1.705\n",
       "Prob(Omnibus):                  0.000   Jarque-Bera (JB):               97.978\n",
       "Skew:                           0.781   Prob(JB):                     5.30e-22\n",
       "Kurtosis:                       6.173   Cond. No.                     8.19e+04\n",
       "==============================================================================\n",
       "\n",
       "Warnings:\n",
       "[1] Standard Errors assume that the covariance matrix of the errors is correctly specified.\n",
       "[2] The condition number is large, 8.19e+04. This might indicate that there are\n",
       "strong multicollinearity or other numerical problems.\n",
       "\"\"\""
      ]
     },
     "execution_count": 415,
     "metadata": {},
     "output_type": "execute_result"
    }
   ],
   "source": [
    "countsresults.summary()"
   ]
  },
  {
   "cell_type": "markdown",
   "metadata": {},
   "source": [
    "#### housing complaints only"
   ]
  },
  {
   "cell_type": "code",
   "execution_count": 416,
   "metadata": {
    "collapsed": false
   },
   "outputs": [],
   "source": [
    "complaints = pd.read_pickle('noparks.pkl')"
   ]
  },
  {
   "cell_type": "code",
   "execution_count": 417,
   "metadata": {
    "collapsed": false
   },
   "outputs": [
    {
     "data": {
      "text/html": [
       "<div>\n",
       "<table border=\"1\" class=\"dataframe\">\n",
       "  <thead>\n",
       "    <tr style=\"text-align: right;\">\n",
       "      <th></th>\n",
       "      <th>date</th>\n",
       "      <th>agency</th>\n",
       "      <th>category</th>\n",
       "      <th>description</th>\n",
       "      <th>zip</th>\n",
       "      <th>address</th>\n",
       "      <th>city</th>\n",
       "      <th>boro</th>\n",
       "      <th>x</th>\n",
       "      <th>y</th>\n",
       "      <th>ntacode</th>\n",
       "      <th>ntaname</th>\n",
       "    </tr>\n",
       "  </thead>\n",
       "  <tbody>\n",
       "    <tr>\n",
       "      <th>0</th>\n",
       "      <td>2015-01-01 00:00:50</td>\n",
       "      <td>NYPD</td>\n",
       "      <td>blocked driveway</td>\n",
       "      <td>no access</td>\n",
       "      <td>11420</td>\n",
       "      <td>123-19 135 STREET</td>\n",
       "      <td>SOUTH OZONE PARK</td>\n",
       "      <td>QUEENS</td>\n",
       "      <td>1038733.0</td>\n",
       "      <td>184971.0</td>\n",
       "      <td>QN55</td>\n",
       "      <td>South Ozone Park</td>\n",
       "    </tr>\n",
       "    <tr>\n",
       "      <th>1</th>\n",
       "      <td>2015-01-01 00:01:29</td>\n",
       "      <td>NYPD</td>\n",
       "      <td>blocked driveway</td>\n",
       "      <td>no access</td>\n",
       "      <td>10466</td>\n",
       "      <td>931 EAST 226 STREET</td>\n",
       "      <td>BRONX</td>\n",
       "      <td>BRONX</td>\n",
       "      <td>1024816.0</td>\n",
       "      <td>262237.0</td>\n",
       "      <td>BX44</td>\n",
       "      <td>Williamsbridge-Olinville</td>\n",
       "    </tr>\n",
       "    <tr>\n",
       "      <th>2</th>\n",
       "      <td>2015-01-01 00:01:30</td>\n",
       "      <td>NYPD</td>\n",
       "      <td>noise - street/sidewalk</td>\n",
       "      <td>loud music/party</td>\n",
       "      <td>10031</td>\n",
       "      <td>508 WEST 139 STREET</td>\n",
       "      <td>NEW YORK</td>\n",
       "      <td>MANHATTAN</td>\n",
       "      <td>997847.0</td>\n",
       "      <td>238629.0</td>\n",
       "      <td>MN04</td>\n",
       "      <td>Hamilton Heights</td>\n",
       "    </tr>\n",
       "    <tr>\n",
       "      <th>3</th>\n",
       "      <td>2015-01-01 00:04:28</td>\n",
       "      <td>NYPD</td>\n",
       "      <td>noise - vehicle</td>\n",
       "      <td>car/truck horn</td>\n",
       "      <td>10468</td>\n",
       "      <td>2555 SEDGWICK AVENUE</td>\n",
       "      <td>BRONX</td>\n",
       "      <td>BRONX</td>\n",
       "      <td>1009923.0</td>\n",
       "      <td>255465.0</td>\n",
       "      <td>BX30</td>\n",
       "      <td>Kingsbridge Heights</td>\n",
       "    </tr>\n",
       "    <tr>\n",
       "      <th>4</th>\n",
       "      <td>2015-01-01 00:04:44</td>\n",
       "      <td>NYPD</td>\n",
       "      <td>illegal parking</td>\n",
       "      <td>blocked hydrant</td>\n",
       "      <td>11421</td>\n",
       "      <td>84-25 85 ROAD</td>\n",
       "      <td>WOODHAVEN</td>\n",
       "      <td>QUEENS</td>\n",
       "      <td>1022809.0</td>\n",
       "      <td>192567.0</td>\n",
       "      <td>QN53</td>\n",
       "      <td>Woodhaven</td>\n",
       "    </tr>\n",
       "  </tbody>\n",
       "</table>\n",
       "</div>"
      ],
      "text/plain": [
       "                 date agency                 category       description  \\\n",
       "0 2015-01-01 00:00:50   NYPD         blocked driveway         no access   \n",
       "1 2015-01-01 00:01:29   NYPD         blocked driveway         no access   \n",
       "2 2015-01-01 00:01:30   NYPD  noise - street/sidewalk  loud music/party   \n",
       "3 2015-01-01 00:04:28   NYPD          noise - vehicle    car/truck horn   \n",
       "4 2015-01-01 00:04:44   NYPD          illegal parking   blocked hydrant   \n",
       "\n",
       "     zip               address              city       boro          x  \\\n",
       "0  11420     123-19 135 STREET  SOUTH OZONE PARK     QUEENS  1038733.0   \n",
       "1  10466   931 EAST 226 STREET             BRONX      BRONX  1024816.0   \n",
       "2  10031   508 WEST 139 STREET          NEW YORK  MANHATTAN   997847.0   \n",
       "3  10468  2555 SEDGWICK AVENUE             BRONX      BRONX  1009923.0   \n",
       "4  11421         84-25 85 ROAD         WOODHAVEN     QUEENS  1022809.0   \n",
       "\n",
       "          y ntacode                   ntaname  \n",
       "0  184971.0    QN55          South Ozone Park  \n",
       "1  262237.0    BX44  Williamsbridge-Olinville  \n",
       "2  238629.0    MN04          Hamilton Heights  \n",
       "3  255465.0    BX30       Kingsbridge Heights  \n",
       "4  192567.0    QN53                 Woodhaven  "
      ]
     },
     "execution_count": 417,
     "metadata": {},
     "output_type": "execute_result"
    }
   ],
   "source": [
    "complaints.head()"
   ]
  },
  {
   "cell_type": "code",
   "execution_count": 418,
   "metadata": {
    "collapsed": false,
    "scrolled": true
   },
   "outputs": [
    {
     "data": {
      "text/plain": [
       "{'adopt-a-basket',\n",
       " 'agency',\n",
       " 'air quality',\n",
       " 'animal abuse',\n",
       " 'animal facility - no permit',\n",
       " 'animal in a park',\n",
       " 'appliance',\n",
       " 'asbestos',\n",
       " 'beach/pool/sauna complaint',\n",
       " 'best/site safety',\n",
       " 'bike rack condition',\n",
       " 'bike/roller/skate chronic',\n",
       " 'blocked driveway',\n",
       " 'boilers',\n",
       " 'bottled water',\n",
       " 'bridge condition',\n",
       " 'broken muni meter',\n",
       " 'building condition',\n",
       " 'building/use',\n",
       " 'bus stop shelter placement',\n",
       " 'calorie labeling',\n",
       " 'city vehicle placard complaint',\n",
       " 'collection truck noise',\n",
       " 'construction',\n",
       " 'consumer complaint',\n",
       " 'cranes and derricks',\n",
       " 'curb condition',\n",
       " 'damaged tree',\n",
       " 'day care',\n",
       " 'dead tree',\n",
       " 'derelict bicycle',\n",
       " 'derelict vehicle',\n",
       " 'dirty conditions',\n",
       " 'disorderly youth',\n",
       " 'door/window',\n",
       " 'dpr internal',\n",
       " 'drinking',\n",
       " 'drinking water',\n",
       " 'eap inspection - f59',\n",
       " 'electric',\n",
       " 'electrical',\n",
       " 'elevator',\n",
       " 'emergency response team (ert)',\n",
       " 'fire alarm',\n",
       " 'fire safety director - f58',\n",
       " 'flooring/stairs',\n",
       " 'foam ban enforcement',\n",
       " 'food establishment',\n",
       " 'food poisoning',\n",
       " 'for hire vehicle complaint',\n",
       " 'for hire vehicle report',\n",
       " 'forensic engineering',\n",
       " 'found property',\n",
       " 'gas station discharge lines',\n",
       " 'general',\n",
       " 'general construction/plumbing',\n",
       " 'graffiti',\n",
       " 'harboring bees/wasps',\n",
       " 'hazardous materials',\n",
       " 'hazmat storage/use',\n",
       " 'heat/hot water',\n",
       " 'highway condition',\n",
       " 'homeless encampment',\n",
       " 'homeless person assistance',\n",
       " 'illegal animal kept as pet',\n",
       " 'illegal animal sold',\n",
       " 'illegal fireworks',\n",
       " 'illegal parking',\n",
       " 'illegal tree damage',\n",
       " 'indoor air quality',\n",
       " 'indoor sewage',\n",
       " 'industrial waste',\n",
       " 'interior demo',\n",
       " 'investigations and discipline (iad)',\n",
       " 'laboratory',\n",
       " 'lead',\n",
       " 'legal services provider complaint',\n",
       " 'lifeguard',\n",
       " 'literature request',\n",
       " 'litter basket / request',\n",
       " 'maintenance or facility',\n",
       " 'miscellaneous categories',\n",
       " 'missed collection (all materials)',\n",
       " 'mold',\n",
       " 'municipal parking facility',\n",
       " 'new tree request',\n",
       " 'noise',\n",
       " 'noise - commercial',\n",
       " 'noise - helicopter',\n",
       " 'noise - house of worship',\n",
       " 'noise - park',\n",
       " 'noise - residential',\n",
       " 'noise - street/sidewalk',\n",
       " 'noise - vehicle',\n",
       " 'non-emergency police matter',\n",
       " 'non-residential heat',\n",
       " 'open flame permit',\n",
       " 'other enforcement',\n",
       " 'outside building',\n",
       " 'overflowing litter baskets',\n",
       " 'overflowing recycling baskets',\n",
       " 'overgrown tree/branches',\n",
       " 'paint/plaster',\n",
       " 'panhandling',\n",
       " 'plant',\n",
       " 'plumbing',\n",
       " 'poison ivy',\n",
       " 'posting advertisement',\n",
       " 'public assembly',\n",
       " 'public payphone complaint',\n",
       " 'public toilet',\n",
       " 'radioactive material',\n",
       " 'rangehood',\n",
       " 'recycling enforcement',\n",
       " 'rodent',\n",
       " 'root/sewer/sidewalk condition',\n",
       " 'safety',\n",
       " 'sanitation condition',\n",
       " 'scaffold safety',\n",
       " 'school maintenance',\n",
       " 'senior center complaint',\n",
       " 'sewer',\n",
       " 'sidewalk condition',\n",
       " 'smoking',\n",
       " 'snow',\n",
       " 'special enforcement',\n",
       " 'special natural area district (snad)',\n",
       " 'special projects inspection team (spit)',\n",
       " 'sprinkler - mechanical',\n",
       " 'squeegee',\n",
       " 'srde',\n",
       " 'stalled sites',\n",
       " 'standing water',\n",
       " 'standpipe - mechanical',\n",
       " 'street condition',\n",
       " 'street light condition',\n",
       " 'street sign',\n",
       " 'sweeping/inadequate',\n",
       " 'sweeping/missed',\n",
       " 'tanning',\n",
       " 'tattooing',\n",
       " 'taxi complaint',\n",
       " 'taxi report',\n",
       " 'traffic',\n",
       " 'traffic signal condition',\n",
       " 'transportation provider complaint',\n",
       " 'unleashed dog',\n",
       " 'unsanitary animal facility',\n",
       " 'unsanitary animal pvt property',\n",
       " 'unsanitary condition',\n",
       " 'unsanitary pigeon condition',\n",
       " 'urinating in public',\n",
       " 'vacant apartment',\n",
       " 'vacant lot',\n",
       " 'vending',\n",
       " 'violation of park rules',\n",
       " 'water conservation',\n",
       " 'water leak',\n",
       " 'water quality',\n",
       " 'water system',\n",
       " 'window guard',\n",
       " 'x-ray machine/equipment'}"
      ]
     },
     "execution_count": 418,
     "metadata": {},
     "output_type": "execute_result"
    }
   ],
   "source": [
    "set(complaints.category.values)"
   ]
  },
  {
   "cell_type": "code",
   "execution_count": 419,
   "metadata": {
    "collapsed": false,
    "scrolled": true
   },
   "outputs": [
    {
     "data": {
      "text/html": [
       "<div>\n",
       "<table border=\"1\" class=\"dataframe\">\n",
       "  <thead>\n",
       "    <tr style=\"text-align: right;\">\n",
       "      <th></th>\n",
       "      <th>date</th>\n",
       "      <th>agency</th>\n",
       "      <th>category</th>\n",
       "      <th>description</th>\n",
       "      <th>zip</th>\n",
       "      <th>address</th>\n",
       "      <th>city</th>\n",
       "      <th>boro</th>\n",
       "      <th>x</th>\n",
       "      <th>y</th>\n",
       "      <th>ntacode</th>\n",
       "      <th>ntaname</th>\n",
       "    </tr>\n",
       "  </thead>\n",
       "  <tbody>\n",
       "    <tr>\n",
       "      <th>1050</th>\n",
       "      <td>2015-01-01 09:15:18</td>\n",
       "      <td>HPD</td>\n",
       "      <td>unsanitary condition</td>\n",
       "      <td>garbage/recycling storage</td>\n",
       "      <td>11223</td>\n",
       "      <td>1888 WEST    9 STREET</td>\n",
       "      <td>BROOKLYN</td>\n",
       "      <td>BROOKLYN</td>\n",
       "      <td>989430.0</td>\n",
       "      <td>158366.0</td>\n",
       "      <td>BK29</td>\n",
       "      <td>Bensonhurst East</td>\n",
       "    </tr>\n",
       "    <tr>\n",
       "      <th>1325</th>\n",
       "      <td>2015-01-01 12:46:56</td>\n",
       "      <td>HPD</td>\n",
       "      <td>unsanitary condition</td>\n",
       "      <td>pests</td>\n",
       "      <td>11238</td>\n",
       "      <td>520 LINCOLN PLACE</td>\n",
       "      <td>BROOKLYN</td>\n",
       "      <td>BROOKLYN</td>\n",
       "      <td>995534.0</td>\n",
       "      <td>184061.0</td>\n",
       "      <td>BK61</td>\n",
       "      <td>Crown Heights North</td>\n",
       "    </tr>\n",
       "    <tr>\n",
       "      <th>1570</th>\n",
       "      <td>2015-01-01 15:19:37</td>\n",
       "      <td>HPD</td>\n",
       "      <td>unsanitary condition</td>\n",
       "      <td>garbage/recycling storage</td>\n",
       "      <td>11212</td>\n",
       "      <td>123 EAST   92 STREET</td>\n",
       "      <td>BROOKLYN</td>\n",
       "      <td>BROOKLYN</td>\n",
       "      <td>1004476.0</td>\n",
       "      <td>180288.0</td>\n",
       "      <td>BK96</td>\n",
       "      <td>Rugby-Remsen Village</td>\n",
       "    </tr>\n",
       "    <tr>\n",
       "      <th>2008</th>\n",
       "      <td>2015-01-01 20:18:50</td>\n",
       "      <td>HPD</td>\n",
       "      <td>unsanitary condition</td>\n",
       "      <td>pests</td>\n",
       "      <td>10016</td>\n",
       "      <td>460 2 AVENUE</td>\n",
       "      <td>NEW YORK</td>\n",
       "      <td>MANHATTAN</td>\n",
       "      <td>989950.0</td>\n",
       "      <td>208832.0</td>\n",
       "      <td>MN20</td>\n",
       "      <td>Murray Hill-Kips Bay</td>\n",
       "    </tr>\n",
       "    <tr>\n",
       "      <th>2405</th>\n",
       "      <td>2015-01-02 00:00:00</td>\n",
       "      <td>HPD</td>\n",
       "      <td>unsanitary condition</td>\n",
       "      <td>mold</td>\n",
       "      <td>11691</td>\n",
       "      <td>439 BEACH 22 STREET</td>\n",
       "      <td>Far Rockaway</td>\n",
       "      <td>QUEENS</td>\n",
       "      <td>1051814.0</td>\n",
       "      <td>157597.0</td>\n",
       "      <td>QN15</td>\n",
       "      <td>Far Rockaway-Bayswater</td>\n",
       "    </tr>\n",
       "  </tbody>\n",
       "</table>\n",
       "</div>"
      ],
      "text/plain": [
       "                    date agency              category  \\\n",
       "1050 2015-01-01 09:15:18    HPD  unsanitary condition   \n",
       "1325 2015-01-01 12:46:56    HPD  unsanitary condition   \n",
       "1570 2015-01-01 15:19:37    HPD  unsanitary condition   \n",
       "2008 2015-01-01 20:18:50    HPD  unsanitary condition   \n",
       "2405 2015-01-02 00:00:00    HPD  unsanitary condition   \n",
       "\n",
       "                    description    zip                address          city  \\\n",
       "1050  garbage/recycling storage  11223  1888 WEST    9 STREET      BROOKLYN   \n",
       "1325                      pests  11238      520 LINCOLN PLACE      BROOKLYN   \n",
       "1570  garbage/recycling storage  11212   123 EAST   92 STREET      BROOKLYN   \n",
       "2008                      pests  10016           460 2 AVENUE      NEW YORK   \n",
       "2405                       mold  11691    439 BEACH 22 STREET  Far Rockaway   \n",
       "\n",
       "           boro          x         y ntacode                 ntaname  \n",
       "1050   BROOKLYN   989430.0  158366.0    BK29        Bensonhurst East  \n",
       "1325   BROOKLYN   995534.0  184061.0    BK61     Crown Heights North  \n",
       "1570   BROOKLYN  1004476.0  180288.0    BK96    Rugby-Remsen Village  \n",
       "2008  MANHATTAN   989950.0  208832.0    MN20    Murray Hill-Kips Bay  \n",
       "2405     QUEENS  1051814.0  157597.0    QN15  Far Rockaway-Bayswater  "
      ]
     },
     "execution_count": 419,
     "metadata": {},
     "output_type": "execute_result"
    }
   ],
   "source": [
    "complaints[complaints.category=='unsanitary condition'][0:5]"
   ]
  },
  {
   "cell_type": "code",
   "execution_count": 420,
   "metadata": {
    "collapsed": false
   },
   "outputs": [],
   "source": [
    "h_agencies = complaints[complaints.agency=='HPD']"
   ]
  },
  {
   "cell_type": "code",
   "execution_count": 437,
   "metadata": {
    "collapsed": false
   },
   "outputs": [
    {
     "data": {
      "text/plain": [
       "616017"
      ]
     },
     "execution_count": 437,
     "metadata": {},
     "output_type": "execute_result"
    }
   ],
   "source": [
    "len(h_agencies)"
   ]
  },
  {
   "cell_type": "code",
   "execution_count": 421,
   "metadata": {
    "collapsed": false,
    "scrolled": true
   },
   "outputs": [
    {
     "data": {
      "text/plain": [
       "{'agency',\n",
       " 'appliance',\n",
       " 'door/window',\n",
       " 'electric',\n",
       " 'elevator',\n",
       " 'flooring/stairs',\n",
       " 'general',\n",
       " 'heat/hot water',\n",
       " 'outside building',\n",
       " 'paint/plaster',\n",
       " 'plumbing',\n",
       " 'safety',\n",
       " 'unsanitary condition',\n",
       " 'vacant apartment',\n",
       " 'water leak'}"
      ]
     },
     "execution_count": 421,
     "metadata": {},
     "output_type": "execute_result"
    }
   ],
   "source": [
    "set(h_agencies.category.values)"
   ]
  },
  {
   "cell_type": "code",
   "execution_count": 422,
   "metadata": {
    "collapsed": false
   },
   "outputs": [],
   "source": [
    "hcount = pd.DataFrame(h_agencies.groupby('ntacode')['category'].count()).reset_index()"
   ]
  },
  {
   "cell_type": "code",
   "execution_count": 423,
   "metadata": {
    "collapsed": true
   },
   "outputs": [],
   "source": [
    "hy = hcount.category.values"
   ]
  },
  {
   "cell_type": "code",
   "execution_count": 424,
   "metadata": {
    "collapsed": true
   },
   "outputs": [],
   "source": [
    "hmodel = sm.OLS(hy, x)"
   ]
  },
  {
   "cell_type": "code",
   "execution_count": 425,
   "metadata": {
    "collapsed": false
   },
   "outputs": [],
   "source": [
    "results = hmodel.fit_regularized()"
   ]
  },
  {
   "cell_type": "code",
   "execution_count": 426,
   "metadata": {
    "collapsed": false
   },
   "outputs": [
    {
     "data": {
      "text/html": [
       "<table class=\"simpletable\">\n",
       "<caption>OLS Regression Results</caption>\n",
       "<tr>\n",
       "  <th>Dep. Variable:</th>            <td>y</td>        <th>  R-squared:         </th> <td>   0.680</td>\n",
       "</tr>\n",
       "<tr>\n",
       "  <th>Model:</th>                   <td>OLS</td>       <th>  Adj. R-squared:    </th> <td>   0.650</td>\n",
       "</tr>\n",
       "<tr>\n",
       "  <th>Method:</th>             <td>Least Squares</td>  <th>  F-statistic:       </th> <td>   22.71</td>\n",
       "</tr>\n",
       "<tr>\n",
       "  <th>Date:</th>             <td>Thu, 16 Jun 2016</td> <th>  Prob (F-statistic):</th> <td>3.12e-34</td>\n",
       "</tr>\n",
       "<tr>\n",
       "  <th>Time:</th>                 <td>22:34:27</td>     <th>  Log-Likelihood:    </th> <td> -1692.7</td>\n",
       "</tr>\n",
       "<tr>\n",
       "  <th>No. Observations:</th>      <td>   188</td>      <th>  AIC:               </th> <td>   3419.</td>\n",
       "</tr>\n",
       "<tr>\n",
       "  <th>Df Residuals:</th>          <td>   171</td>      <th>  BIC:               </th> <td>   3474.</td>\n",
       "</tr>\n",
       "<tr>\n",
       "  <th>Df Model:</th>              <td>    16</td>      <th>                     </th>     <td> </td>   \n",
       "</tr>\n",
       "<tr>\n",
       "  <th>Covariance Type:</th>      <td>nonrobust</td>    <th>                     </th>     <td> </td>   \n",
       "</tr>\n",
       "</table>\n",
       "<table class=\"simpletable\">\n",
       "<tr>\n",
       "      <td></td>         <th>coef</th>     <th>std err</th>      <th>t</th>      <th>P>|t|</th> <th>[95.0% Conf. Int.]</th> \n",
       "</tr>\n",
       "<tr>\n",
       "  <th>const</th>     <td>-3486.5531</td> <td> 9536.372</td> <td>   -0.366</td> <td> 0.715</td> <td>-2.23e+04  1.53e+04</td>\n",
       "</tr>\n",
       "<tr>\n",
       "  <th>MaleP</th>     <td>  -23.4135</td> <td>   75.369</td> <td>   -0.311</td> <td> 0.756</td> <td> -172.187   125.360</td>\n",
       "</tr>\n",
       "<tr>\n",
       "  <th>MdAgeE</th>    <td>   19.4727</td> <td>   64.603</td> <td>    0.301</td> <td> 0.763</td> <td> -108.049   146.995</td>\n",
       "</tr>\n",
       "<tr>\n",
       "  <th>WtNHP</th>     <td>  -13.6752</td> <td>   10.010</td> <td>   -1.366</td> <td> 0.174</td> <td>  -33.433     6.083</td>\n",
       "</tr>\n",
       "<tr>\n",
       "  <th>CvLFUEmP</th>  <td>  369.8042</td> <td>  116.627</td> <td>    3.171</td> <td> 0.002</td> <td>  139.590   600.018</td>\n",
       "</tr>\n",
       "<tr>\n",
       "  <th>MdHHIncE</th>  <td>  -28.6917</td> <td>   31.325</td> <td>   -0.916</td> <td> 0.361</td> <td>  -90.525    33.141</td>\n",
       "</tr>\n",
       "<tr>\n",
       "  <th>Inc_SNAPP</th> <td>   70.1976</td> <td>   38.526</td> <td>    1.822</td> <td> 0.070</td> <td>   -5.851   146.246</td>\n",
       "</tr>\n",
       "<tr>\n",
       "  <th>FamBwPvP</th>  <td>  -47.9858</td> <td>   56.117</td> <td>   -0.855</td> <td> 0.394</td> <td> -158.757    62.786</td>\n",
       "</tr>\n",
       "<tr>\n",
       "  <th>HUE</th>       <td>   35.4252</td> <td>  294.159</td> <td>    0.120</td> <td> 0.904</td> <td> -545.225   616.075</td>\n",
       "</tr>\n",
       "<tr>\n",
       "  <th>VacHUP</th>    <td>  -28.0053</td> <td>  111.529</td> <td>   -0.251</td> <td> 0.802</td> <td> -248.156   192.146</td>\n",
       "</tr>\n",
       "<tr>\n",
       "  <th>BltBf39P</th>  <td>   50.6148</td> <td>   10.573</td> <td>    4.787</td> <td> 0.000</td> <td>   29.745    71.485</td>\n",
       "</tr>\n",
       "<tr>\n",
       "  <th>ROcHUP</th>    <td>    6.5565</td> <td>   22.162</td> <td>    0.296</td> <td> 0.768</td> <td>  -37.190    50.303</td>\n",
       "</tr>\n",
       "<tr>\n",
       "  <th>MdGRE</th>     <td>   -0.2382</td> <td>    1.497</td> <td>   -0.159</td> <td> 0.874</td> <td>   -3.192     2.716</td>\n",
       "</tr>\n",
       "<tr>\n",
       "  <th>HHE</th>       <td>   61.9325</td> <td>  287.026</td> <td>    0.216</td> <td> 0.829</td> <td> -504.638   628.503</td>\n",
       "</tr>\n",
       "<tr>\n",
       "  <th>FamP</th>      <td>  -26.7793</td> <td>   30.489</td> <td>   -0.878</td> <td> 0.381</td> <td>  -86.963    33.405</td>\n",
       "</tr>\n",
       "<tr>\n",
       "  <th>SmHsP</th>     <td>   42.8312</td> <td>   67.196</td> <td>    0.637</td> <td> 0.525</td> <td>  -89.810   175.472</td>\n",
       "</tr>\n",
       "<tr>\n",
       "  <th>NtvP</th>      <td>    8.9945</td> <td>   20.044</td> <td>    0.449</td> <td> 0.654</td> <td>  -30.572    48.561</td>\n",
       "</tr>\n",
       "</table>\n",
       "<table class=\"simpletable\">\n",
       "<tr>\n",
       "  <th>Omnibus:</th>       <td>40.512</td> <th>  Durbin-Watson:     </th> <td>   1.466</td>\n",
       "</tr>\n",
       "<tr>\n",
       "  <th>Prob(Omnibus):</th> <td> 0.000</td> <th>  Jarque-Bera (JB):  </th> <td>  72.251</td>\n",
       "</tr>\n",
       "<tr>\n",
       "  <th>Skew:</th>          <td> 1.075</td> <th>  Prob(JB):          </th> <td>2.05e-16</td>\n",
       "</tr>\n",
       "<tr>\n",
       "  <th>Kurtosis:</th>      <td> 5.145</td> <th>  Cond. No.          </th> <td>8.19e+04</td>\n",
       "</tr>\n",
       "</table>"
      ],
      "text/plain": [
       "<class 'statsmodels.iolib.summary.Summary'>\n",
       "\"\"\"\n",
       "                            OLS Regression Results                            \n",
       "==============================================================================\n",
       "Dep. Variable:                      y   R-squared:                       0.680\n",
       "Model:                            OLS   Adj. R-squared:                  0.650\n",
       "Method:                 Least Squares   F-statistic:                     22.71\n",
       "Date:                Thu, 16 Jun 2016   Prob (F-statistic):           3.12e-34\n",
       "Time:                        22:34:27   Log-Likelihood:                -1692.7\n",
       "No. Observations:                 188   AIC:                             3419.\n",
       "Df Residuals:                     171   BIC:                             3474.\n",
       "Df Model:                          16                                         \n",
       "Covariance Type:            nonrobust                                         \n",
       "==============================================================================\n",
       "                 coef    std err          t      P>|t|      [95.0% Conf. Int.]\n",
       "------------------------------------------------------------------------------\n",
       "const      -3486.5531   9536.372     -0.366      0.715     -2.23e+04  1.53e+04\n",
       "MaleP        -23.4135     75.369     -0.311      0.756      -172.187   125.360\n",
       "MdAgeE        19.4727     64.603      0.301      0.763      -108.049   146.995\n",
       "WtNHP        -13.6752     10.010     -1.366      0.174       -33.433     6.083\n",
       "CvLFUEmP     369.8042    116.627      3.171      0.002       139.590   600.018\n",
       "MdHHIncE     -28.6917     31.325     -0.916      0.361       -90.525    33.141\n",
       "Inc_SNAPP     70.1976     38.526      1.822      0.070        -5.851   146.246\n",
       "FamBwPvP     -47.9858     56.117     -0.855      0.394      -158.757    62.786\n",
       "HUE           35.4252    294.159      0.120      0.904      -545.225   616.075\n",
       "VacHUP       -28.0053    111.529     -0.251      0.802      -248.156   192.146\n",
       "BltBf39P      50.6148     10.573      4.787      0.000        29.745    71.485\n",
       "ROcHUP         6.5565     22.162      0.296      0.768       -37.190    50.303\n",
       "MdGRE         -0.2382      1.497     -0.159      0.874        -3.192     2.716\n",
       "HHE           61.9325    287.026      0.216      0.829      -504.638   628.503\n",
       "FamP         -26.7793     30.489     -0.878      0.381       -86.963    33.405\n",
       "SmHsP         42.8312     67.196      0.637      0.525       -89.810   175.472\n",
       "NtvP           8.9945     20.044      0.449      0.654       -30.572    48.561\n",
       "==============================================================================\n",
       "Omnibus:                       40.512   Durbin-Watson:                   1.466\n",
       "Prob(Omnibus):                  0.000   Jarque-Bera (JB):               72.251\n",
       "Skew:                           1.075   Prob(JB):                     2.05e-16\n",
       "Kurtosis:                       5.145   Cond. No.                     8.19e+04\n",
       "==============================================================================\n",
       "\n",
       "Warnings:\n",
       "[1] Standard Errors assume that the covariance matrix of the errors is correctly specified.\n",
       "[2] The condition number is large, 8.19e+04. This might indicate that there are\n",
       "strong multicollinearity or other numerical problems.\n",
       "\"\"\""
      ]
     },
     "execution_count": 426,
     "metadata": {},
     "output_type": "execute_result"
    }
   ],
   "source": [
    "results.summary()"
   ]
  },
  {
   "cell_type": "code",
   "execution_count": 427,
   "metadata": {
    "collapsed": false
   },
   "outputs": [
    {
     "data": {
      "text/html": [
       "<div>\n",
       "<table border=\"1\" class=\"dataframe\">\n",
       "  <thead>\n",
       "    <tr style=\"text-align: right;\">\n",
       "      <th></th>\n",
       "      <th>const</th>\n",
       "      <th>MaleP</th>\n",
       "      <th>MdAgeE</th>\n",
       "      <th>WtNHP</th>\n",
       "      <th>CvLFUEmP</th>\n",
       "      <th>MdHHIncE</th>\n",
       "      <th>Inc_SNAPP</th>\n",
       "      <th>FamBwPvP</th>\n",
       "      <th>HUE</th>\n",
       "      <th>VacHUP</th>\n",
       "      <th>BltBf39P</th>\n",
       "      <th>ROcHUP</th>\n",
       "      <th>MdGRE</th>\n",
       "      <th>HHE</th>\n",
       "      <th>FamP</th>\n",
       "      <th>SmHsP</th>\n",
       "      <th>NtvP</th>\n",
       "    </tr>\n",
       "  </thead>\n",
       "  <tbody>\n",
       "    <tr>\n",
       "      <th>0</th>\n",
       "      <td>1</td>\n",
       "      <td>49.4</td>\n",
       "      <td>36.9</td>\n",
       "      <td>76.2</td>\n",
       "      <td>4.7</td>\n",
       "      <td>38.139401</td>\n",
       "      <td>2.4</td>\n",
       "      <td>2.8</td>\n",
       "      <td>-7.543279</td>\n",
       "      <td>12.1</td>\n",
       "      <td>66.7</td>\n",
       "      <td>55.6</td>\n",
       "      <td>1893.0</td>\n",
       "      <td>-8.346969</td>\n",
       "      <td>42.4</td>\n",
       "      <td>83.0</td>\n",
       "      <td>80.5</td>\n",
       "    </tr>\n",
       "    <tr>\n",
       "      <th>1</th>\n",
       "      <td>1</td>\n",
       "      <td>45.9</td>\n",
       "      <td>43.8</td>\n",
       "      <td>69.8</td>\n",
       "      <td>5.4</td>\n",
       "      <td>-4.163237</td>\n",
       "      <td>17.7</td>\n",
       "      <td>13.5</td>\n",
       "      <td>14.286709</td>\n",
       "      <td>8.0</td>\n",
       "      <td>26.4</td>\n",
       "      <td>47.5</td>\n",
       "      <td>1077.0</td>\n",
       "      <td>15.187060</td>\n",
       "      <td>65.7</td>\n",
       "      <td>93.7</td>\n",
       "      <td>54.7</td>\n",
       "    </tr>\n",
       "    <tr>\n",
       "      <th>2</th>\n",
       "      <td>1</td>\n",
       "      <td>46.9</td>\n",
       "      <td>44.5</td>\n",
       "      <td>69.2</td>\n",
       "      <td>4.2</td>\n",
       "      <td>-20.515903</td>\n",
       "      <td>31.2</td>\n",
       "      <td>20.1</td>\n",
       "      <td>-3.554733</td>\n",
       "      <td>9.0</td>\n",
       "      <td>35.5</td>\n",
       "      <td>70.5</td>\n",
       "      <td>1043.0</td>\n",
       "      <td>-3.604842</td>\n",
       "      <td>56.2</td>\n",
       "      <td>88.4</td>\n",
       "      <td>31.1</td>\n",
       "    </tr>\n",
       "    <tr>\n",
       "      <th>3</th>\n",
       "      <td>1</td>\n",
       "      <td>45.8</td>\n",
       "      <td>42.0</td>\n",
       "      <td>30.2</td>\n",
       "      <td>10.2</td>\n",
       "      <td>-25.465790</td>\n",
       "      <td>50.3</td>\n",
       "      <td>28.0</td>\n",
       "      <td>-8.496307</td>\n",
       "      <td>10.2</td>\n",
       "      <td>16.3</td>\n",
       "      <td>83.4</td>\n",
       "      <td>619.0</td>\n",
       "      <td>-8.934011</td>\n",
       "      <td>61.7</td>\n",
       "      <td>92.1</td>\n",
       "      <td>64.4</td>\n",
       "    </tr>\n",
       "    <tr>\n",
       "      <th>4</th>\n",
       "      <td>1</td>\n",
       "      <td>40.8</td>\n",
       "      <td>57.2</td>\n",
       "      <td>97.3</td>\n",
       "      <td>4.3</td>\n",
       "      <td>-12.277755</td>\n",
       "      <td>24.9</td>\n",
       "      <td>8.2</td>\n",
       "      <td>-13.500067</td>\n",
       "      <td>6.3</td>\n",
       "      <td>4.8</td>\n",
       "      <td>58.7</td>\n",
       "      <td>905.0</td>\n",
       "      <td>-13.461925</td>\n",
       "      <td>53.6</td>\n",
       "      <td>96.8</td>\n",
       "      <td>39.2</td>\n",
       "    </tr>\n",
       "  </tbody>\n",
       "</table>\n",
       "</div>"
      ],
      "text/plain": [
       "   const  MaleP  MdAgeE  WtNHP  CvLFUEmP   MdHHIncE  Inc_SNAPP  FamBwPvP  \\\n",
       "0      1   49.4    36.9   76.2       4.7  38.139401        2.4       2.8   \n",
       "1      1   45.9    43.8   69.8       5.4  -4.163237       17.7      13.5   \n",
       "2      1   46.9    44.5   69.2       4.2 -20.515903       31.2      20.1   \n",
       "3      1   45.8    42.0   30.2      10.2 -25.465790       50.3      28.0   \n",
       "4      1   40.8    57.2   97.3       4.3 -12.277755       24.9       8.2   \n",
       "\n",
       "         HUE  VacHUP  BltBf39P  ROcHUP   MdGRE        HHE  FamP  SmHsP  NtvP  \n",
       "0  -7.543279    12.1      66.7    55.6  1893.0  -8.346969  42.4   83.0  80.5  \n",
       "1  14.286709     8.0      26.4    47.5  1077.0  15.187060  65.7   93.7  54.7  \n",
       "2  -3.554733     9.0      35.5    70.5  1043.0  -3.604842  56.2   88.4  31.1  \n",
       "3  -8.496307    10.2      16.3    83.4   619.0  -8.934011  61.7   92.1  64.4  \n",
       "4 -13.500067     6.3       4.8    58.7   905.0 -13.461925  53.6   96.8  39.2  "
      ]
     },
     "execution_count": 427,
     "metadata": {},
     "output_type": "execute_result"
    }
   ],
   "source": [
    "x.head()"
   ]
  },
  {
   "cell_type": "code",
   "execution_count": 428,
   "metadata": {
    "collapsed": true
   },
   "outputs": [],
   "source": [
    "xnew = x.drop(['Inc_SNAPP', 'CvLFUEmP'], axis=1)"
   ]
  },
  {
   "cell_type": "code",
   "execution_count": 429,
   "metadata": {
    "collapsed": true
   },
   "outputs": [],
   "source": [
    "h2model = sm.OLS(hy, xnew)"
   ]
  },
  {
   "cell_type": "code",
   "execution_count": 430,
   "metadata": {
    "collapsed": true
   },
   "outputs": [],
   "source": [
    "h2results = h2model.fit()"
   ]
  },
  {
   "cell_type": "code",
   "execution_count": 431,
   "metadata": {
    "collapsed": false
   },
   "outputs": [
    {
     "data": {
      "text/html": [
       "<table class=\"simpletable\">\n",
       "<caption>OLS Regression Results</caption>\n",
       "<tr>\n",
       "  <th>Dep. Variable:</th>            <td>y</td>        <th>  R-squared:         </th> <td>   0.644</td>\n",
       "</tr>\n",
       "<tr>\n",
       "  <th>Model:</th>                   <td>OLS</td>       <th>  Adj. R-squared:    </th> <td>   0.615</td>\n",
       "</tr>\n",
       "<tr>\n",
       "  <th>Method:</th>             <td>Least Squares</td>  <th>  F-statistic:       </th> <td>   22.37</td>\n",
       "</tr>\n",
       "<tr>\n",
       "  <th>Date:</th>             <td>Thu, 16 Jun 2016</td> <th>  Prob (F-statistic):</th> <td>8.25e-32</td>\n",
       "</tr>\n",
       "<tr>\n",
       "  <th>Time:</th>                 <td>22:34:27</td>     <th>  Log-Likelihood:    </th> <td> -1702.7</td>\n",
       "</tr>\n",
       "<tr>\n",
       "  <th>No. Observations:</th>      <td>   188</td>      <th>  AIC:               </th> <td>   3435.</td>\n",
       "</tr>\n",
       "<tr>\n",
       "  <th>Df Residuals:</th>          <td>   173</td>      <th>  BIC:               </th> <td>   3484.</td>\n",
       "</tr>\n",
       "<tr>\n",
       "  <th>Df Model:</th>              <td>    14</td>      <th>                     </th>     <td> </td>   \n",
       "</tr>\n",
       "<tr>\n",
       "  <th>Covariance Type:</th>      <td>nonrobust</td>    <th>                     </th>     <td> </td>   \n",
       "</tr>\n",
       "</table>\n",
       "<table class=\"simpletable\">\n",
       "<tr>\n",
       "      <td></td>        <th>coef</th>     <th>std err</th>      <th>t</th>      <th>P>|t|</th> <th>[95.0% Conf. Int.]</th> \n",
       "</tr>\n",
       "<tr>\n",
       "  <th>const</th>    <td>-1.018e+04</td> <td> 9925.182</td> <td>   -1.025</td> <td> 0.307</td> <td>-2.98e+04  9412.593</td>\n",
       "</tr>\n",
       "<tr>\n",
       "  <th>MaleP</th>    <td>  -64.0695</td> <td>   78.285</td> <td>   -0.818</td> <td> 0.414</td> <td> -218.586    90.447</td>\n",
       "</tr>\n",
       "<tr>\n",
       "  <th>MdAgeE</th>   <td>   82.1859</td> <td>   66.266</td> <td>    1.240</td> <td> 0.217</td> <td>  -48.607   212.979</td>\n",
       "</tr>\n",
       "<tr>\n",
       "  <th>WtNHP</th>    <td>  -35.8577</td> <td>    9.223</td> <td>   -3.888</td> <td> 0.000</td> <td>  -54.061   -17.654</td>\n",
       "</tr>\n",
       "<tr>\n",
       "  <th>MdHHIncE</th> <td>  -42.8058</td> <td>   32.396</td> <td>   -1.321</td> <td> 0.188</td> <td> -106.748    21.137</td>\n",
       "</tr>\n",
       "<tr>\n",
       "  <th>FamBwPvP</th> <td>   28.7307</td> <td>   44.620</td> <td>    0.644</td> <td> 0.520</td> <td>  -59.339   116.801</td>\n",
       "</tr>\n",
       "<tr>\n",
       "  <th>HUE</th>      <td>  -71.0260</td> <td>  308.002</td> <td>   -0.231</td> <td> 0.818</td> <td> -678.952   536.900</td>\n",
       "</tr>\n",
       "<tr>\n",
       "  <th>VacHUP</th>   <td>   10.6097</td> <td>  116.821</td> <td>    0.091</td> <td> 0.928</td> <td> -219.967   241.187</td>\n",
       "</tr>\n",
       "<tr>\n",
       "  <th>BltBf39P</th> <td>   57.3330</td> <td>   10.757</td> <td>    5.330</td> <td> 0.000</td> <td>   36.102    78.564</td>\n",
       "</tr>\n",
       "<tr>\n",
       "  <th>ROcHUP</th>   <td>   30.3255</td> <td>   22.926</td> <td>    1.323</td> <td> 0.188</td> <td>  -14.925    75.576</td>\n",
       "</tr>\n",
       "<tr>\n",
       "  <th>MdGRE</th>    <td>    0.7885</td> <td>    1.555</td> <td>    0.507</td> <td> 0.613</td> <td>   -2.280     3.857</td>\n",
       "</tr>\n",
       "<tr>\n",
       "  <th>HHE</th>      <td>  159.4940</td> <td>  300.493</td> <td>    0.531</td> <td> 0.596</td> <td> -433.611   752.599</td>\n",
       "</tr>\n",
       "<tr>\n",
       "  <th>FamP</th>     <td>   -3.1156</td> <td>   30.965</td> <td>   -0.101</td> <td> 0.920</td> <td>  -64.233    58.002</td>\n",
       "</tr>\n",
       "<tr>\n",
       "  <th>SmHsP</th>    <td>   76.4978</td> <td>   68.845</td> <td>    1.111</td> <td> 0.268</td> <td>  -59.386   212.382</td>\n",
       "</tr>\n",
       "<tr>\n",
       "  <th>NtvP</th>     <td>   38.3017</td> <td>   20.360</td> <td>    1.881</td> <td> 0.062</td> <td>   -1.884    78.487</td>\n",
       "</tr>\n",
       "</table>\n",
       "<table class=\"simpletable\">\n",
       "<tr>\n",
       "  <th>Omnibus:</th>       <td>44.628</td> <th>  Durbin-Watson:     </th> <td>   1.428</td>\n",
       "</tr>\n",
       "<tr>\n",
       "  <th>Prob(Omnibus):</th> <td> 0.000</td> <th>  Jarque-Bera (JB):  </th> <td>  82.236</td>\n",
       "</tr>\n",
       "<tr>\n",
       "  <th>Skew:</th>          <td> 1.164</td> <th>  Prob(JB):          </th> <td>1.39e-18</td>\n",
       "</tr>\n",
       "<tr>\n",
       "  <th>Kurtosis:</th>      <td> 5.253</td> <th>  Cond. No.          </th> <td>8.13e+04</td>\n",
       "</tr>\n",
       "</table>"
      ],
      "text/plain": [
       "<class 'statsmodels.iolib.summary.Summary'>\n",
       "\"\"\"\n",
       "                            OLS Regression Results                            \n",
       "==============================================================================\n",
       "Dep. Variable:                      y   R-squared:                       0.644\n",
       "Model:                            OLS   Adj. R-squared:                  0.615\n",
       "Method:                 Least Squares   F-statistic:                     22.37\n",
       "Date:                Thu, 16 Jun 2016   Prob (F-statistic):           8.25e-32\n",
       "Time:                        22:34:27   Log-Likelihood:                -1702.7\n",
       "No. Observations:                 188   AIC:                             3435.\n",
       "Df Residuals:                     173   BIC:                             3484.\n",
       "Df Model:                          14                                         \n",
       "Covariance Type:            nonrobust                                         \n",
       "==============================================================================\n",
       "                 coef    std err          t      P>|t|      [95.0% Conf. Int.]\n",
       "------------------------------------------------------------------------------\n",
       "const      -1.018e+04   9925.182     -1.025      0.307     -2.98e+04  9412.593\n",
       "MaleP        -64.0695     78.285     -0.818      0.414      -218.586    90.447\n",
       "MdAgeE        82.1859     66.266      1.240      0.217       -48.607   212.979\n",
       "WtNHP        -35.8577      9.223     -3.888      0.000       -54.061   -17.654\n",
       "MdHHIncE     -42.8058     32.396     -1.321      0.188      -106.748    21.137\n",
       "FamBwPvP      28.7307     44.620      0.644      0.520       -59.339   116.801\n",
       "HUE          -71.0260    308.002     -0.231      0.818      -678.952   536.900\n",
       "VacHUP        10.6097    116.821      0.091      0.928      -219.967   241.187\n",
       "BltBf39P      57.3330     10.757      5.330      0.000        36.102    78.564\n",
       "ROcHUP        30.3255     22.926      1.323      0.188       -14.925    75.576\n",
       "MdGRE          0.7885      1.555      0.507      0.613        -2.280     3.857\n",
       "HHE          159.4940    300.493      0.531      0.596      -433.611   752.599\n",
       "FamP          -3.1156     30.965     -0.101      0.920       -64.233    58.002\n",
       "SmHsP         76.4978     68.845      1.111      0.268       -59.386   212.382\n",
       "NtvP          38.3017     20.360      1.881      0.062        -1.884    78.487\n",
       "==============================================================================\n",
       "Omnibus:                       44.628   Durbin-Watson:                   1.428\n",
       "Prob(Omnibus):                  0.000   Jarque-Bera (JB):               82.236\n",
       "Skew:                           1.164   Prob(JB):                     1.39e-18\n",
       "Kurtosis:                       5.253   Cond. No.                     8.13e+04\n",
       "==============================================================================\n",
       "\n",
       "Warnings:\n",
       "[1] Standard Errors assume that the covariance matrix of the errors is correctly specified.\n",
       "[2] The condition number is large, 8.13e+04. This might indicate that there are\n",
       "strong multicollinearity or other numerical problems.\n",
       "\"\"\""
      ]
     },
     "execution_count": 431,
     "metadata": {},
     "output_type": "execute_result"
    }
   ],
   "source": [
    "h2results.summary()"
   ]
  },
  {
   "cell_type": "code",
   "execution_count": 432,
   "metadata": {
    "collapsed": false
   },
   "outputs": [
    {
     "data": {
      "text/html": [
       "<div>\n",
       "<table border=\"1\" class=\"dataframe\">\n",
       "  <thead>\n",
       "    <tr style=\"text-align: right;\">\n",
       "      <th></th>\n",
       "      <th>const</th>\n",
       "      <th>MaleP</th>\n",
       "      <th>MdAgeE</th>\n",
       "      <th>WtNHP</th>\n",
       "      <th>CvLFUEmP</th>\n",
       "      <th>MdHHIncE</th>\n",
       "      <th>Inc_SNAPP</th>\n",
       "      <th>FamBwPvP</th>\n",
       "      <th>HUE</th>\n",
       "      <th>VacHUP</th>\n",
       "      <th>BltBf39P</th>\n",
       "      <th>ROcHUP</th>\n",
       "      <th>MdGRE</th>\n",
       "      <th>HHE</th>\n",
       "      <th>FamP</th>\n",
       "      <th>SmHsP</th>\n",
       "      <th>NtvP</th>\n",
       "    </tr>\n",
       "  </thead>\n",
       "  <tbody>\n",
       "    <tr>\n",
       "      <th>0</th>\n",
       "      <td>1</td>\n",
       "      <td>49.4</td>\n",
       "      <td>36.9</td>\n",
       "      <td>76.2</td>\n",
       "      <td>4.7</td>\n",
       "      <td>38.139401</td>\n",
       "      <td>2.4</td>\n",
       "      <td>2.8</td>\n",
       "      <td>-7.543279</td>\n",
       "      <td>12.1</td>\n",
       "      <td>66.7</td>\n",
       "      <td>55.6</td>\n",
       "      <td>1893.0</td>\n",
       "      <td>-8.346969</td>\n",
       "      <td>42.4</td>\n",
       "      <td>83.0</td>\n",
       "      <td>80.5</td>\n",
       "    </tr>\n",
       "    <tr>\n",
       "      <th>1</th>\n",
       "      <td>1</td>\n",
       "      <td>45.9</td>\n",
       "      <td>43.8</td>\n",
       "      <td>69.8</td>\n",
       "      <td>5.4</td>\n",
       "      <td>-4.163237</td>\n",
       "      <td>17.7</td>\n",
       "      <td>13.5</td>\n",
       "      <td>14.286709</td>\n",
       "      <td>8.0</td>\n",
       "      <td>26.4</td>\n",
       "      <td>47.5</td>\n",
       "      <td>1077.0</td>\n",
       "      <td>15.187060</td>\n",
       "      <td>65.7</td>\n",
       "      <td>93.7</td>\n",
       "      <td>54.7</td>\n",
       "    </tr>\n",
       "    <tr>\n",
       "      <th>2</th>\n",
       "      <td>1</td>\n",
       "      <td>46.9</td>\n",
       "      <td>44.5</td>\n",
       "      <td>69.2</td>\n",
       "      <td>4.2</td>\n",
       "      <td>-20.515903</td>\n",
       "      <td>31.2</td>\n",
       "      <td>20.1</td>\n",
       "      <td>-3.554733</td>\n",
       "      <td>9.0</td>\n",
       "      <td>35.5</td>\n",
       "      <td>70.5</td>\n",
       "      <td>1043.0</td>\n",
       "      <td>-3.604842</td>\n",
       "      <td>56.2</td>\n",
       "      <td>88.4</td>\n",
       "      <td>31.1</td>\n",
       "    </tr>\n",
       "    <tr>\n",
       "      <th>3</th>\n",
       "      <td>1</td>\n",
       "      <td>45.8</td>\n",
       "      <td>42.0</td>\n",
       "      <td>30.2</td>\n",
       "      <td>10.2</td>\n",
       "      <td>-25.465790</td>\n",
       "      <td>50.3</td>\n",
       "      <td>28.0</td>\n",
       "      <td>-8.496307</td>\n",
       "      <td>10.2</td>\n",
       "      <td>16.3</td>\n",
       "      <td>83.4</td>\n",
       "      <td>619.0</td>\n",
       "      <td>-8.934011</td>\n",
       "      <td>61.7</td>\n",
       "      <td>92.1</td>\n",
       "      <td>64.4</td>\n",
       "    </tr>\n",
       "    <tr>\n",
       "      <th>4</th>\n",
       "      <td>1</td>\n",
       "      <td>40.8</td>\n",
       "      <td>57.2</td>\n",
       "      <td>97.3</td>\n",
       "      <td>4.3</td>\n",
       "      <td>-12.277755</td>\n",
       "      <td>24.9</td>\n",
       "      <td>8.2</td>\n",
       "      <td>-13.500067</td>\n",
       "      <td>6.3</td>\n",
       "      <td>4.8</td>\n",
       "      <td>58.7</td>\n",
       "      <td>905.0</td>\n",
       "      <td>-13.461925</td>\n",
       "      <td>53.6</td>\n",
       "      <td>96.8</td>\n",
       "      <td>39.2</td>\n",
       "    </tr>\n",
       "  </tbody>\n",
       "</table>\n",
       "</div>"
      ],
      "text/plain": [
       "   const  MaleP  MdAgeE  WtNHP  CvLFUEmP   MdHHIncE  Inc_SNAPP  FamBwPvP  \\\n",
       "0      1   49.4    36.9   76.2       4.7  38.139401        2.4       2.8   \n",
       "1      1   45.9    43.8   69.8       5.4  -4.163237       17.7      13.5   \n",
       "2      1   46.9    44.5   69.2       4.2 -20.515903       31.2      20.1   \n",
       "3      1   45.8    42.0   30.2      10.2 -25.465790       50.3      28.0   \n",
       "4      1   40.8    57.2   97.3       4.3 -12.277755       24.9       8.2   \n",
       "\n",
       "         HUE  VacHUP  BltBf39P  ROcHUP   MdGRE        HHE  FamP  SmHsP  NtvP  \n",
       "0  -7.543279    12.1      66.7    55.6  1893.0  -8.346969  42.4   83.0  80.5  \n",
       "1  14.286709     8.0      26.4    47.5  1077.0  15.187060  65.7   93.7  54.7  \n",
       "2  -3.554733     9.0      35.5    70.5  1043.0  -3.604842  56.2   88.4  31.1  \n",
       "3  -8.496307    10.2      16.3    83.4   619.0  -8.934011  61.7   92.1  64.4  \n",
       "4 -13.500067     6.3       4.8    58.7   905.0 -13.461925  53.6   96.8  39.2  "
      ]
     },
     "execution_count": 432,
     "metadata": {},
     "output_type": "execute_result"
    }
   ],
   "source": [
    "x.head()"
   ]
  },
  {
   "cell_type": "code",
   "execution_count": 433,
   "metadata": {
    "collapsed": false
   },
   "outputs": [],
   "source": [
    "cutx = x[['const', 'WtNHP', 'CvLFUEmP', 'BltBf39P', 'SmHsP', 'MdHHIncE', 'ROcHUP', 'FamP']]"
   ]
  },
  {
   "cell_type": "code",
   "execution_count": 434,
   "metadata": {
    "collapsed": false
   },
   "outputs": [
    {
     "ename": "KeyError",
     "evalue": "\"['Pop18plE'] not in index\"",
     "output_type": "error",
     "traceback": [
      "\u001b[1;31m---------------------------------------------------------------------------\u001b[0m",
      "\u001b[1;31mKeyError\u001b[0m                                  Traceback (most recent call last)",
      "\u001b[1;32m<ipython-input-434-aff0c0a7a222>\u001b[0m in \u001b[0;36m<module>\u001b[1;34m()\u001b[0m\n\u001b[1;32m----> 1\u001b[1;33m \u001b[0mcutx\u001b[0m \u001b[1;33m=\u001b[0m \u001b[0mx\u001b[0m\u001b[1;33m[\u001b[0m\u001b[1;33m[\u001b[0m\u001b[1;34m'const'\u001b[0m\u001b[1;33m,\u001b[0m \u001b[1;34m'WtNHP'\u001b[0m\u001b[1;33m,\u001b[0m \u001b[1;34m'BltBf39P'\u001b[0m\u001b[1;33m,\u001b[0m \u001b[1;34m'MdHHIncE'\u001b[0m\u001b[1;33m,\u001b[0m \u001b[1;34m'ROcHUP'\u001b[0m\u001b[1;33m,\u001b[0m \u001b[1;34m'FamP'\u001b[0m\u001b[1;33m,\u001b[0m \u001b[1;34m'Pop18plE'\u001b[0m\u001b[1;33m]\u001b[0m\u001b[1;33m]\u001b[0m\u001b[1;33m\u001b[0m\u001b[0m\n\u001b[0m",
      "\u001b[1;32m/usr/local/lib/python2.7/dist-packages/pandas/core/frame.pyc\u001b[0m in \u001b[0;36m__getitem__\u001b[1;34m(self, key)\u001b[0m\n\u001b[0;32m   1989\u001b[0m         \u001b[1;32mif\u001b[0m \u001b[0misinstance\u001b[0m\u001b[1;33m(\u001b[0m\u001b[0mkey\u001b[0m\u001b[1;33m,\u001b[0m \u001b[1;33m(\u001b[0m\u001b[0mSeries\u001b[0m\u001b[1;33m,\u001b[0m \u001b[0mnp\u001b[0m\u001b[1;33m.\u001b[0m\u001b[0mndarray\u001b[0m\u001b[1;33m,\u001b[0m \u001b[0mIndex\u001b[0m\u001b[1;33m,\u001b[0m \u001b[0mlist\u001b[0m\u001b[1;33m)\u001b[0m\u001b[1;33m)\u001b[0m\u001b[1;33m:\u001b[0m\u001b[1;33m\u001b[0m\u001b[0m\n\u001b[0;32m   1990\u001b[0m             \u001b[1;31m# either boolean or fancy integer index\u001b[0m\u001b[1;33m\u001b[0m\u001b[1;33m\u001b[0m\u001b[0m\n\u001b[1;32m-> 1991\u001b[1;33m             \u001b[1;32mreturn\u001b[0m \u001b[0mself\u001b[0m\u001b[1;33m.\u001b[0m\u001b[0m_getitem_array\u001b[0m\u001b[1;33m(\u001b[0m\u001b[0mkey\u001b[0m\u001b[1;33m)\u001b[0m\u001b[1;33m\u001b[0m\u001b[0m\n\u001b[0m\u001b[0;32m   1992\u001b[0m         \u001b[1;32melif\u001b[0m \u001b[0misinstance\u001b[0m\u001b[1;33m(\u001b[0m\u001b[0mkey\u001b[0m\u001b[1;33m,\u001b[0m \u001b[0mDataFrame\u001b[0m\u001b[1;33m)\u001b[0m\u001b[1;33m:\u001b[0m\u001b[1;33m\u001b[0m\u001b[0m\n\u001b[0;32m   1993\u001b[0m             \u001b[1;32mreturn\u001b[0m \u001b[0mself\u001b[0m\u001b[1;33m.\u001b[0m\u001b[0m_getitem_frame\u001b[0m\u001b[1;33m(\u001b[0m\u001b[0mkey\u001b[0m\u001b[1;33m)\u001b[0m\u001b[1;33m\u001b[0m\u001b[0m\n",
      "\u001b[1;32m/usr/local/lib/python2.7/dist-packages/pandas/core/frame.pyc\u001b[0m in \u001b[0;36m_getitem_array\u001b[1;34m(self, key)\u001b[0m\n\u001b[0;32m   2033\u001b[0m             \u001b[1;32mreturn\u001b[0m \u001b[0mself\u001b[0m\u001b[1;33m.\u001b[0m\u001b[0mtake\u001b[0m\u001b[1;33m(\u001b[0m\u001b[0mindexer\u001b[0m\u001b[1;33m,\u001b[0m \u001b[0maxis\u001b[0m\u001b[1;33m=\u001b[0m\u001b[1;36m0\u001b[0m\u001b[1;33m,\u001b[0m \u001b[0mconvert\u001b[0m\u001b[1;33m=\u001b[0m\u001b[0mFalse\u001b[0m\u001b[1;33m)\u001b[0m\u001b[1;33m\u001b[0m\u001b[0m\n\u001b[0;32m   2034\u001b[0m         \u001b[1;32melse\u001b[0m\u001b[1;33m:\u001b[0m\u001b[1;33m\u001b[0m\u001b[0m\n\u001b[1;32m-> 2035\u001b[1;33m             \u001b[0mindexer\u001b[0m \u001b[1;33m=\u001b[0m \u001b[0mself\u001b[0m\u001b[1;33m.\u001b[0m\u001b[0mix\u001b[0m\u001b[1;33m.\u001b[0m\u001b[0m_convert_to_indexer\u001b[0m\u001b[1;33m(\u001b[0m\u001b[0mkey\u001b[0m\u001b[1;33m,\u001b[0m \u001b[0maxis\u001b[0m\u001b[1;33m=\u001b[0m\u001b[1;36m1\u001b[0m\u001b[1;33m)\u001b[0m\u001b[1;33m\u001b[0m\u001b[0m\n\u001b[0m\u001b[0;32m   2036\u001b[0m             \u001b[1;32mreturn\u001b[0m \u001b[0mself\u001b[0m\u001b[1;33m.\u001b[0m\u001b[0mtake\u001b[0m\u001b[1;33m(\u001b[0m\u001b[0mindexer\u001b[0m\u001b[1;33m,\u001b[0m \u001b[0maxis\u001b[0m\u001b[1;33m=\u001b[0m\u001b[1;36m1\u001b[0m\u001b[1;33m,\u001b[0m \u001b[0mconvert\u001b[0m\u001b[1;33m=\u001b[0m\u001b[0mTrue\u001b[0m\u001b[1;33m)\u001b[0m\u001b[1;33m\u001b[0m\u001b[0m\n\u001b[0;32m   2037\u001b[0m \u001b[1;33m\u001b[0m\u001b[0m\n",
      "\u001b[1;32m/usr/local/lib/python2.7/dist-packages/pandas/core/indexing.pyc\u001b[0m in \u001b[0;36m_convert_to_indexer\u001b[1;34m(self, obj, axis, is_setter)\u001b[0m\n\u001b[0;32m   1212\u001b[0m                 \u001b[0mmask\u001b[0m \u001b[1;33m=\u001b[0m \u001b[0mcheck\u001b[0m \u001b[1;33m==\u001b[0m \u001b[1;33m-\u001b[0m\u001b[1;36m1\u001b[0m\u001b[1;33m\u001b[0m\u001b[0m\n\u001b[0;32m   1213\u001b[0m                 \u001b[1;32mif\u001b[0m \u001b[0mmask\u001b[0m\u001b[1;33m.\u001b[0m\u001b[0many\u001b[0m\u001b[1;33m(\u001b[0m\u001b[1;33m)\u001b[0m\u001b[1;33m:\u001b[0m\u001b[1;33m\u001b[0m\u001b[0m\n\u001b[1;32m-> 1214\u001b[1;33m                     \u001b[1;32mraise\u001b[0m \u001b[0mKeyError\u001b[0m\u001b[1;33m(\u001b[0m\u001b[1;34m'%s not in index'\u001b[0m \u001b[1;33m%\u001b[0m \u001b[0mobjarr\u001b[0m\u001b[1;33m[\u001b[0m\u001b[0mmask\u001b[0m\u001b[1;33m]\u001b[0m\u001b[1;33m)\u001b[0m\u001b[1;33m\u001b[0m\u001b[0m\n\u001b[0m\u001b[0;32m   1215\u001b[0m \u001b[1;33m\u001b[0m\u001b[0m\n\u001b[0;32m   1216\u001b[0m                 \u001b[1;32mreturn\u001b[0m \u001b[0m_values_from_object\u001b[0m\u001b[1;33m(\u001b[0m\u001b[0mindexer\u001b[0m\u001b[1;33m)\u001b[0m\u001b[1;33m\u001b[0m\u001b[0m\n",
      "\u001b[1;31mKeyError\u001b[0m: \"['Pop18plE'] not in index\""
     ]
    }
   ],
   "source": [
    "cutx = x[['const', 'WtNHP', 'BltBf39P', 'MdHHIncE', 'ROcHUP', 'FamP', 'Pop18plE']]"
   ]
  },
  {
   "cell_type": "code",
   "execution_count": null,
   "metadata": {
    "collapsed": true
   },
   "outputs": [],
   "source": [
    "nbs = pd.read_csv('nbsrate.csv', usecols=['NTACode', 'SUM'])"
   ]
  },
  {
   "cell_type": "code",
   "execution_count": null,
   "metadata": {
    "collapsed": false
   },
   "outputs": [],
   "source": [
    "nbs.sort_values(by='NTACode', inplace=True)"
   ]
  },
  {
   "cell_type": "code",
   "execution_count": null,
   "metadata": {
    "collapsed": true
   },
   "outputs": [],
   "source": [
    "x['nbsrate'] = nbs.SUM.values"
   ]
  },
  {
   "cell_type": "code",
   "execution_count": null,
   "metadata": {
    "collapsed": true
   },
   "outputs": [],
   "source": [
    "rate = nbs.SUM.values"
   ]
  },
  {
   "cell_type": "code",
   "execution_count": null,
   "metadata": {
    "collapsed": false
   },
   "outputs": [],
   "source": [
    "ratemodel = sm.OLS(hy, rate)\n",
    "rateresults = ratemodel.fit()\n",
    "rateresults.summary()"
   ]
  },
  {
   "cell_type": "code",
   "execution_count": null,
   "metadata": {
    "collapsed": false
   },
   "outputs": [],
   "source": [
    "cutmodel = sm.OLS(hy, x)\n",
    "cutresults = cutmodel.fit()\n",
    "cutresults.summary()"
   ]
  }
 ],
 "metadata": {
  "kernelspec": {
   "display_name": "Python 2",
   "language": "python",
   "name": "python2"
  },
  "language_info": {
   "codemirror_mode": {
    "name": "ipython",
    "version": 2
   },
   "file_extension": ".py",
   "mimetype": "text/x-python",
   "name": "python",
   "nbconvert_exporter": "python",
   "pygments_lexer": "ipython2",
   "version": "2.7.11+"
  }
 },
 "nbformat": 4,
 "nbformat_minor": 0
}
