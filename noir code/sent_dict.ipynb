{
 "cells": [
  {
   "cell_type": "code",
   "execution_count": 7,
   "metadata": {
    "collapsed": true
   },
   "outputs": [],
   "source": [
    "import nltk\n",
    "from nltk import Text, sent_tokenize, word_tokenize, RegexpTokenizer"
   ]
  },
  {
   "cell_type": "code",
   "execution_count": 8,
   "metadata": {
    "collapsed": true
   },
   "outputs": [],
   "source": [
    "import pandas as pd"
   ]
  },
  {
   "cell_type": "code",
   "execution_count": 9,
   "metadata": {
    "collapsed": false
   },
   "outputs": [],
   "source": [
    "import matplotlib\n",
    "import matplotlib.pyplot as plt\n",
    "%matplotlib inline"
   ]
  },
  {
   "cell_type": "code",
   "execution_count": 10,
   "metadata": {
    "collapsed": false
   },
   "outputs": [
    {
     "name": "stdout",
     "output_type": "stream",
     "text": [
      "0.460562129747\n",
      "proportional number of stopwords pages: 127\n"
     ]
    },
    {
     "data": {
      "text/html": [
       "<div>\n",
       "<table border=\"1\" class=\"dataframe\">\n",
       "  <thead>\n",
       "    <tr style=\"text-align: right;\">\n",
       "      <th></th>\n",
       "      <th>word</th>\n",
       "      <th>emotion</th>\n",
       "      <th>sentiment</th>\n",
       "    </tr>\n",
       "  </thead>\n",
       "  <tbody>\n",
       "    <tr>\n",
       "      <th>0</th>\n",
       "      <td>eleven</td>\n",
       "      <td>NaN</td>\n",
       "      <td>NaN</td>\n",
       "    </tr>\n",
       "    <tr>\n",
       "      <th>1</th>\n",
       "      <td>clock</td>\n",
       "      <td>anticipation</td>\n",
       "      <td>0.0</td>\n",
       "    </tr>\n",
       "    <tr>\n",
       "      <th>2</th>\n",
       "      <td>morning</td>\n",
       "      <td>NaN</td>\n",
       "      <td>NaN</td>\n",
       "    </tr>\n",
       "    <tr>\n",
       "      <th>3</th>\n",
       "      <td>mid</td>\n",
       "      <td>0</td>\n",
       "      <td>0.0</td>\n",
       "    </tr>\n",
       "    <tr>\n",
       "      <th>4</th>\n",
       "      <td>october</td>\n",
       "      <td>NaN</td>\n",
       "      <td>NaN</td>\n",
       "    </tr>\n",
       "  </tbody>\n",
       "</table>\n",
       "</div>"
      ],
      "text/plain": [
       "      word       emotion  sentiment\n",
       "0   eleven           NaN        NaN\n",
       "1    clock  anticipation        0.0\n",
       "2  morning           NaN        NaN\n",
       "3      mid             0        0.0\n",
       "4  october           NaN        NaN"
      ]
     },
     "execution_count": 10,
     "metadata": {},
     "output_type": "execute_result"
    }
   ],
   "source": [
    "sleep = open('/home/amn34/metis/stuff/noirs/chandler/39_rc_bigsleep.txt').read()\n",
    "\n",
    "sleep = sleep.decode('utf-8', 'ignore')\n",
    "\n",
    "sleep = sleep.lower()\n",
    "\n",
    "tokenizer = RegexpTokenizer(r'\\w+')\n",
    "\n",
    "sleepwordsorig = tokenizer.tokenize(sleep)\n",
    "\n",
    "from nltk.corpus import stopwords\n",
    "stop = stopwords.words('english')\n",
    "stop.append('said')\n",
    "\n",
    "sleepstop = [w for w in sleepwordsorig if not w in stop]\n",
    "\n",
    "print len(sleepstop)/float(len(sleepwordsorig))\n",
    "\n",
    "print 'proportional number of stopwords pages:', 277*31642/68703\n",
    "\n",
    "sent = pd.read_pickle('sentiment.pkl')\n",
    "\n",
    "#sent.fillna(0, inplace=True)\n",
    "\n",
    "#sent.sentiment.replace({'negative':-1,'positive':1}, inplace=True)\n",
    "\n",
    "#sent['word'] = sent['word'].values.astype('unicode')\n",
    "\n",
    "#sent.to_pickle('sentiment.pkl')\n",
    "\n",
    "sleepwords = pd.DataFrame(columns=['word'])\n",
    "\n",
    "sleepwords.word = sleepstop\n",
    "\n",
    "sleepsentiment = pd.merge(sleepwords, sent, how='left', on='word')\n",
    "\n",
    "sleepsentiment.head()"
   ]
  },
  {
   "cell_type": "code",
   "execution_count": 11,
   "metadata": {
    "collapsed": true
   },
   "outputs": [],
   "source": [
    "sleepsentiment.fillna(0, inplace=True)"
   ]
  },
  {
   "cell_type": "code",
   "execution_count": 12,
   "metadata": {
    "collapsed": false,
    "scrolled": true
   },
   "outputs": [
    {
     "data": {
      "text/plain": [
       "249.1496062992126"
      ]
     },
     "execution_count": 12,
     "metadata": {},
     "output_type": "execute_result"
    }
   ],
   "source": [
    "len(sleepstop)/127.0"
   ]
  },
  {
   "cell_type": "code",
   "execution_count": 13,
   "metadata": {
    "collapsed": true
   },
   "outputs": [],
   "source": [
    "import numpy as np"
   ]
  },
  {
   "cell_type": "code",
   "execution_count": 14,
   "metadata": {
    "collapsed": true
   },
   "outputs": [],
   "source": [
    "sleepsentiment.fillna(0,inplace=True)"
   ]
  },
  {
   "cell_type": "code",
   "execution_count": 15,
   "metadata": {
    "collapsed": false
   },
   "outputs": [],
   "source": [
    "sample = sleepsentiment[0:1000]"
   ]
  },
  {
   "cell_type": "code",
   "execution_count": 16,
   "metadata": {
    "collapsed": true
   },
   "outputs": [],
   "source": [
    "def chunker(seq, size):\n",
    "    return (seq[pos:pos + size] for pos in xrange(0, len(seq), size))"
   ]
  },
  {
   "cell_type": "code",
   "execution_count": 17,
   "metadata": {
    "collapsed": false
   },
   "outputs": [],
   "source": [
    "pagesent = []\n",
    "\n",
    "for i in chunker(sleepsentiment,150):\n",
    "    pagesent.append(sum(i.sentiment))"
   ]
  },
  {
   "cell_type": "code",
   "execution_count": 18,
   "metadata": {
    "collapsed": false
   },
   "outputs": [
    {
     "data": {
      "text/plain": [
       "211"
      ]
     },
     "execution_count": 18,
     "metadata": {},
     "output_type": "execute_result"
    }
   ],
   "source": [
    "len(pagesent)"
   ]
  },
  {
   "cell_type": "code",
   "execution_count": 19,
   "metadata": {
    "collapsed": false,
    "scrolled": true
   },
   "outputs": [
    {
     "data": {
      "text/plain": [
       "<Container object of 211 artists>"
      ]
     },
     "execution_count": 19,
     "metadata": {},
     "output_type": "execute_result"
    },
    {
     "data": {
      "image/png": "[encoded data removed]",
      "text/plain": [
       "<matplotlib.figure.Figure at 0x7fd1daa90310>"
      ]
     },
     "metadata": {},
     "output_type": "display_data"
    }
   ],
   "source": [
    "plt.figure(figsize=(12,5))\n",
    "plt.axhline(y=0, color='r')\n",
    "plt.bar(range(len(pagesent)),pagesent)"
   ]
  },
  {
   "cell_type": "code",
   "execution_count": 20,
   "metadata": {
    "collapsed": false
   },
   "outputs": [],
   "source": [
    "words = word_tokenize(sleep)"
   ]
  },
  {
   "cell_type": "code",
   "execution_count": 21,
   "metadata": {
    "collapsed": true
   },
   "outputs": [],
   "source": [
    "sentences = sent_tokenize(sleep)"
   ]
  },
  {
   "cell_type": "code",
   "execution_count": 22,
   "metadata": {
    "collapsed": false
   },
   "outputs": [
    {
     "name": "stdout",
     "output_type": "stream",
     "text": [
      "6591 81341 12.3412228797\n"
     ]
    }
   ],
   "source": [
    "print len(sentences), len(words), len(words)/float(len(sentences))"
   ]
  },
  {
   "cell_type": "code",
   "execution_count": 23,
   "metadata": {
    "collapsed": false
   },
   "outputs": [],
   "source": [
    "ss = sleepsentiment.sentiment.values"
   ]
  },
  {
   "cell_type": "code",
   "execution_count": 24,
   "metadata": {
    "collapsed": false
   },
   "outputs": [],
   "source": [
    "from collections import Counter"
   ]
  },
  {
   "cell_type": "code",
   "execution_count": 25,
   "metadata": {
    "collapsed": false
   },
   "outputs": [
    {
     "data": {
      "text/plain": [
       "Counter({-1.0: 3828, 0.0: 23048, 1.0: 4766})"
      ]
     },
     "execution_count": 25,
     "metadata": {},
     "output_type": "execute_result"
    }
   ],
   "source": [
    "Counter(ss)"
   ]
  },
  {
   "cell_type": "code",
   "execution_count": 26,
   "metadata": {
    "collapsed": false
   },
   "outputs": [],
   "source": [
    "pospage = []\n",
    "negpage = []\n",
    "\n",
    "for i in chunker(sleepsentiment,150):\n",
    "    postemp = 0\n",
    "    negtemp = 0\n",
    "    for j in i.sentiment.values:\n",
    "        if j == 1.0:\n",
    "            postemp += 1\n",
    "        elif j == -1.0:\n",
    "            negtemp -= 1\n",
    "    pospage.append(postemp)\n",
    "    negpage.append(negtemp)"
   ]
  },
  {
   "cell_type": "code",
   "execution_count": 27,
   "metadata": {
    "collapsed": true
   },
   "outputs": [],
   "source": [
    "pages = []\n",
    "\n",
    "wordfeels = zip(sleepsentiment.word, sleepsentiment.sentiment)"
   ]
  },
  {
   "cell_type": "code",
   "execution_count": 28,
   "metadata": {
    "collapsed": false
   },
   "outputs": [],
   "source": [
    "pages = []\n",
    "\n",
    "for i in chunker(wordfeels, 150):\n",
    "    pagepos = []\n",
    "    pageneg = []\n",
    "    \n",
    "    for j in i:\n",
    "        if j[1] == 1.0:\n",
    "            pagepos.append(j[0])\n",
    "        elif j[1] == -1.0:\n",
    "            pageneg.append(j[0])\n",
    "    pages.append((pagepos, pageneg))"
   ]
  },
  {
   "cell_type": "code",
   "execution_count": 29,
   "metadata": {
    "collapsed": false
   },
   "outputs": [
    {
     "data": {
      "text/plain": [
       "([u'sun',\n",
       "  u'shining',\n",
       "  u'clearness',\n",
       "  u'suit',\n",
       "  u'neat',\n",
       "  u'clean',\n",
       "  u'care',\n",
       "  u'well',\n",
       "  u'main',\n",
       "  u'entrance',\n",
       "  u'broad',\n",
       "  u'knight',\n",
       "  u'armor',\n",
       "  u'tree',\n",
       "  u'convenient',\n",
       "  u'knight',\n",
       "  u'helmet',\n",
       "  u'back',\n",
       "  u'sociable',\n",
       "  u'tree',\n",
       "  u'stood',\n",
       "  u'help',\n",
       "  u'back',\n",
       "  u'wide',\n",
       "  u'white',\n",
       "  u'slim',\n",
       "  u'young',\n",
       "  u'shiny',\n",
       "  u'decorative',\n",
       "  u'carefully',\n",
       "  u'large',\n",
       "  u'solid',\n",
       "  u'comfortable'],\n",
       " [u'hard',\n",
       "  u'dark',\n",
       "  u'black',\n",
       "  u'black',\n",
       "  u'dark',\n",
       "  u'sober',\n",
       "  u'dark',\n",
       "  u'long',\n",
       "  u'trying',\n",
       "  u'dark',\n",
       "  u'black',\n",
       "  u'maroon',\n",
       "  u'uneven'])"
      ]
     },
     "execution_count": 29,
     "metadata": {},
     "output_type": "execute_result"
    }
   ],
   "source": [
    "pages[0]"
   ]
  },
  {
   "cell_type": "code",
   "execution_count": 30,
   "metadata": {
    "collapsed": false
   },
   "outputs": [
    {
     "data": {
      "text/plain": [
       "[(u'eleven', 0.0),\n",
       " (u'clock', 0.0),\n",
       " (u'morning', 0.0),\n",
       " (u'mid', 0.0),\n",
       " (u'october', 0.0),\n",
       " (u'sun', 1.0),\n",
       " (u'shining', 1.0),\n",
       " (u'look', 0.0),\n",
       " (u'hard', -1.0),\n",
       " (u'wet', 0.0),\n",
       " (u'rain', 0.0),\n",
       " (u'clearness', 1.0),\n",
       " (u'foothills', 0.0),\n",
       " (u'wearing', 0.0),\n",
       " (u'powder', 0.0),\n",
       " (u'blue', 0.0),\n",
       " (u'suit', 1.0),\n",
       " (u'dark', -1.0),\n",
       " (u'blue', 0.0),\n",
       " (u'shirt', 0.0),\n",
       " (u'tie', 0.0),\n",
       " (u'display', 0.0),\n",
       " (u'handkerchief', 0.0),\n",
       " (u'black', -1.0),\n",
       " (u'brogues', 0.0),\n",
       " (u'black', -1.0),\n",
       " (u'wool', 0.0),\n",
       " (u'socks', 0.0),\n",
       " (u'dark', -1.0),\n",
       " (u'blue', 0.0),\n",
       " (u'clocks', 0.0),\n",
       " (u'neat', 1.0),\n",
       " (u'clean', 1.0),\n",
       " (u'shaved', 0.0),\n",
       " (u'sober', -1.0),\n",
       " (u'care', 1.0),\n",
       " (u'knew', 0.0),\n",
       " (u'everything', 0.0),\n",
       " (u'well', 1.0),\n",
       " (u'dressed', 0.0),\n",
       " (u'private', 0.0),\n",
       " (u'detective', 0.0),\n",
       " (u'ought', 0.0),\n",
       " (u'calling', 0.0),\n",
       " (u'four', 0.0),\n",
       " (u'million', 0.0),\n",
       " (u'dollars', 0.0),\n",
       " (u'main', 1.0),\n",
       " (u'hallway', 0.0),\n",
       " (u'sternwood', 0.0),\n",
       " (u'place', 0.0),\n",
       " (u'two', 0.0),\n",
       " (u'stories', 0.0),\n",
       " (u'high', 0.0),\n",
       " (u'entrance', 1.0),\n",
       " (u'doors', 0.0),\n",
       " (u'would', 0.0),\n",
       " (u'let', 0.0),\n",
       " (u'troop', 0.0),\n",
       " (u'indian', 0.0),\n",
       " (u'elephants', 0.0),\n",
       " (u'broad', 1.0),\n",
       " (u'stained', 0.0),\n",
       " (u'glass', 0.0),\n",
       " (u'panel', 0.0),\n",
       " (u'showing', 0.0),\n",
       " (u'knight', 1.0),\n",
       " (u'dark', -1.0),\n",
       " (u'armor', 1.0),\n",
       " (u'rescuing', 0.0),\n",
       " (u'lady', 0.0),\n",
       " (u'tied', 0.0),\n",
       " (u'tree', 1.0),\n",
       " (u'clothes', 0.0),\n",
       " (u'long', -1.0),\n",
       " (u'convenient', 1.0),\n",
       " (u'hair', 0.0),\n",
       " (u'knight', 1.0),\n",
       " (u'pushed', 0.0),\n",
       " (u'vizor', 0.0),\n",
       " (u'helmet', 1.0),\n",
       " (u'back', 1.0),\n",
       " (u'sociable', 1.0),\n",
       " (u'fiddling', 0.0),\n",
       " (u'knots', 0.0),\n",
       " (u'ropes', 0.0),\n",
       " (u'tied', 0.0),\n",
       " (u'lady', 0.0),\n",
       " (u'tree', 1.0),\n",
       " (u'getting', 0.0),\n",
       " (u'anywhere', 0.0),\n",
       " (u'stood', 1.0),\n",
       " (u'thought', 0.0),\n",
       " (u'lived', 0.0),\n",
       " (u'house', 0.0),\n",
       " (u'would', 0.0),\n",
       " (u'sooner', 0.0),\n",
       " (u'later', 0.0),\n",
       " (u'climb', 0.0),\n",
       " (u'help', 1.0),\n",
       " (u'seem', 0.0),\n",
       " (u'really', 0.0),\n",
       " (u'trying', -1.0),\n",
       " (u'french', 0.0),\n",
       " (u'doors', 0.0),\n",
       " (u'back', 1.0),\n",
       " (u'hall', 0.0),\n",
       " (u'beyond', 0.0),\n",
       " (u'wide', 1.0),\n",
       " (u'sweep', 0.0),\n",
       " (u'emerald', 0.0),\n",
       " (u'grass', 0.0),\n",
       " (u'white', 1.0),\n",
       " (u'garage', 0.0),\n",
       " (u'front', 0.0),\n",
       " (u'slim', 1.0),\n",
       " (u'dark', -1.0),\n",
       " (u'young', 1.0),\n",
       " (u'chauffeur', 0.0),\n",
       " (u'shiny', 1.0),\n",
       " (u'black', -1.0),\n",
       " (u'leggings', 0.0),\n",
       " (u'dusting', 0.0),\n",
       " (u'maroon', -1.0),\n",
       " (u'packard', 0.0),\n",
       " (u'convertible', 0.0),\n",
       " (u'beyond', 0.0),\n",
       " (u'garage', 0.0),\n",
       " (u'decorative', 1.0),\n",
       " (u'trees', 0.0),\n",
       " (u'trimmed', 0.0),\n",
       " (u'carefully', 1.0),\n",
       " (u'poodle', 0.0),\n",
       " (u'dogs', 0.0),\n",
       " (u'beyond', 0.0),\n",
       " (u'large', 1.0),\n",
       " (u'greenhouse', 0.0),\n",
       " (u'domed', 0.0),\n",
       " (u'roof', 0.0),\n",
       " (u'trees', 0.0),\n",
       " (u'beyond', 0.0),\n",
       " (u'everything', 0.0),\n",
       " (u'solid', 1.0),\n",
       " (u'uneven', -1.0),\n",
       " (u'comfortable', 1.0),\n",
       " (u'line', 0.0),\n",
       " (u'foothills', 0.0),\n",
       " (u'east', 0.0),\n",
       " (u'side', 0.0),\n",
       " (u'hall', 0.0),\n",
       " (u'free', 1.0),\n",
       " (u'staircase', 0.0),\n",
       " (u'tile', 0.0),\n",
       " (u'paved', 0.0),\n",
       " (u'rose', 0.0),\n",
       " (u'gallery', 0.0),\n",
       " (u'wrought', -1.0),\n",
       " (u'iron', 1.0),\n",
       " (u'railing', 0.0),\n",
       " (u'another', 0.0),\n",
       " (u'piece', 0.0),\n",
       " (u'stained', 0.0),\n",
       " (u'glass', 0.0),\n",
       " (u'romance', 1.0),\n",
       " (u'large', 1.0),\n",
       " (u'hard', -1.0),\n",
       " (u'chairs', 0.0),\n",
       " (u'rounded', 0.0),\n",
       " (u'red', 0.0),\n",
       " (u'plush', 1.0),\n",
       " (u'seats', 0.0),\n",
       " (u'backed', 0.0),\n",
       " (u'vacant', 0.0),\n",
       " (u'spaces', 0.0),\n",
       " (u'wall', 0.0),\n",
       " (u'round', 1.0),\n",
       " (u'look', 0.0),\n",
       " (u'anybody', 0.0),\n",
       " (u'ever', 0.0),\n",
       " (u'sat', 0.0),\n",
       " (u'middle', 0.0),\n",
       " (u'west', 0.0),\n",
       " (u'wall', 0.0),\n",
       " (u'big', 0.0),\n",
       " (u'empty', -1.0),\n",
       " (u'fireplace', 0.0),\n",
       " (u'brass', 0.0),\n",
       " (u'screen', 0.0),\n",
       " (u'four', 0.0),\n",
       " (u'hinged', 0.0),\n",
       " (u'panels', 0.0),\n",
       " (u'fireplace', 0.0),\n",
       " (u'marble', 0.0),\n",
       " (u'mantel', 0.0),\n",
       " (u'cupids', 0.0),\n",
       " (u'corners', 0.0),\n",
       " (u'mantel', 0.0),\n",
       " (u'large', 1.0),\n",
       " (u'oil', 0.0),\n",
       " (u'portrait', 0.0),\n",
       " (u'portrait', 0.0),\n",
       " (u'two', 0.0),\n",
       " (u'bullet', 0.0),\n",
       " (u'torn', -1.0),\n",
       " (u'moth', 0.0),\n",
       " (u'eaten', 0.0),\n",
       " (u'cavalry', 0.0),\n",
       " (u'pennants', 0.0),\n",
       " (u'crossed', 0.0),\n",
       " (u'glass', 0.0),\n",
       " (u'frame', 0.0),\n",
       " (u'portrait', 0.0),\n",
       " (u'stiffly', 0.0),\n",
       " (u'posed', 0.0),\n",
       " (u'job', 1.0),\n",
       " (u'officer', 1.0),\n",
       " (u'full', 1.0),\n",
       " (u'regimentals', 0.0),\n",
       " (u'time', 0.0),\n",
       " (u'mexican', 0.0),\n",
       " (u'war', -1.0),\n",
       " (u'officer', 1.0),\n",
       " (u'neat', 1.0),\n",
       " (u'black', -1.0),\n",
       " (u'imperial', 1.0),\n",
       " (u'black', -1.0),\n",
       " (u'mustachios', 0.0),\n",
       " (u'hot', 1.0),\n",
       " (u'hard', -1.0),\n",
       " (u'coal', 0.0),\n",
       " (u'black', -1.0),\n",
       " (u'eyes', 0.0),\n",
       " (u'general', 1.0),\n",
       " (u'look', 0.0),\n",
       " (u'man', 0.0),\n",
       " (u'would', 0.0),\n",
       " (u'pay', 1.0),\n",
       " (u'get', 0.0),\n",
       " (u'along', 0.0),\n",
       " (u'thought', 0.0),\n",
       " (u'might', 1.0),\n",
       " (u'general', 1.0),\n",
       " (u'sternwood', 0.0),\n",
       " (u'grandfather', 0.0),\n",
       " (u'could', 0.0),\n",
       " (u'hardly', -1.0),\n",
       " (u'general', 1.0),\n",
       " (u'even', 1.0),\n",
       " (u'though', 0.0),\n",
       " (u'heard', 0.0),\n",
       " (u'pretty', 1.0),\n",
       " (u'far', 0.0),\n",
       " (u'gone', 0.0),\n",
       " (u'years', 0.0),\n",
       " (u'couple', 0.0),\n",
       " (u'daughters', 0.0),\n",
       " (u'still', 0.0),\n",
       " (u'dangerous', -1.0),\n",
       " (u'twenties', 0.0),\n",
       " (u'still', 0.0),\n",
       " (u'staring', -1.0),\n",
       " (u'hot', 1.0),\n",
       " (u'black', -1.0),\n",
       " (u'eyes', 0.0),\n",
       " (u'door', 0.0),\n",
       " (u'opened', 0.0),\n",
       " (u'far', 0.0),\n",
       " (u'back', 1.0),\n",
       " (u'stairs', 0.0),\n",
       " (u'butler', 1.0),\n",
       " (u'coming', 0.0),\n",
       " (u'back', 1.0),\n",
       " (u'girl', 0.0),\n",
       " (u'twenty', 0.0),\n",
       " (u'small', -1.0),\n",
       " (u'delicately', 0.0),\n",
       " (u'put', 0.0),\n",
       " (u'together', 0.0),\n",
       " (u'looked', 0.0),\n",
       " (u'durable', 1.0),\n",
       " (u'wore', 0.0),\n",
       " (u'pale', -1.0),\n",
       " (u'blue', 0.0),\n",
       " (u'slacks', 0.0),\n",
       " (u'looked', 0.0),\n",
       " (u'well', 1.0),\n",
       " (u'walked', 0.0),\n",
       " (u'floating', 0.0),\n",
       " (u'hair', 0.0),\n",
       " (u'fine', 1.0),\n",
       " (u'tawny', 0.0),\n",
       " (u'wave', 0.0),\n",
       " (u'cut', -1.0),\n",
       " (u'much', 0.0),\n",
       " (u'shorter', 0.0),\n",
       " (u'current', 0.0),\n",
       " (u'fashion', 0.0),\n",
       " (u'pageboy', 0.0),\n",
       " (u'tresses', 0.0),\n",
       " (u'curled', 0.0),\n",
       " (u'bottom', -1.0),\n",
       " (u'eyes', 0.0),\n",
       " (u'slate', 1.0),\n",
       " (u'gray', 0.0),\n",
       " (u'almost', 0.0),\n",
       " (u'expression', 0.0),\n",
       " (u'looked', 0.0),\n",
       " (u'came', 0.0),\n",
       " (u'near', 0.0),\n",
       " (u'smiled', 0.0),\n",
       " (u'mouth', 0.0),\n",
       " (u'little', -1.0),\n",
       " (u'sharp', 1.0),\n",
       " (u'predatory', -1.0),\n",
       " (u'teeth', 0.0),\n",
       " (u'white', 1.0),\n",
       " (u'fresh', 1.0),\n",
       " (u'orange', 0.0),\n",
       " (u'pith', 1.0),\n",
       " (u'shiny', 1.0),\n",
       " (u'porcelain', 0.0),\n",
       " (u'glistened', 0.0),\n",
       " (u'thin', 0.0),\n",
       " (u'taut', -1.0),\n",
       " (u'lips', 0.0),\n",
       " (u'face', 0.0),\n",
       " (u'lacked', -1.0),\n",
       " (u'color', 0.0),\n",
       " (u'look', 0.0),\n",
       " (u'healthy', 1.0),\n",
       " (u'tall', 0.0),\n",
       " (u'mean', -1.0),\n",
       " (u'eyes', 0.0),\n",
       " (u'rounded', 0.0),\n",
       " (u'puzzled', -1.0),\n",
       " (u'thinking', 0.0),\n",
       " (u'could', 0.0),\n",
       " (u'see', 0.0),\n",
       " (u'even', 1.0),\n",
       " (u'short', 0.0),\n",
       " (u'acquaintance', 1.0),\n",
       " (u'thinking', 0.0),\n",
       " (u'always', 0.0),\n",
       " (u'going', 0.0),\n",
       " (u'bother', -1.0),\n",
       " (u'handsome', 1.0),\n",
       " (u'bet', 0.0),\n",
       " (u'know', 1.0),\n",
       " (u'grunted', 0.0),\n",
       " (u'name', 0.0),\n",
       " (u'reilly', 0.0),\n",
       " (u'doghouse', 0.0),\n",
       " (u'reilly', 0.0),\n",
       " (u'funny', -1.0),\n",
       " (u'name', 0.0),\n",
       " (u'bit', 0.0),\n",
       " (u'lip', 0.0),\n",
       " (u'turned', 0.0),\n",
       " (u'head', 0.0),\n",
       " (u'little', -1.0),\n",
       " (u'looked', 0.0),\n",
       " (u'along', 0.0),\n",
       " (u'eyes', 0.0),\n",
       " (u'lowered', 0.0),\n",
       " (u'lashes', 0.0),\n",
       " (u'almost', 0.0),\n",
       " (u'cuddled', 0.0),\n",
       " (u'cheeks', 0.0),\n",
       " (u'slowly', -1.0),\n",
       " (u'raised', 0.0),\n",
       " (u'like', 1.0),\n",
       " (u'theater', 0.0),\n",
       " (u'curtain', 0.0),\n",
       " (u'get', 0.0),\n",
       " (u'know', 1.0),\n",
       " (u'trick', -1.0),\n",
       " (u'supposed', -1.0),\n",
       " (u'make', 1.0),\n",
       " (u'roll', 0.0),\n",
       " (u'back', 1.0),\n",
       " (u'four', 0.0),\n",
       " (u'paws', 0.0),\n",
       " (u'air', 0.0),\n",
       " (u'prizefighter', 0.0),\n",
       " (u'asked', 0.0),\n",
       " (u'exactly', 0.0),\n",
       " (u'sleuth', 0.0),\n",
       " (u'tossed', 0.0),\n",
       " (u'head', 0.0),\n",
       " (u'angrily', -1.0),\n",
       " (u'rich', 1.0),\n",
       " (u'color', 0.0),\n",
       " (u'glistened', 0.0),\n",
       " (u'rather', 0.0),\n",
       " (u'dim', -1.0),\n",
       " (u'light', 1.0),\n",
       " (u'big', 0.0),\n",
       " (u'hall', 0.0),\n",
       " (u'making', 0.0),\n",
       " (u'fun', 1.0),\n",
       " (u'uh', 0.0),\n",
       " (u'uh', 0.0),\n",
       " (u'get', 0.0),\n",
       " (u'heard', 0.0),\n",
       " (u'say', 0.0),\n",
       " (u'anything', 0.0),\n",
       " (u'big', 0.0),\n",
       " (u'tease', -1.0),\n",
       " (u'put', 0.0),\n",
       " (u'thumb', -1.0),\n",
       " (u'bit', 0.0),\n",
       " (u'curiously', 1.0),\n",
       " (u'shaped', 0.0),\n",
       " (u'thumb', -1.0),\n",
       " (u'thin', 0.0),\n",
       " (u'narrow', -1.0),\n",
       " (u'like', 1.0),\n",
       " (u'extra', 1.0),\n",
       " (u'finger', 0.0),\n",
       " (u'curve', 0.0),\n",
       " (u'first', 0.0),\n",
       " (u'joint', 0.0),\n",
       " (u'bit', 0.0),\n",
       " (u'sucked', -1.0),\n",
       " (u'slowly', -1.0),\n",
       " (u'turning', 0.0),\n",
       " (u'around', 0.0),\n",
       " (u'mouth', 0.0),\n",
       " (u'like', 1.0),\n",
       " (u'baby', 1.0),\n",
       " (u'comforter', 0.0),\n",
       " (u'awfully', -1.0),\n",
       " (u'tall', 0.0),\n",
       " (u'giggled', 0.0),\n",
       " (u'secret', 0.0),\n",
       " (u'merriment', 1.0),\n",
       " (u'turned', 0.0),\n",
       " (u'body', 0.0),\n",
       " (u'slowly', -1.0),\n",
       " (u'lithely', 0.0),\n",
       " (u'without', 0.0),\n",
       " (u'lifting', 0.0),\n",
       " (u'feet', 0.0),\n",
       " (u'hands', 0.0),\n",
       " (u'dropped', 0.0),\n",
       " (u'limp', -1.0),\n",
       " (u'sides', 0.0),\n",
       " (u'tilted', 0.0),\n",
       " (u'towards', 0.0),\n",
       " (u'toes', 0.0),\n",
       " (u'fell', -1.0),\n",
       " (u'straight', 1.0),\n",
       " (u'back', 1.0),\n",
       " (u'arms', 0.0),\n",
       " (u'catch', 0.0),\n",
       " (u'let', 0.0),\n",
       " (u'crack', -1.0),\n",
       " (u'head', 0.0),\n",
       " (u'tessellated', 0.0),\n",
       " (u'floor', 0.0),\n",
       " (u'caught', 0.0),\n",
       " (u'arms', 0.0),\n",
       " (u'went', 0.0),\n",
       " (u'rubber', 0.0),\n",
       " (u'legged', 0.0),\n",
       " (u'instantly', 1.0),\n",
       " (u'hold', 0.0),\n",
       " (u'close', -1.0),\n",
       " (u'hold', 0.0),\n",
       " (u'head', 0.0),\n",
       " (u'chest', 0.0),\n",
       " (u'screwed', -1.0),\n",
       " (u'around', 0.0),\n",
       " (u'giggled', 0.0),\n",
       " (u'cute', 1.0),\n",
       " (u'giggled', 0.0),\n",
       " (u'cute', 1.0),\n",
       " (u'say', 0.0),\n",
       " (u'anything', 0.0),\n",
       " (u'butler', 1.0),\n",
       " (u'chose', 0.0),\n",
       " (u'convenient', 1.0),\n",
       " (u'moment', 0.0),\n",
       " (u'come', 0.0),\n",
       " (u'back', 1.0),\n",
       " (u'french', 0.0),\n",
       " (u'doors', 0.0),\n",
       " (u'see', 0.0),\n",
       " (u'holding', 0.0),\n",
       " (u'seem', 0.0),\n",
       " (u'bother', -1.0),\n",
       " (u'tall', 0.0),\n",
       " (u'thin', 0.0),\n",
       " (u'silver', 0.0),\n",
       " (u'man', 0.0),\n",
       " (u'sixty', 0.0),\n",
       " (u'close', -1.0),\n",
       " (u'little', -1.0),\n",
       " (u'past', 0.0),\n",
       " (u'blue', 0.0),\n",
       " (u'eyes', 0.0),\n",
       " (u'remote', 0.0),\n",
       " (u'eyes', 0.0),\n",
       " (u'could', 0.0),\n",
       " (u'skin', 0.0),\n",
       " (u'smooth', 1.0),\n",
       " (u'bright', 1.0),\n",
       " (u'moved', 0.0),\n",
       " (u'like', 1.0),\n",
       " (u'man', 0.0),\n",
       " (u'sound', 1.0),\n",
       " (u'muscles', 0.0),\n",
       " (u'walked', 0.0),\n",
       " (u'slowly', -1.0),\n",
       " (u'across', 0.0),\n",
       " (u'floor', 0.0),\n",
       " (u'towards', 0.0),\n",
       " (u'us', 0.0),\n",
       " (u'girl', 0.0),\n",
       " (u'jerked', 0.0),\n",
       " (u'away', 0.0),\n",
       " (u'flashed', 0.0),\n",
       " (u'across', 0.0),\n",
       " (u'room', 0.0),\n",
       " (u'foot', 0.0),\n",
       " (u'stairs', 0.0),\n",
       " (u'went', 0.0),\n",
       " (u'like', 1.0),\n",
       " (u'deer', 0.0),\n",
       " (u'gone', 0.0),\n",
       " (u'could', 0.0),\n",
       " (u'draw', 0.0),\n",
       " (u'long', -1.0),\n",
       " (u'breath', 0.0),\n",
       " (u'let', 0.0),\n",
       " (u'butler', 1.0),\n",
       " (u'tonelessly', 0.0),\n",
       " (u'general', 1.0),\n",
       " (u'see', 0.0),\n",
       " (u'mr', 0.0),\n",
       " (u'marlowe', 0.0),\n",
       " (u'pushed', 0.0),\n",
       " (u'lower', -1.0),\n",
       " (u'jaw', 0.0),\n",
       " (u'chest', 0.0),\n",
       " (u'nodded', 0.0),\n",
       " (u'miss', -1.0),\n",
       " (u'carmen', 0.0),\n",
       " (u'sternwood', 0.0),\n",
       " (u'sir', 1.0),\n",
       " (u'ought', 0.0),\n",
       " (u'wean', 0.0),\n",
       " (u'looks', 0.0),\n",
       " (u'old', 0.0),\n",
       " (u'enough', 1.0),\n",
       " (u'looked', 0.0),\n",
       " (u'grave', -1.0),\n",
       " (u'politeness', 1.0),\n",
       " (u'repeated', 0.0),\n",
       " (u'2', 0.0),\n",
       " (u'went', 0.0),\n",
       " (u'french', 0.0),\n",
       " (u'doors', 0.0),\n",
       " (u'along', 0.0),\n",
       " (u'smooth', 1.0),\n",
       " (u'red', 0.0),\n",
       " (u'flagged', 0.0),\n",
       " (u'path', 0.0),\n",
       " (u'skirted', 0.0),\n",
       " (u'far', 0.0),\n",
       " (u'side', 0.0),\n",
       " (u'lawn', 0.0),\n",
       " (u'garage', 0.0),\n",
       " (u'boyish', 0.0),\n",
       " (u'looking', 0.0),\n",
       " (u'chauffeur', 0.0),\n",
       " (u'big', 0.0),\n",
       " (u'black', -1.0),\n",
       " (u'chromium', 0.0),\n",
       " (u'sedan', 0.0),\n",
       " (u'dusting', 0.0),\n",
       " (u'path', 0.0),\n",
       " (u'took', 0.0),\n",
       " (u'us', 0.0),\n",
       " (u'along', 0.0),\n",
       " (u'side', 0.0),\n",
       " (u'greenhouse', 0.0),\n",
       " (u'butler', 1.0),\n",
       " (u'opened', 0.0),\n",
       " (u'door', 0.0),\n",
       " (u'stood', 1.0),\n",
       " (u'aside', 0.0),\n",
       " (u'opened', 0.0),\n",
       " (u'sort', 0.0),\n",
       " (u'vestibule', 0.0),\n",
       " (u'warm', 1.0),\n",
       " (u'slow', -1.0),\n",
       " (u'oven', 0.0),\n",
       " (u'came', 0.0),\n",
       " (u'shut', 0.0),\n",
       " (u'outer', 0.0),\n",
       " (u'door', 0.0),\n",
       " (u'opened', 0.0),\n",
       " (u'inner', 0.0),\n",
       " (u'door', 0.0),\n",
       " (u'went', 0.0),\n",
       " (u'really', 0.0),\n",
       " (u'hot', 1.0),\n",
       " (u'air', 0.0),\n",
       " (u'thick', 0.0),\n",
       " (u'wet', 0.0),\n",
       " (u'steamy', 0.0),\n",
       " (u'larded', 0.0),\n",
       " (u'cloying', 0.0),\n",
       " (u'smell', -1.0),\n",
       " (u'tropical', 0.0),\n",
       " (u'orchids', 0.0),\n",
       " (u'bloom', 1.0),\n",
       " (u'glass', 0.0),\n",
       " (u'walls', 0.0),\n",
       " (u'roof', 0.0),\n",
       " (u'heavily', -1.0),\n",
       " (u'misted', 0.0),\n",
       " (u'big', 0.0),\n",
       " (u'drops', 0.0),\n",
       " (u'moisture', 0.0),\n",
       " (u'splashed', 0.0),\n",
       " (u'plants', 0.0),\n",
       " (u'light', 1.0),\n",
       " (u'unreal', 1.0),\n",
       " (u'greenish', 0.0),\n",
       " (u'color', 0.0),\n",
       " (u'like', 1.0),\n",
       " (u'light', 1.0),\n",
       " (u'filtered', 0.0),\n",
       " (u'aquarium', 0.0),\n",
       " (u'tank', -1.0),\n",
       " (u'plants', 0.0),\n",
       " (u'filled', 0.0),\n",
       " (u'place', 0.0),\n",
       " (u'forest', 0.0),\n",
       " (u'nasty', -1.0),\n",
       " (u'meaty', 0.0),\n",
       " (u'leaves', 0.0),\n",
       " (u'stalks', 0.0),\n",
       " (u'like', 1.0),\n",
       " (u'newly', 0.0),\n",
       " (u'washed', 0.0),\n",
       " (u'fingers', 0.0),\n",
       " (u'dead', -1.0),\n",
       " (u'men', 0.0),\n",
       " (u'smelled', -1.0),\n",
       " (u'overpowering', -1.0),\n",
       " (u'boiling', -1.0),\n",
       " (u'alcohol', 0.0),\n",
       " (u'blanket', 0.0),\n",
       " (u'butler', 1.0),\n",
       " (u'best', 1.0),\n",
       " (u'get', 0.0),\n",
       " (u'without', 0.0),\n",
       " (u'smacked', 0.0),\n",
       " (u'face', 0.0),\n",
       " (u'sodden', 0.0),\n",
       " (u'leaves', 0.0),\n",
       " (u'came', 0.0),\n",
       " (u'clearing', 0.0),\n",
       " (u'middle', 0.0),\n",
       " (u'jungle', 0.0),\n",
       " (u'domed', 0.0),\n",
       " (u'roof', 0.0),\n",
       " (u'space', 0.0),\n",
       " (u'hexagonal', 0.0),\n",
       " (u'flags', 0.0),\n",
       " (u'old', 0.0),\n",
       " (u'red', 0.0),\n",
       " (u'turkish', 0.0),\n",
       " (u'rug', 0.0),\n",
       " (u'laid', 0.0),\n",
       " (u'rug', 0.0),\n",
       " (u'wheel', 0.0),\n",
       " (u'chair', 0.0),\n",
       " (u'wheel', 0.0),\n",
       " (u'chair', 0.0),\n",
       " (u'old', 0.0),\n",
       " (u'obviously', -1.0),\n",
       " (u'dying', -1.0),\n",
       " (u'man', 0.0),\n",
       " (u'watched', 0.0),\n",
       " (u'us', 0.0),\n",
       " (u'come', 0.0),\n",
       " (u'black', -1.0),\n",
       " (u'eyes', 0.0),\n",
       " (u'fire', 0.0),\n",
       " (u'died', -1.0),\n",
       " (u'long', -1.0),\n",
       " (u'ago', 0.0),\n",
       " (u'still', 0.0),\n",
       " (u'coal', 0.0),\n",
       " (u'black', -1.0),\n",
       " (u'directness', 0.0),\n",
       " (u'eyes', 0.0),\n",
       " (u'portrait', 0.0),\n",
       " (u'hung', -1.0),\n",
       " (u'mantel', 0.0),\n",
       " (u'hall', 0.0),\n",
       " (u'rest', 1.0),\n",
       " (u'face', 0.0),\n",
       " (u'leaden', 0.0),\n",
       " (u'mask', 0.0),\n",
       " (u'bloodless', 1.0),\n",
       " (u'lips', 0.0),\n",
       " (u'sharp', 1.0),\n",
       " (u'nose', 0.0),\n",
       " (u'sunken', -1.0),\n",
       " (u'temples', 0.0),\n",
       " (u'outward', 1.0),\n",
       " (u'turning', 0.0),\n",
       " (u'earlobes', 0.0),\n",
       " (u'approaching', 0.0),\n",
       " (u'dissolution', -1.0),\n",
       " (u'long', -1.0),\n",
       " (u'narrow', -1.0),\n",
       " (u'body', 0.0),\n",
       " (u'wrapped', 0.0),\n",
       " (u'heat', 0.0),\n",
       " (u'traveling', 1.0),\n",
       " (u'rug', 0.0),\n",
       " (u'faded', 0.0),\n",
       " (u'red', 0.0),\n",
       " (u'bathrobe', 0.0),\n",
       " (u'thin', 0.0),\n",
       " (u'claw', -1.0),\n",
       " (u'like', 1.0),\n",
       " (u'hands', 0.0),\n",
       " (u'folded', 0.0),\n",
       " (u'loosely', 0.0),\n",
       " (u'rug', 0.0),\n",
       " (u'purple', 0.0),\n",
       " (u'nailed', 0.0),\n",
       " (u'locks', 0.0),\n",
       " (u'dry', 0.0),\n",
       " (u'white', 1.0),\n",
       " (u'hair', 0.0),\n",
       " (u'clung', 0.0),\n",
       " (u'scalp', 0.0),\n",
       " (u'like', 1.0),\n",
       " (u'wild', -1.0),\n",
       " (u'flowers', 0.0),\n",
       " (u'fighting', -1.0),\n",
       " (u'life', 0.0),\n",
       " (u'bare', 0.0),\n",
       " (u'rock', 1.0),\n",
       " (u'butler', 1.0),\n",
       " (u'stood', 1.0),\n",
       " (u'front', 0.0),\n",
       " (u'mr', 0.0),\n",
       " (u'marlowe', 0.0),\n",
       " (u'general', 1.0),\n",
       " (u'old', 0.0),\n",
       " (u'man', 0.0),\n",
       " (u'move', 0.0),\n",
       " (u'speak', 0.0),\n",
       " (u'even', 1.0),\n",
       " (u'nod', 0.0),\n",
       " (u'looked', 0.0),\n",
       " (u'lifelessly', 0.0),\n",
       " (u'butler', 1.0),\n",
       " (u'pushed', 0.0),\n",
       " (u'damp', 0.0),\n",
       " (u'wicker', 0.0),\n",
       " (u'chair', 0.0),\n",
       " (u'backs', 0.0),\n",
       " (u'legs', 0.0),\n",
       " (u'sat', 0.0),\n",
       " (u'took', 0.0),\n",
       " (u'hat', 0.0),\n",
       " (u'deft', 1.0),\n",
       " (u'scoop', 0.0),\n",
       " (u'old', 0.0),\n",
       " (u'man', 0.0),\n",
       " (u'dragged', -1.0),\n",
       " (u'voice', 0.0),\n",
       " (u'bottom', -1.0),\n",
       " (u'well', 1.0),\n",
       " (u'brandy', -1.0),\n",
       " (u'norris', 0.0),\n",
       " (u'like', 1.0),\n",
       " (u'brandy', -1.0),\n",
       " (u'sir', 1.0),\n",
       " (u'way', 0.0),\n",
       " (u'butler', 1.0),\n",
       " (u'went', 0.0),\n",
       " (u'away', 0.0),\n",
       " (u'among', 0.0),\n",
       " (u'abominable', -1.0),\n",
       " (u'plants', 0.0),\n",
       " (u'general', 1.0),\n",
       " (u'spoke', -1.0),\n",
       " (u'slowly', -1.0),\n",
       " (u'using', 0.0),\n",
       " (u'strength', 1.0),\n",
       " (u'carefully', 1.0),\n",
       " (u'work', 1.0),\n",
       " (u'showgirl', 0.0),\n",
       " (u'uses', 0.0),\n",
       " (u'last', 0.0),\n",
       " (u'good', 1.0),\n",
       " (u'pair', 0.0),\n",
       " (u'stockings', 0.0),\n",
       " (u'used', 0.0),\n",
       " (u'like', 1.0),\n",
       " (u'mine', 0.0),\n",
       " (u'champagne', 0.0),\n",
       " (u'champagne', 0.0),\n",
       " (u'cold', -1.0),\n",
       " (u'valley', 0.0),\n",
       " (u'forge', 1.0),\n",
       " (u'third', 0.0),\n",
       " (u'glass', 0.0),\n",
       " (u'brandy', -1.0),\n",
       " (u'beneath', 0.0),\n",
       " (u'may', 0.0),\n",
       " (u'take', 0.0),\n",
       " (u'coat', 0.0),\n",
       " (u'sir', 1.0),\n",
       " (u'hot', 1.0),\n",
       " (u'man', 0.0),\n",
       " (u'blood', -1.0),\n",
       " (u'veins', 0.0),\n",
       " (u'stood', 1.0),\n",
       " (u'peeled', -1.0),\n",
       " (u'coat', 0.0),\n",
       " (u'got', 0.0),\n",
       " (u'handkerchief', 0.0),\n",
       " (u'mopped', 0.0),\n",
       " (u'face', 0.0),\n",
       " (u'neck', 0.0),\n",
       " (u'backs', 0.0),\n",
       " (u'wrists', 0.0),\n",
       " (u'st', 0.0),\n",
       " (u'louis', 0.0),\n",
       " (u'august', 1.0),\n",
       " (u'nothing', 0.0),\n",
       " (u'place', 0.0),\n",
       " (u'sat', 0.0),\n",
       " (u'felt', 0.0),\n",
       " (u'automatically', 0.0),\n",
       " (u'cigarette', -1.0),\n",
       " (u'stopped', 0.0),\n",
       " (u'old', 0.0),\n",
       " (u'man', 0.0),\n",
       " (u'caught', 0.0),\n",
       " (u'gesture', 0.0),\n",
       " (u'smiled', 0.0),\n",
       " (u'faintly', 0.0),\n",
       " (u'may', 0.0),\n",
       " (u'smoke', -1.0),\n",
       " (u'sir', 1.0),\n",
       " (u'like', 1.0),\n",
       " (u'smell', -1.0),\n",
       " (u'tobacco', -1.0),\n",
       " (u'lit', 0.0),\n",
       " (u'cigarette', -1.0),\n",
       " (u'blew', 0.0),\n",
       " (u'lungful', 0.0),\n",
       " (u'sniffed', 0.0),\n",
       " (u'like', 1.0),\n",
       " (u'terrier', 0.0),\n",
       " (u'rathole', 0.0),\n",
       " (u'faint', -1.0),\n",
       " (u'smile', 1.0),\n",
       " (u'pulled', 0.0),\n",
       " (u'shadowed', 0.0),\n",
       " (u'comers', 0.0),\n",
       " (u'mouth', 0.0),\n",
       " (u'nice', 1.0),\n",
       " (u'state', 0.0),\n",
       " (u'affairs', 0.0),\n",
       " (u'man', 0.0),\n",
       " (u'indulge', -1.0),\n",
       " (u'vices', 0.0),\n",
       " (u'proxy', 0.0),\n",
       " (u'dryly', 0.0),\n",
       " (u'looking', 0.0),\n",
       " (u'dull', -1.0),\n",
       " (u'survival', 1.0),\n",
       " (u'rather', 0.0),\n",
       " (u'gaudy', -1.0),\n",
       " (u'life', 0.0),\n",
       " (u'cripple', -1.0),\n",
       " (u'paralyzed', -1.0),\n",
       " (u'legs', 0.0),\n",
       " (u'half', 0.0),\n",
       " (u'lower', -1.0),\n",
       " (u'belly', 0.0),\n",
       " (u'little', -1.0),\n",
       " (u'eat', 1.0),\n",
       " (u'sleep', 0.0),\n",
       " (u'close', -1.0),\n",
       " (u'waking', 0.0),\n",
       " (u'hardly', -1.0),\n",
       " (u'worth', 1.0),\n",
       " (u'name', 0.0),\n",
       " (u'seem', 0.0),\n",
       " (u'exist', 0.0),\n",
       " (u'largely', 0.0),\n",
       " (u'heat', 0.0),\n",
       " (u'like', 1.0),\n",
       " (u'newborn', 0.0),\n",
       " (u'spider', 0.0),\n",
       " (u'orchids', 0.0),\n",
       " (u'excuse', -1.0),\n",
       " (u'heat', 0.0),\n",
       " (u'like', 1.0),\n",
       " (u'orchids', 0.0),\n",
       " (u'particularly', 0.0),\n",
       " (u'general', 1.0),\n",
       " (u'half', 0.0),\n",
       " (u'closed', 0.0),\n",
       " (u'eyes', 0.0),\n",
       " (u'nasty', -1.0),\n",
       " (u'things', 0.0),\n",
       " (u'flesh', 0.0),\n",
       " (u'much', 0.0),\n",
       " (u'like', 1.0),\n",
       " (u'flesh', 0.0),\n",
       " (u'men', 0.0),\n",
       " (u'perfume', 1.0),\n",
       " (u'rotten', -1.0),\n",
       " (u'sweetness', 1.0),\n",
       " (u'prostitute', -1.0),\n",
       " (u'stared', 0.0),\n",
       " (u'mouth', 0.0),\n",
       " (u'open', 1.0),\n",
       " (u'soft', 1.0),\n",
       " (u'wet', 0.0),\n",
       " (u'heat', 0.0),\n",
       " (u'like', 1.0),\n",
       " (u'pall', 0.0),\n",
       " (u'around', 0.0),\n",
       " (u'us', 0.0),\n",
       " (u'old', 0.0),\n",
       " (u'man', 0.0),\n",
       " (u'nodded', 0.0),\n",
       " (u'neck', 0.0),\n",
       " (u'afraid', -1.0),\n",
       " (u'weight', -1.0),\n",
       " (u'head', 0.0),\n",
       " (u'butler', 1.0),\n",
       " (u'came', 0.0),\n",
       " (u'pushing', 0.0),\n",
       " (u'back', 1.0),\n",
       " (u'jungle', 0.0),\n",
       " (u'teawagon', 0.0),\n",
       " (u'mixed', 0.0),\n",
       " (u'brandy', -1.0),\n",
       " (u'soda', 0.0),\n",
       " (u'swathed', 0.0),\n",
       " (u'copper', 0.0),\n",
       " (u'ice', 0.0),\n",
       " (u'bucket', 0.0),\n",
       " (u'damp', 0.0),\n",
       " (u'napkin', 0.0),\n",
       " (u'went', 0.0),\n",
       " (u'away', 0.0),\n",
       " (u'softly', 0.0),\n",
       " (u'among', 0.0),\n",
       " (u'orchids', 0.0),\n",
       " (u'door', 0.0),\n",
       " (u'opened', 0.0),\n",
       " (u'shut', 0.0),\n",
       " (u'behind', 0.0),\n",
       " (u'jungle', 0.0),\n",
       " (u'sipped', 0.0),\n",
       " (u'drink', 0.0),\n",
       " (u'old', 0.0),\n",
       " (u'man', 0.0),\n",
       " (u'licked', 0.0),\n",
       " (u'lips', 0.0),\n",
       " (u'watching', 0.0),\n",
       " (u'drawing', 0.0),\n",
       " (u'one', 0.0),\n",
       " (u'lip', 0.0),\n",
       " (u'slowly', -1.0),\n",
       " (u'across', 0.0),\n",
       " (u'funereal', 0.0),\n",
       " (u'absorption', 1.0),\n",
       " (u'like', 1.0),\n",
       " (u'undertaker', 0.0),\n",
       " (u'dry', 0.0),\n",
       " (u'washing', 0.0),\n",
       " (u'hands', 0.0),\n",
       " (u'tell', 0.0),\n",
       " (u'mr', 0.0),\n",
       " (u'marlowe', 0.0),\n",
       " (u'suppose', 0.0),\n",
       " (u'right', 1.0),\n",
       " (u'ask', 0.0),\n",
       " (u'sure', 1.0),\n",
       " (u'little', -1.0),\n",
       " ...]"
      ]
     },
     "execution_count": 30,
     "metadata": {},
     "output_type": "execute_result"
    }
   ],
   "source": [
    "wordfeels"
   ]
  },
  {
   "cell_type": "code",
   "execution_count": 31,
   "metadata": {
    "collapsed": false
   },
   "outputs": [
    {
     "data": {
      "text/html": [
       "<div>\n",
       "<table border=\"1\" class=\"dataframe\">\n",
       "  <thead>\n",
       "    <tr style=\"text-align: right;\">\n",
       "      <th></th>\n",
       "      <th>word</th>\n",
       "      <th>emotion</th>\n",
       "      <th>sentiment</th>\n",
       "    </tr>\n",
       "  </thead>\n",
       "  <tbody>\n",
       "    <tr>\n",
       "      <th>0</th>\n",
       "      <td>eleven</td>\n",
       "      <td>0</td>\n",
       "      <td>0.0</td>\n",
       "    </tr>\n",
       "    <tr>\n",
       "      <th>1</th>\n",
       "      <td>clock</td>\n",
       "      <td>anticipation</td>\n",
       "      <td>0.0</td>\n",
       "    </tr>\n",
       "    <tr>\n",
       "      <th>2</th>\n",
       "      <td>morning</td>\n",
       "      <td>0</td>\n",
       "      <td>0.0</td>\n",
       "    </tr>\n",
       "    <tr>\n",
       "      <th>3</th>\n",
       "      <td>mid</td>\n",
       "      <td>0</td>\n",
       "      <td>0.0</td>\n",
       "    </tr>\n",
       "    <tr>\n",
       "      <th>4</th>\n",
       "      <td>october</td>\n",
       "      <td>0</td>\n",
       "      <td>0.0</td>\n",
       "    </tr>\n",
       "  </tbody>\n",
       "</table>\n",
       "</div>"
      ],
      "text/plain": [
       "      word       emotion  sentiment\n",
       "0   eleven             0        0.0\n",
       "1    clock  anticipation        0.0\n",
       "2  morning             0        0.0\n",
       "3      mid             0        0.0\n",
       "4  october             0        0.0"
      ]
     },
     "execution_count": 31,
     "metadata": {},
     "output_type": "execute_result"
    }
   ],
   "source": [
    "sleepsentiment.head()"
   ]
  },
  {
   "cell_type": "code",
   "execution_count": 32,
   "metadata": {
    "collapsed": false
   },
   "outputs": [
    {
     "data": {
      "text/plain": [
       "211"
      ]
     },
     "execution_count": 32,
     "metadata": {},
     "output_type": "execute_result"
    }
   ],
   "source": [
    "len(pospage)"
   ]
  },
  {
   "cell_type": "code",
   "execution_count": 33,
   "metadata": {
    "collapsed": false,
    "scrolled": true
   },
   "outputs": [
    {
     "data": {
      "text/plain": [
       "<Container object of 211 artists>"
      ]
     },
     "execution_count": 33,
     "metadata": {},
     "output_type": "execute_result"
    },
    {
     "data": {
      "image/png": "[encoded data removed]",
      "text/plain": [
       "<matplotlib.figure.Figure at 0x7fd1daa90290>"
      ]
     },
     "metadata": {},
     "output_type": "display_data"
    }
   ],
   "source": [
    "plt.figure(figsize=(12,5))\n",
    "plt.axhline(y=0)\n",
    "plt.bar(range(len(pospage)),pospage)\n",
    "plt.bar(range(len(negpage)), negpage, color='r')"
   ]
  },
  {
   "cell_type": "code",
   "execution_count": 34,
   "metadata": {
    "collapsed": false
   },
   "outputs": [],
   "source": [
    "pagesent = map(int,pagesent)"
   ]
  },
  {
   "cell_type": "code",
   "execution_count": 35,
   "metadata": {
    "collapsed": false
   },
   "outputs": [
    {
     "data": {
      "text/plain": [
       "211"
      ]
     },
     "execution_count": 35,
     "metadata": {},
     "output_type": "execute_result"
    }
   ],
   "source": [
    "len(pagesent)"
   ]
  },
  {
   "cell_type": "code",
   "execution_count": 36,
   "metadata": {
    "collapsed": true
   },
   "outputs": [],
   "source": [
    "import scipy.fftpack"
   ]
  },
  {
   "cell_type": "code",
   "execution_count": 37,
   "metadata": {
    "collapsed": false
   },
   "outputs": [],
   "source": [
    "woman = [u'she',u'her',u'girl']\n",
    "womancount = []\n",
    "for i in chunker(sleepwordsorig,326):\n",
    "    womantmp = 0\n",
    "    for word in i:\n",
    "        if word in woman:\n",
    "            womantmp+=1\n",
    "    womancount.append(womantmp)"
   ]
  },
  {
   "cell_type": "code",
   "execution_count": 38,
   "metadata": {
    "collapsed": false,
    "scrolled": true
   },
   "outputs": [
    {
     "data": {
      "text/plain": [
       "<Container object of 211 artists>"
      ]
     },
     "execution_count": 38,
     "metadata": {},
     "output_type": "execute_result"
    },
    {
     "data": {
      "image/png": "[encoded data removed]",
      "text/plain": [
       "<matplotlib.figure.Figure at 0x7fd1d6a0c350>"
      ]
     },
     "metadata": {},
     "output_type": "display_data"
    }
   ],
   "source": [
    "plt.figure(figsize=(12,5))\n",
    "plt.bar(range(len(womancount)),womancount,color='g')"
   ]
  },
  {
   "cell_type": "code",
   "execution_count": 39,
   "metadata": {
    "collapsed": true
   },
   "outputs": [],
   "source": [
    "womanpage = [i for i in range(len(womancount)) if womancount[i] > 20]"
   ]
  },
  {
   "cell_type": "code",
   "execution_count": 40,
   "metadata": {
    "collapsed": false
   },
   "outputs": [
    {
     "data": {
      "text/plain": [
       "[2, 14, 57, 78, 135, 142, 176, 196, 199, 200, 202, 205, 206]"
      ]
     },
     "execution_count": 40,
     "metadata": {},
     "output_type": "execute_result"
    }
   ],
   "source": [
    "womanpage"
   ]
  },
  {
   "cell_type": "code",
   "execution_count": 41,
   "metadata": {
    "collapsed": true
   },
   "outputs": [],
   "source": [
    "guncount = []\n",
    "gun = ['gun','guns']\n",
    "for i in chunker(sleepwordsorig,326):\n",
    "    guntmp = 0\n",
    "    for word in i:\n",
    "        if word in gun:\n",
    "            guntmp+=1\n",
    "    guncount.append(guntmp)"
   ]
  },
  {
   "cell_type": "code",
   "execution_count": 42,
   "metadata": {
    "collapsed": false
   },
   "outputs": [
    {
     "data": {
      "text/plain": [
       "<Container object of 211 artists>"
      ]
     },
     "execution_count": 42,
     "metadata": {},
     "output_type": "execute_result"
    },
    {
     "data": {
      "image/png": "[encoded data removed]",
      "text/plain": [
       "<matplotlib.figure.Figure at 0x7fd1d69f0810>"
      ]
     },
     "metadata": {},
     "output_type": "display_data"
    }
   ],
   "source": [
    "plt.figure(figsize=(12,5))\n",
    "plt.bar(range(len(guncount)),guncount)"
   ]
  },
  {
   "cell_type": "code",
   "execution_count": 43,
   "metadata": {
    "collapsed": false
   },
   "outputs": [],
   "source": [
    "gunpage = [i for i in range(len(guncount)) if guncount[i] > 3]"
   ]
  },
  {
   "cell_type": "code",
   "execution_count": 44,
   "metadata": {
    "collapsed": false
   },
   "outputs": [
    {
     "data": {
      "text/plain": [
       "31642"
      ]
     },
     "execution_count": 44,
     "metadata": {},
     "output_type": "execute_result"
    }
   ],
   "source": [
    "len(sleepwords)"
   ]
  },
  {
   "cell_type": "code",
   "execution_count": 45,
   "metadata": {
    "collapsed": false,
    "scrolled": true
   },
   "outputs": [
    {
     "data": {
      "text/html": [
       "<div>\n",
       "<table border=\"1\" class=\"dataframe\">\n",
       "  <thead>\n",
       "    <tr style=\"text-align: right;\">\n",
       "      <th></th>\n",
       "      <th>word</th>\n",
       "    </tr>\n",
       "  </thead>\n",
       "  <tbody>\n",
       "    <tr>\n",
       "      <th>0</th>\n",
       "      <td>eleven</td>\n",
       "    </tr>\n",
       "    <tr>\n",
       "      <th>1</th>\n",
       "      <td>clock</td>\n",
       "    </tr>\n",
       "    <tr>\n",
       "      <th>2</th>\n",
       "      <td>morning</td>\n",
       "    </tr>\n",
       "    <tr>\n",
       "      <th>3</th>\n",
       "      <td>mid</td>\n",
       "    </tr>\n",
       "    <tr>\n",
       "      <th>4</th>\n",
       "      <td>october</td>\n",
       "    </tr>\n",
       "  </tbody>\n",
       "</table>\n",
       "</div>"
      ],
      "text/plain": [
       "      word\n",
       "0   eleven\n",
       "1    clock\n",
       "2  morning\n",
       "3      mid\n",
       "4  october"
      ]
     },
     "execution_count": 45,
     "metadata": {},
     "output_type": "execute_result"
    }
   ],
   "source": [
    "sleepwords.head()"
   ]
  },
  {
   "cell_type": "code",
   "execution_count": 46,
   "metadata": {
    "collapsed": true
   },
   "outputs": [],
   "source": [
    "plotpts = [4260, 6219, 9158, 10469, 12942, 13589, 14106, 16530, \\\n",
    "          19304, 23920, 26098, 27035, 27779, 30114, 31377]"
   ]
  },
  {
   "cell_type": "code",
   "execution_count": 47,
   "metadata": {
    "collapsed": true
   },
   "outputs": [],
   "source": [
    "plotpg = [((i - 1) // 150) + 1 for i in plotpts]"
   ]
  },
  {
   "cell_type": "code",
   "execution_count": 48,
   "metadata": {
    "collapsed": false
   },
   "outputs": [
    {
     "data": {
      "text/plain": [
       "15"
      ]
     },
     "execution_count": 48,
     "metadata": {},
     "output_type": "execute_result"
    }
   ],
   "source": [
    "len(plotpts)"
   ]
  },
  {
   "cell_type": "code",
   "execution_count": 49,
   "metadata": {
    "collapsed": false
   },
   "outputs": [
    {
     "data": {
      "text/plain": [
       "[29, 42, 62, 70, 87, 91, 95, 111, 129, 160, 174, 181, 186, 201, 210]"
      ]
     },
     "execution_count": 49,
     "metadata": {},
     "output_type": "execute_result"
    }
   ],
   "source": [
    "plotpg"
   ]
  },
  {
   "cell_type": "code",
   "execution_count": 52,
   "metadata": {
    "collapsed": false,
    "scrolled": true
   },
   "outputs": [
    {
     "data": {
      "text/plain": [
       "211"
      ]
     },
     "execution_count": 52,
     "metadata": {},
     "output_type": "execute_result"
    }
   ],
   "source": [
    "len(pagesent)"
   ]
  },
  {
   "cell_type": "code",
   "execution_count": 53,
   "metadata": {
    "collapsed": false
   },
   "outputs": [],
   "source": [
    "pagecontent = []\n",
    "for i in chunker(sleepstop, 150):\n",
    "    pagecontent.append(i)"
   ]
  },
  {
   "cell_type": "code",
   "execution_count": 54,
   "metadata": {
    "collapsed": true
   },
   "outputs": [],
   "source": [
    "def printpage(i):\n",
    "    print ' '.join(pagecontent[i])"
   ]
  },
  {
   "cell_type": "code",
   "execution_count": 55,
   "metadata": {
    "collapsed": false
   },
   "outputs": [
    {
     "name": "stdout",
     "output_type": "stream",
     "text": [
      "identification goddamned funny police racket old woman look window see guy running pick line six months later show hotel help clear photo sure one qualifications good hotel help yeah eddie mars wife live together friendly eddie says possibilities first regan carried fifteen grand packed clothes time real money tell top card bunch hay lot jack regan might boy around could take look somebody looking maybe give damn wife says never made nickel old man sternwood except room board packard 120 wife gave tie ex legger rich gravy beats well guy ducks fifteen grand pants folks know well money might duck fifteen grand two kids high school first thought somebody rolls rolls hard take desert plant among cactuses like well regan carried gat plenty experience using greasy faced liquor mob understand commanded whole brigade irish troubles back 1922 whenever guy like white meat heister car garage makes whoever rolled know sweet\n"
     ]
    }
   ],
   "source": [
    "printpage(111)"
   ]
  },
  {
   "cell_type": "code",
   "execution_count": 56,
   "metadata": {
    "collapsed": false
   },
   "outputs": [
    {
     "data": {
      "text/plain": [
       "23"
      ]
     },
     "execution_count": 56,
     "metadata": {},
     "output_type": "execute_result"
    }
   ],
   "source": [
    "pagesent[111]"
   ]
  },
  {
   "cell_type": "code",
   "execution_count": 57,
   "metadata": {
    "collapsed": false
   },
   "outputs": [
    {
     "data": {
      "text/plain": [
       "([u'police',\n",
       "  u'pick',\n",
       "  u'help',\n",
       "  u'clear',\n",
       "  u'sure',\n",
       "  u'good',\n",
       "  u'help',\n",
       "  u'live',\n",
       "  u'friendly',\n",
       "  u'grand',\n",
       "  u'real',\n",
       "  u'money',\n",
       "  u'top',\n",
       "  u'might',\n",
       "  u'give',\n",
       "  u'board',\n",
       "  u'rich',\n",
       "  u'well',\n",
       "  u'grand',\n",
       "  u'know',\n",
       "  u'well',\n",
       "  u'money',\n",
       "  u'might',\n",
       "  u'grand',\n",
       "  u'like',\n",
       "  u'well',\n",
       "  u'plenty',\n",
       "  u'experience',\n",
       "  u'understand',\n",
       "  u'back',\n",
       "  u'like',\n",
       "  u'white',\n",
       "  u'know',\n",
       "  u'sweet'],\n",
       " [u'funny',\n",
       "  u'racket',\n",
       "  u'boy',\n",
       "  u'damn',\n",
       "  u'hard',\n",
       "  u'desert',\n",
       "  u'greasy',\n",
       "  u'liquor',\n",
       "  u'mob',\n",
       "  u'brigade',\n",
       "  u'troubles'])"
      ]
     },
     "execution_count": 57,
     "metadata": {},
     "output_type": "execute_result"
    }
   ],
   "source": [
    "pages[111]"
   ]
  },
  {
   "cell_type": "code",
   "execution_count": 58,
   "metadata": {
    "collapsed": false,
    "scrolled": true
   },
   "outputs": [
    {
     "name": "stdout",
     "output_type": "stream",
     "text": [
      "gun might automatic finished whirled perhaps would nice allow another shot two like gentleman old school gun still wait longer long enough gentleman old school shot four times colt straining ribs gun jumped hand kicked reached hands stomach could hear smack hard body fell like straight forward holding together broad hands fell face wet gravel sound silver wig make sound either stood rigid rain swirling walked around canino kicked gun without purpose walked bent sideways picked put close beside spoke moodily talking afraid come back date told arranged began laugh like loon bending touching little stood small key thin chain bitterly kill stopped laughing suddenly started went behind unlocked handcuffs yes softly suppose 30 another day sun shining captain gregory missing persons bureau looked heavily office window barred upper floor hall justice white clean rain turned ponderously swivel chair tamped pipe heat scarred thumb stared bleakly got another jam oh\n"
     ]
    }
   ],
   "source": [
    "printpage(185)"
   ]
  },
  {
   "cell_type": "code",
   "execution_count": 59,
   "metadata": {
    "collapsed": false,
    "scrolled": true
   },
   "outputs": [
    {
     "name": "stdout",
     "output_type": "stream",
     "text": [
      "heard brother sit day fanny look brain head surprised hear shooting canino right guess figure homicide boys pinned medals lot killing going around getting share smiled patiently told girl eddie mars wife told listened carefully yawned tapped gold studded mouth palm like tray guess figure ought found fair deduction maybe knew maybe thought eddie woman wanted play little game like would smart smart ever get let think getting away maybe think letting eddie get away personal reasons held big hand revolved thumb index second fingers really think even eddie seemed know talk day raised eyebrows raising effort trick practice furrowed whole forehead smoothed full white lines turned reddish watched copper plain ordinary copper reasonably honest honest could expect man world style mainly asked come morning like believe copper like see law win like see flashy well dressed muggs like eddie mars spoiling manicures rock quarry folsom alongside poor little slum\n"
     ]
    }
   ],
   "source": [
    "printpage(186)"
   ]
  },
  {
   "cell_type": "code",
   "execution_count": 60,
   "metadata": {
    "collapsed": false
   },
   "outputs": [
    {
     "data": {
      "text/plain": [
       "0"
      ]
     },
     "execution_count": 60,
     "metadata": {},
     "output_type": "execute_result"
    }
   ],
   "source": [
    "pagesent[185]"
   ]
  },
  {
   "cell_type": "code",
   "execution_count": 61,
   "metadata": {
    "collapsed": false
   },
   "outputs": [
    {
     "data": {
      "text/plain": [
       "24"
      ]
     },
     "execution_count": 61,
     "metadata": {},
     "output_type": "execute_result"
    }
   ],
   "source": [
    "pagesent[186]"
   ]
  },
  {
   "cell_type": "code",
   "execution_count": 62,
   "metadata": {
    "collapsed": false
   },
   "outputs": [
    {
     "data": {
      "text/plain": [
       "([u'might',\n",
       "  u'nice',\n",
       "  u'allow',\n",
       "  u'like',\n",
       "  u'gentleman',\n",
       "  u'enough',\n",
       "  u'gentleman',\n",
       "  u'hand',\n",
       "  u'like',\n",
       "  u'straight',\n",
       "  u'forward',\n",
       "  u'broad',\n",
       "  u'sound',\n",
       "  u'make',\n",
       "  u'sound',\n",
       "  u'stood',\n",
       "  u'back',\n",
       "  u'laugh',\n",
       "  u'like',\n",
       "  u'stood',\n",
       "  u'laughing',\n",
       "  u'yes',\n",
       "  u'sun',\n",
       "  u'shining',\n",
       "  u'captain',\n",
       "  u'justice',\n",
       "  u'white',\n",
       "  u'clean',\n",
       "  u'jam'],\n",
       " [u'gun',\n",
       "  u'shot',\n",
       "  u'gun',\n",
       "  u'wait',\n",
       "  u'long',\n",
       "  u'shot',\n",
       "  u'straining',\n",
       "  u'gun',\n",
       "  u'smack',\n",
       "  u'hard',\n",
       "  u'fell',\n",
       "  u'fell',\n",
       "  u'rigid',\n",
       "  u'gun',\n",
       "  u'bent',\n",
       "  u'close',\n",
       "  u'spoke',\n",
       "  u'afraid',\n",
       "  u'loon',\n",
       "  u'little',\n",
       "  u'small',\n",
       "  u'bitterly',\n",
       "  u'kill',\n",
       "  u'missing',\n",
       "  u'heavily',\n",
       "  u'barred',\n",
       "  u'scarred',\n",
       "  u'thumb',\n",
       "  u'bleakly'])"
      ]
     },
     "execution_count": 62,
     "metadata": {},
     "output_type": "execute_result"
    }
   ],
   "source": [
    "pages[185]"
   ]
  },
  {
   "cell_type": "code",
   "execution_count": 63,
   "metadata": {
    "collapsed": true
   },
   "outputs": [],
   "source": [
    "x= range(len(pagesent))"
   ]
  },
  {
   "cell_type": "code",
   "execution_count": 64,
   "metadata": {
    "collapsed": false,
    "scrolled": true
   },
   "outputs": [
    {
     "data": {
      "text/plain": [
       "[77, 85, 183, 197, 200]"
      ]
     },
     "execution_count": 64,
     "metadata": {},
     "output_type": "execute_result"
    }
   ],
   "source": [
    "gunpage"
   ]
  },
  {
   "cell_type": "code",
   "execution_count": 65,
   "metadata": {
    "collapsed": false
   },
   "outputs": [
    {
     "data": {
      "text/plain": [
       "<matplotlib.text.Text at 0x7fd1d4fa4890>"
      ]
     },
     "execution_count": 65,
     "metadata": {},
     "output_type": "execute_result"
    },
    {
     "data": {
      "image/png": "[encoded data removed]",
      "text/plain": [
       "<matplotlib.figure.Figure at 0x7fd1d5081750>"
      ]
     },
     "metadata": {},
     "output_type": "display_data"
    }
   ],
   "source": [
    "cN = 211\n",
    "cx = np.linspace(0,2*np.pi,cN)\n",
    "cy = np.asarray(pagesent)\n",
    "\n",
    "cw = scipy.fftpack.rfft(cy)\n",
    "cf = scipy.fftpack.rfftfreq(cN, cx[1]-cx[0])\n",
    "cspectrum = cw**2\n",
    "\n",
    "ccutoff_idx = cspectrum < (cspectrum.max()/13)\n",
    "cw2 = cw.copy()\n",
    "cw2[ccutoff_idx] = 0\n",
    "\n",
    "cy2 = scipy.fftpack.irfft(cw2)\n",
    "\n",
    "fig = plt.figure(figsize=(16,6))\n",
    "ax = fig.add_subplot(111)\n",
    "plt.plot(x,cy, alpha=0.5, color='grey')\n",
    "plt.plot(x,cy2, linewidth=2, color='steelblue')\n",
    "\n",
    "    \n",
    "ax.annotate('geiger shot', xy=(29, 3.1), xytext=(29, 0),\n",
    "            arrowprops=dict(arrowstyle='->'))\n",
    "ax.annotate('chauffeur car found', xy=(42, 4.3), xytext=(42, 6.5),\n",
    "            arrowprops=dict(arrowstyle='->'))\n",
    "ax.annotate('eddie mars confrontation', xy=(62, 4.1), xytext=(53, 2),\n",
    "            arrowprops=dict(arrowstyle='->'))\n",
    "ax.annotate('joe brody entrance', xy=(68, 5),xytext=(70, 8),\n",
    "            arrowprops=dict(arrowstyle='->'))\n",
    "ax.annotate('joe brody shot', xy=(87, 2.5), xytext=(89,4.5),\n",
    "            arrowprops=dict(arrowstyle='->'))\n",
    "ax.annotate('geiger body found', xy=(95, 1.7), xytext=(95,0),\n",
    "            arrowprops=dict(arrowstyle='->'))\n",
    "ax.annotate('captain gregory interrogation', xy=(111, 8.4), xytext=(111,10),\n",
    "            arrowprops=dict(arrowstyle='->'))\n",
    "ax.annotate('lanny stick up', xy=(129, -0.2),xytext=(129,-2),\n",
    "            arrowprops=dict(arrowstyle='->'))\n",
    "ax.annotate('harry jones poisoned', xy=(160, 3.8),xytext=(162, 5),\n",
    "            arrowprops=dict(arrowstyle='->'))\n",
    "ax.annotate('fight at the hideout', xy=(174, 1.1), xytext=(174, -2),\n",
    "            arrowprops=dict(arrowstyle='->'))\n",
    "ax.annotate('escape', xy=(181, 6.5), xytext=(185,6.5), \n",
    "            arrowprops=dict(arrowstyle='->'))\n",
    "ax.annotate('shooting canino', xy=(186, 9.1), xytext=(186, 11),\n",
    "            arrowprops=dict(arrowstyle='->'))\n",
    "ax.annotate('carmen shooting', xy=(201, 2.1), xytext=(203, 3.5),\n",
    "            arrowprops=dict(arrowstyle='->'))\n",
    "ax.annotate('vivan confession', xy=(208, 1), xytext=(211, 0),\n",
    "            arrowprops=dict(arrowstyle='->'))\n",
    "\n",
    "\n",
    "guns = gunpage\n",
    "for xc in guns:\n",
    "    plt.axvline(x=xc,color='r', linewidth=1.5, alpha = 0.7)\n",
    "    \n",
    "girls = womanpage\n",
    "for xg in girls:\n",
    "    plt.axvline(x=xg, color='orange', linewidth=1.5, alpha = 0.7)\n",
    "    \n",
    "plt.axhline(y=0, color='black', alpha=0.7)\n",
    "\n",
    "plt.xlabel('page')\n",
    "plt.ylabel('sentiment')"
   ]
  },
  {
   "cell_type": "code",
   "execution_count": null,
   "metadata": {
    "collapsed": true
   },
   "outputs": [],
   "source": []
  },
  {
   "cell_type": "code",
   "execution_count": 66,
   "metadata": {
    "collapsed": false
   },
   "outputs": [
    {
     "data": {
      "text/plain": [
       "[3.1356397256120965,\n",
       " 4.3104343271285632,\n",
       " 4.1127542600408962,\n",
       " 5.4780253963665162,\n",
       " 2.8970013364250429,\n",
       " 1.7431437882537457,\n",
       " 1.6642183152841534,\n",
       " 8.4074338225015453,\n",
       " -0.14627092139792042,\n",
       " 3.7967651455253573,\n",
       " 1.0591778152586071,\n",
       " 6.5457826776086652,\n",
       " 9.070026374385165,\n",
       " 2.088278856300577,\n",
       " 1.0602281370506736]"
      ]
     },
     "execution_count": 66,
     "metadata": {},
     "output_type": "execute_result"
    }
   ],
   "source": [
    "[cy2[i-1] for i in plotpg]"
   ]
  }
 ],
 "metadata": {
  "kernelspec": {
   "display_name": "Python 2",
   "language": "python",
   "name": "python2"
  },
  "language_info": {
   "codemirror_mode": {
    "name": "ipython",
    "version": 2
   },
   "file_extension": ".py",
   "mimetype": "text/x-python",
   "name": "python",
   "nbconvert_exporter": "python",
   "pygments_lexer": "ipython2",
   "version": "2.7.11"
  }
 },
 "nbformat": 4,
 "nbformat_minor": 0
}
