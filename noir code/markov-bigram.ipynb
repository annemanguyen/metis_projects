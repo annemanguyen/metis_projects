{
 "cells": [
  {
   "cell_type": "code",
   "execution_count": 1,
   "metadata": {
    "collapsed": true
   },
   "outputs": [],
   "source": [
    "import glob\n",
    "import os\n",
    "import random\n",
    "import cPickle as pickle"
   ]
  },
  {
   "cell_type": "code",
   "execution_count": null,
   "metadata": {
    "collapsed": false
   },
   "outputs": [],
   "source": [
    "texts = []\n",
    "path = '/home/amn34/metis/stuff/noirs/chandler/'\n",
    "for books in glob.glob(os.path.join(path, '*.txt')):\n",
    "    doc = open(books).read()\n",
    "    texts.append(doc.replace('-',' ').split())"
   ]
  },
  {
   "cell_type": "code",
   "execution_count": null,
   "metadata": {
    "collapsed": true
   },
   "outputs": [],
   "source": [
    "texts = [item for sublist in texts for item in sublist]"
   ]
  },
  {
   "cell_type": "code",
   "execution_count": null,
   "metadata": {
    "collapsed": true
   },
   "outputs": [],
   "source": [
    "cdict = {}\n",
    "\n",
    "for i in range(len(texts)-2):\n",
    "    key = (texts[i], texts[i+1])\n",
    "    follow = texts[i+2]\n",
    "    \n",
    "    if key in cdict:\n",
    "        cdict[key].append(follow)\n",
    "    else: cdict[key] = [follow]"
   ]
  },
  {
   "cell_type": "code",
   "execution_count": null,
   "metadata": {
    "collapsed": true
   },
   "outputs": [],
   "source": [
    "pkl = 'cdict.pkl'\n",
    "pklfile = open(pkl,'wb') \n",
    "pickle.dump(cdict,pklfile)   \n",
    "pklfile.close()"
   ]
  },
  {
   "cell_type": "code",
   "execution_count": 2,
   "metadata": {
    "collapsed": true
   },
   "outputs": [],
   "source": [
    "cdfile = open('cdict.pkl','r')  \n",
    "cdict = pickle.load(cdfile)"
   ]
  },
  {
   "cell_type": "code",
   "execution_count": 6,
   "metadata": {
    "collapsed": false
   },
   "outputs": [
    {
     "name": "stdout",
     "output_type": "stream",
     "text": [
      "\"Thinking about halfway down, sitting on the street to the book. She lived at this moment, that he was posted from and he probably doesn't want anything very long. You can't really think that? Oh no you don't. You think I'd actually be idiot enough to screw up any more, tough boy.\" \"I'm leaving.\" I stood there looking into my pocket. I shoved the folder of checks and drawing pictures on the side of the Belvedere Club. I lost her yesterday. I should want to open her mouth stubbornly. \"No, Mr. Endicott, if you can hear a peep from her. Her blond hair down in the morning.\n"
     ]
    }
   ],
   "source": [
    "while (start[0][0].islower()) or (start[0][0] != '\"'):\n",
    "    start = random.choice(cdict.keys())\n",
    "\n",
    "output = []\n",
    "output.extend(start)\n",
    "\n",
    "startposs = [i for i in cdict.keys() if i[0] == start[1]]\n",
    "\n",
    "output.append(random.choice(startposs)[1])\n",
    "\n",
    "punct = ['?','.','!','?\"','.\"','!\"']\n",
    "\n",
    "for i in range(1,100):\n",
    "    nextword = (output[-2], output[-1])\n",
    "    if nextword in cdict.keys():\n",
    "        output.append(random.choice(cdict[nextword]))\n",
    "        \n",
    "while output[-1][-1] not in punct:\n",
    "    nextword = (output[-2], output[-1])\n",
    "    if nextword in cdict.keys():\n",
    "        output.append(random.choice(cdict[nextword]))\n",
    "        \n",
    "print ' '.join(output)"
   ]
  },
  {
   "cell_type": "markdown",
   "metadata": {},
   "source": [
    "#### examples"
   ]
  },
  {
   "cell_type": "markdown",
   "metadata": {},
   "source": [
    "Slightly bruised up a rusty wire in the envelope. \"How much were you in the room and lie down a succession of high keening noise like a collapsed lung. He was leaning forward, her fine eyes and too much about whores, amigo. They are not so pretty to me. I refilled it."
   ]
  },
  {
   "cell_type": "code",
   "execution_count": null,
   "metadata": {
    "collapsed": true
   },
   "outputs": [],
   "source": []
  }
 ],
 "metadata": {
  "kernelspec": {
   "display_name": "Python 2",
   "language": "python",
   "name": "python2"
  },
  "language_info": {
   "codemirror_mode": {
    "name": "ipython",
    "version": 2
   },
   "file_extension": ".py",
   "mimetype": "text/x-python",
   "name": "python",
   "nbconvert_exporter": "python",
   "pygments_lexer": "ipython2",
   "version": "2.7.11"
  }
 },
 "nbformat": 4,
 "nbformat_minor": 0
}
