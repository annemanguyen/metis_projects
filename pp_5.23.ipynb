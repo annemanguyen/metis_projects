{
 "cells": [
  {
   "cell_type": "code",
   "execution_count": 19,
   "metadata": {
    "collapsed": true
   },
   "outputs": [],
   "source": [
    "import scipy, sklearn"
   ]
  },
  {
   "cell_type": "code",
   "execution_count": 20,
   "metadata": {
    "collapsed": true
   },
   "outputs": [],
   "source": [
    "from scipy import io, sparse\n",
    "from sklearn import decomposition"
   ]
  },
  {
   "cell_type": "code",
   "execution_count": 60,
   "metadata": {
    "collapsed": true
   },
   "outputs": [],
   "source": [
    "import pandas as pd"
   ]
  },
  {
   "cell_type": "code",
   "execution_count": 8,
   "metadata": {
    "collapsed": true
   },
   "outputs": [],
   "source": [
    "bbc = io.mmread('/home/amn34/Downloads/bbc.mtx')"
   ]
  },
  {
   "cell_type": "code",
   "execution_count": 18,
   "metadata": {
    "collapsed": false,
    "scrolled": true
   },
   "outputs": [
    {
     "data": {
      "text/plain": [
       "<9635x2225 sparse matrix of type '<type 'numpy.float64'>'\n",
       "\twith 286774 stored elements in COOrdinate format>"
      ]
     },
     "execution_count": 18,
     "metadata": {},
     "output_type": "execute_result"
    }
   ],
   "source": [
    "bbc"
   ]
  },
  {
   "cell_type": "code",
   "execution_count": 9,
   "metadata": {
    "collapsed": true
   },
   "outputs": [],
   "source": [
    "terms = open('/home/amn34/Downloads/bbc.terms').read()"
   ]
  },
  {
   "cell_type": "code",
   "execution_count": 10,
   "metadata": {
    "collapsed": true
   },
   "outputs": [],
   "source": [
    "docs = open('/home/amn34/Downloads/bbc.docs').read()"
   ]
  },
  {
   "cell_type": "code",
   "execution_count": 3,
   "metadata": {
    "collapsed": false
   },
   "outputs": [
    {
     "data": {
      "text/plain": [
       "'business.001\\nbusiness.002\\nbusiness.003\\nbusiness.004\\nbusiness.005\\nbusiness.006\\nbusiness.007\\nbusiness.008\\nbusiness.009\\nbusiness.010\\nbusiness.011\\nbusiness.012\\nbusiness.013\\nbusiness.014\\nbusiness.015\\nbusiness.016\\nbusiness.017\\nbusiness.018\\nbusiness.019\\nbusiness.020\\nbusiness.021\\nbusiness.022\\nbusiness.023\\nbusiness.024\\nbusiness.025\\nbusiness.026\\nbusiness.027\\nbusiness.028\\nbusiness.029\\nbusiness.030\\nbusiness.031\\nbusiness.032\\nbusiness.033\\nbusiness.034\\nbusiness.035\\nbusiness.036\\nbusiness.037\\nbusiness.038\\nbusine'"
      ]
     },
     "execution_count": 3,
     "metadata": {},
     "output_type": "execute_result"
    }
   ],
   "source": [
    "docs[0:500]"
   ]
  },
  {
   "cell_type": "code",
   "execution_count": 22,
   "metadata": {
    "collapsed": false
   },
   "outputs": [],
   "source": [
    "model = decomposition.NMF(n_components=5)"
   ]
  },
  {
   "cell_type": "code",
   "execution_count": 51,
   "metadata": {
    "collapsed": true
   },
   "outputs": [],
   "source": [
    "words = model.fit(bbc)"
   ]
  },
  {
   "cell_type": "code",
   "execution_count": 43,
   "metadata": {
    "collapsed": false
   },
   "outputs": [],
   "source": [
    "articles = model.fit_transform(bbc)"
   ]
  },
  {
   "cell_type": "code",
   "execution_count": 45,
   "metadata": {
    "collapsed": false
   },
   "outputs": [
    {
     "data": {
      "text/plain": [
       "array([[ 0.75923941,  0.48728167,  0.22730929,  0.6548441 ,  0.40532225],\n",
       "       [ 0.21826771,  0.3548688 ,  0.30329943,  1.00565043,  0.34176427],\n",
       "       [ 0.2237177 ,  0.03846341,  0.05496137,  0.15859588,  0.13278486],\n",
       "       [ 1.37609612,  2.97719425,  0.49874352,  1.02116302,  0.88794902],\n",
       "       [ 0.        ,  0.01983368,  0.        ,  0.03964669,  0.07446715],\n",
       "       [ 0.17444771,  0.        ,  0.0392129 ,  0.41785918,  0.14026367],\n",
       "       [ 0.01272587,  0.        ,  0.        ,  0.03254264,  0.01023434],\n",
       "       [ 0.09163936,  0.13658365,  0.04117186,  0.89582373,  0.07817895],\n",
       "       [ 0.06802959,  0.06268841,  0.        ,  0.30033273,  0.0700708 ],\n",
       "       [ 0.06100192,  0.09265792,  0.13784038,  0.03255396,  0.13133327]])"
      ]
     },
     "execution_count": 45,
     "metadata": {},
     "output_type": "execute_result"
    }
   ],
   "source": [
    "articles[0:10]"
   ]
  },
  {
   "cell_type": "code",
   "execution_count": 58,
   "metadata": {
    "collapsed": false
   },
   "outputs": [],
   "source": [
    "arttopic = []\n",
    "\n",
    "for i in articles:\n",
    "    arttopic.append(i.argmax(axis=0))"
   ]
  },
  {
   "cell_type": "code",
   "execution_count": 59,
   "metadata": {
    "collapsed": false,
    "scrolled": true
   },
   "outputs": [
    {
     "data": {
      "text/plain": [
       "[0, 3, 0, 1, 4, 3, 3, 3, 3, 2]"
      ]
     },
     "execution_count": 59,
     "metadata": {},
     "output_type": "execute_result"
    }
   ],
   "source": [
    "arttopic[0:10]"
   ]
  },
  {
   "cell_type": "code",
   "execution_count": 63,
   "metadata": {
    "collapsed": false
   },
   "outputs": [],
   "source": [
    "topnames = pd.DataFrame(columns = ['topic'])"
   ]
  },
  {
   "cell_type": "code",
   "execution_count": 64,
   "metadata": {
    "collapsed": true
   },
   "outputs": [],
   "source": [
    "topnames['topic']  = arttopic"
   ]
  },
  {
   "cell_type": "code",
   "execution_count": 67,
   "metadata": {
    "collapsed": false
   },
   "outputs": [],
   "source": [
    "topnames.topic.replace({0:'business',1:'entertainment',2:'politics',3:'sports',4:'tech'}, inplace=True)"
   ]
  },
  {
   "cell_type": "code",
   "execution_count": 68,
   "metadata": {
    "collapsed": false
   },
   "outputs": [
    {
     "data": {
      "text/html": [
       "<div>\n",
       "<table border=\"1\" class=\"dataframe\">\n",
       "  <thead>\n",
       "    <tr style=\"text-align: right;\">\n",
       "      <th></th>\n",
       "      <th>topic</th>\n",
       "    </tr>\n",
       "  </thead>\n",
       "  <tbody>\n",
       "    <tr>\n",
       "      <th>0</th>\n",
       "      <td>business</td>\n",
       "    </tr>\n",
       "    <tr>\n",
       "      <th>1</th>\n",
       "      <td>sports</td>\n",
       "    </tr>\n",
       "    <tr>\n",
       "      <th>2</th>\n",
       "      <td>business</td>\n",
       "    </tr>\n",
       "    <tr>\n",
       "      <th>3</th>\n",
       "      <td>entertainment</td>\n",
       "    </tr>\n",
       "    <tr>\n",
       "      <th>4</th>\n",
       "      <td>tech</td>\n",
       "    </tr>\n",
       "    <tr>\n",
       "      <th>5</th>\n",
       "      <td>sports</td>\n",
       "    </tr>\n",
       "    <tr>\n",
       "      <th>6</th>\n",
       "      <td>sports</td>\n",
       "    </tr>\n",
       "    <tr>\n",
       "      <th>7</th>\n",
       "      <td>sports</td>\n",
       "    </tr>\n",
       "    <tr>\n",
       "      <th>8</th>\n",
       "      <td>sports</td>\n",
       "    </tr>\n",
       "    <tr>\n",
       "      <th>9</th>\n",
       "      <td>politics</td>\n",
       "    </tr>\n",
       "    <tr>\n",
       "      <th>10</th>\n",
       "      <td>entertainment</td>\n",
       "    </tr>\n",
       "    <tr>\n",
       "      <th>11</th>\n",
       "      <td>sports</td>\n",
       "    </tr>\n",
       "    <tr>\n",
       "      <th>12</th>\n",
       "      <td>tech</td>\n",
       "    </tr>\n",
       "    <tr>\n",
       "      <th>13</th>\n",
       "      <td>sports</td>\n",
       "    </tr>\n",
       "    <tr>\n",
       "      <th>14</th>\n",
       "      <td>sports</td>\n",
       "    </tr>\n",
       "    <tr>\n",
       "      <th>15</th>\n",
       "      <td>sports</td>\n",
       "    </tr>\n",
       "    <tr>\n",
       "      <th>16</th>\n",
       "      <td>sports</td>\n",
       "    </tr>\n",
       "    <tr>\n",
       "      <th>17</th>\n",
       "      <td>tech</td>\n",
       "    </tr>\n",
       "    <tr>\n",
       "      <th>18</th>\n",
       "      <td>business</td>\n",
       "    </tr>\n",
       "    <tr>\n",
       "      <th>19</th>\n",
       "      <td>sports</td>\n",
       "    </tr>\n",
       "  </tbody>\n",
       "</table>\n",
       "</div>"
      ],
      "text/plain": [
       "            topic\n",
       "0        business\n",
       "1          sports\n",
       "2        business\n",
       "3   entertainment\n",
       "4            tech\n",
       "5          sports\n",
       "6          sports\n",
       "7          sports\n",
       "8          sports\n",
       "9        politics\n",
       "10  entertainment\n",
       "11         sports\n",
       "12           tech\n",
       "13         sports\n",
       "14         sports\n",
       "15         sports\n",
       "16         sports\n",
       "17           tech\n",
       "18       business\n",
       "19         sports"
      ]
     },
     "execution_count": 68,
     "metadata": {},
     "output_type": "execute_result"
    }
   ],
   "source": [
    "topnames[0:20]"
   ]
  },
  {
   "cell_type": "code",
   "execution_count": 54,
   "metadata": {
    "collapsed": false
   },
   "outputs": [
    {
     "data": {
      "text/plain": [
       "array([[  6.63658724e-02,   2.49482107e-01,   1.72238036e-01, ...,\n",
       "          5.27989645e-01,   1.47617657e-01,   0.00000000e+00],\n",
       "       [  1.39887216e-02,   1.31428907e-02,   0.00000000e+00, ...,\n",
       "          3.87575739e-02,   4.89935032e-03,   4.88834722e+00],\n",
       "       [  0.00000000e+00,   0.00000000e+00,   0.00000000e+00, ...,\n",
       "          0.00000000e+00,   4.60379679e-03,   0.00000000e+00],\n",
       "       [  2.49294702e-01,   6.29081776e-02,   4.19141143e-02, ...,\n",
       "          3.70699253e-01,   2.17935661e-01,   2.93021570e-02],\n",
       "       [  1.23883150e-01,   6.29900754e-02,   1.73963803e-02, ...,\n",
       "          2.42141861e-02,   1.45976485e-02,   0.00000000e+00]])"
      ]
     },
     "execution_count": 54,
     "metadata": {},
     "output_type": "execute_result"
    }
   ],
   "source": [
    "model.components_"
   ]
  },
  {
   "cell_type": "code",
   "execution_count": null,
   "metadata": {
    "collapsed": true
   },
   "outputs": [],
   "source": []
  }
 ],
 "metadata": {
  "kernelspec": {
   "display_name": "Python 2",
   "language": "python",
   "name": "python2"
  },
  "language_info": {
   "codemirror_mode": {
    "name": "ipython",
    "version": 2
   },
   "file_extension": ".py",
   "mimetype": "text/x-python",
   "name": "python",
   "nbconvert_exporter": "python",
   "pygments_lexer": "ipython2",
   "version": "2.7.11"
  }
 },
 "nbformat": 4,
 "nbformat_minor": 0
}
