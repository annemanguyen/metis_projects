{
 "cells": [
  {
   "cell_type": "code",
   "execution_count": 25,
   "metadata": {
    "collapsed": true
   },
   "outputs": [],
   "source": [
    "import glob\n",
    "import os\n",
    "import random\n",
    "import cPickle as pickle"
   ]
  },
  {
   "cell_type": "code",
   "execution_count": 3,
   "metadata": {
    "collapsed": false
   },
   "outputs": [],
   "source": [
    "texts = []\n",
    "path = '/home/amn34/metis/stuff/noirs/chandler/'\n",
    "for books in glob.glob(os.path.join(path, '*.txt')):\n",
    "    doc = open(books).read()\n",
    "    texts.append(doc.replace('-',' ').split())"
   ]
  },
  {
   "cell_type": "code",
   "execution_count": 4,
   "metadata": {
    "collapsed": true
   },
   "outputs": [],
   "source": [
    "texts = [item for sublist in texts for item in sublist]"
   ]
  },
  {
   "cell_type": "code",
   "execution_count": 33,
   "metadata": {
    "collapsed": false
   },
   "outputs": [],
   "source": [
    "c3dict = {}\n",
    "\n",
    "for i in range(len(texts)-3):\n",
    "    key = (texts[i], texts[i+1], texts[i+2])\n",
    "    follow = texts[i+3]\n",
    "    \n",
    "    if key in c3dict:\n",
    "        c3dict[key].append(follow)\n",
    "    else: c3dict[key] = [follow]"
   ]
  },
  {
   "cell_type": "code",
   "execution_count": 35,
   "metadata": {
    "collapsed": false
   },
   "outputs": [],
   "source": [
    "pkl = 'c3dict.pkl'\n",
    "pklfile = open(pkl,'wb') \n",
    "pickle.dump(c3dict,pklfile)   \n",
    "pklfile.close()"
   ]
  },
  {
   "cell_type": "code",
   "execution_count": 36,
   "metadata": {
    "collapsed": true
   },
   "outputs": [],
   "source": [
    "cdfile = open('c3dict.pkl','r')  \n",
    "c3dict = pickle.load(cdfile)"
   ]
  },
  {
   "cell_type": "code",
   "execution_count": 37,
   "metadata": {
    "collapsed": false
   },
   "outputs": [
    {
     "name": "stdout",
     "output_type": "stream",
     "text": [
      "Ronson. \"Lucille down at the hand that held it wavered. It swept slowly along the polished surface of the swimming pool and the tennis courts to a spot where all I could see the action. But already some of the patients must know. All it took to finish him was one sorehead and one telephone call. Wade wouldn't have gone within blocks of where I was. \"But of course bring up the photographs. I am sure she is dying to see them. The apartment number is fourteen.\" \"Will you be there too?\" \"But of course. But the charter pilot thought the guy didn't seem to care much one way or the other.\n"
     ]
    }
   ],
   "source": [
    "while True:\n",
    "    start = random.choice(c3dict.keys())\n",
    "    if (start[0][0].isupper()) or (start[0][0] == '\"'):\n",
    "        break\n",
    "\n",
    "output = []\n",
    "output.extend(start)\n",
    "\n",
    "startposs = [i for i in c3dict.keys() if (i[0],i[1]) == (start[1], start[2])]\n",
    "\n",
    "output.append(random.choice(startposs)[2])\n",
    "\n",
    "punct = ['?','.','!','?\"','.\"','!\"']\n",
    "\n",
    "for i in range(1,100):\n",
    "    nextword = (output[-3], output[-2], output[-1])\n",
    "    if nextword in c3dict.keys():\n",
    "        output.append(random.choice(c3dict[nextword]))\n",
    "        \n",
    "while output[-1][-1] not in punct:\n",
    "    nextword = (output[-3], output[-2], output[-1])\n",
    "    if nextword in c3dict.keys():\n",
    "        output.append(random.choice(c3dict[nextword]))\n",
    "\n",
    "print ' '.join(output)"
   ]
  },
  {
   "cell_type": "markdown",
   "metadata": {},
   "source": [
    "#### examples"
   ]
  },
  {
   "cell_type": "markdown",
   "metadata": {},
   "source": [
    "Slightly bruised up a rusty wire in the envelope. \"How much were you in the room and lie down a succession of high keening noise like a collapsed lung. He was leaning forward, her fine eyes and too much about whores, amigo. They are not so pretty to me. I refilled it."
   ]
  },
  {
   "cell_type": "markdown",
   "metadata": {
    "collapsed": true
   },
   "source": [
    "She had loosened her hair and it hung loose around her face. I didn't. She was dead serious. It was out of sight and was gone. The unnatural brightness of his eyes and almost smiled. \"Who thereupon turns as pale as paper, froths at the mouth, and pulls a gun out of it. There are a lot of trouble,\" he said. \"Just quiet enough.\" He went on into the room, a tense and wary man who was a racketeer and having at least some negative protection from some of the hedge and gave the neighborhood the once over again. Then he came back."
   ]
  },
  {
   "cell_type": "code",
   "execution_count": null,
   "metadata": {
    "collapsed": true
   },
   "outputs": [],
   "source": []
  }
 ],
 "metadata": {
  "kernelspec": {
   "display_name": "Python 2",
   "language": "python",
   "name": "python2"
  },
  "language_info": {
   "codemirror_mode": {
    "name": "ipython",
    "version": 2
   },
   "file_extension": ".py",
   "mimetype": "text/x-python",
   "name": "python",
   "nbconvert_exporter": "python",
   "pygments_lexer": "ipython2",
   "version": "2.7.11"
  }
 },
 "nbformat": 4,
 "nbformat_minor": 0
}
