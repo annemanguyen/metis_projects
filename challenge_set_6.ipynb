{
 "cells": [
  {
   "cell_type": "markdown",
   "metadata": {},
   "source": [
    "#### Challenge Set 6\n",
    "#### Topic: Classification\n",
    "#### Date: 05/15/2016\n",
    "#### Name: Anne Nguyen"
   ]
  },
  {
   "cell_type": "code",
   "execution_count": 1,
   "metadata": {
    "collapsed": false
   },
   "outputs": [
    {
     "name": "stderr",
     "output_type": "stream",
     "text": [
      "/home/amn34/anaconda2/lib/python2.7/site-packages/matplotlib/font_manager.py:273: UserWarning: Matplotlib is building the font cache using fc-list. This may take a moment.\n",
      "  warnings.warn('Matplotlib is building the font cache using fc-list. This may take a moment.')\n"
     ]
    }
   ],
   "source": [
    "import matplotlib\n",
    "import matplotlib.pyplot as plt\n",
    "%matplotlib inline"
   ]
  },
  {
   "cell_type": "code",
   "execution_count": 2,
   "metadata": {
    "collapsed": true
   },
   "outputs": [],
   "source": [
    "import pandas as pd\n",
    "import numpy as np"
   ]
  },
  {
   "cell_type": "markdown",
   "metadata": {},
   "source": [
    "#### Challenge 1"
   ]
  },
  {
   "cell_type": "code",
   "execution_count": null,
   "metadata": {
    "collapsed": true
   },
   "outputs": [],
   "source": [
    "congress = pd.read_csv('house-votes-84.data', header = None)\n",
    "congress = congress.replace({'n':0,'y':1,'?':None})\n",
    "congress = congress.fillna(congress.mean())\n",
    "from sklearn.cross_validation import train_test_split\n",
    "X = congress.loc[:,1:17]\n",
    "y = congress[0]"
   ]
  },
  {
   "cell_type": "code",
   "execution_count": 67,
   "metadata": {
    "collapsed": false
   },
   "outputs": [
    {
     "name": "stdout",
     "output_type": "stream",
     "text": [
      "\n"
     ]
    }
   ],
   "source": [
    "X_train, X_test, y_train, y_test = train_test_split(X, y, test_size=0.33, random_state=4444)"
   ]
  },
  {
   "cell_type": "code",
   "execution_count": 7,
   "metadata": {
    "collapsed": true
   },
   "outputs": [],
   "source": [
    "from sklearn.neighbors import KNeighborsClassifier\n",
    "from sklearn.linear_model import LogisticRegression\n",
    "from sklearn.naive_bayes import GaussianNB\n",
    "from sklearn.svm import SVC\n",
    "from sklearn.tree import DecisionTreeClassifier\n",
    "from sklearn.ensemble import RandomForestClassifier"
   ]
  },
  {
   "cell_type": "code",
   "execution_count": 10,
   "metadata": {
    "collapsed": false
   },
   "outputs": [
    {
     "name": "stdout",
     "output_type": "stream",
     "text": [
      "\n"
     ]
    }
   ],
   "source": [
    "from sklearn.metrics import classification_report\n",
    "from sklearn.metrics import accuracy_score"
   ]
  },
  {
   "cell_type": "code",
   "execution_count": 19,
   "metadata": {
    "collapsed": false
   },
   "outputs": [
    {
     "name": "stdout",
     "output_type": "stream",
     "text": [
      "KNeighborsClassifier accuracy score:  0.916666666667\n",
      "             precision    recall  f1-score   support\n",
      "\n",
      "   democrat       0.93      0.93      0.93        88\n",
      " republican       0.89      0.89      0.89        56\n",
      "\n",
      "avg / total       0.92      0.92      0.92       144\n",
      "\n",
      "LogisticRegression accuracy score:  0.944444444444\n",
      "             precision    recall  f1-score   support\n",
      "\n",
      "   democrat       0.93      0.98      0.96        88\n",
      " republican       0.96      0.89      0.93        56\n",
      "\n",
      "avg / total       0.95      0.94      0.94       144\n",
      "\n",
      "GaussianNB accuracy score:  0.9375\n",
      "             precision    recall  f1-score   support\n",
      "\n",
      "   democrat       0.92      0.98      0.95        88\n",
      " republican       0.96      0.88      0.92        56\n",
      "\n",
      "avg / total       0.94      0.94      0.94       144\n",
      "\n",
      "SVC accuracy score:  0.951388888889\n",
      "             precision    recall  f1-score   support\n",
      "\n",
      "   democrat       0.96      0.97      0.96        88\n",
      " republican       0.95      0.93      0.94        56\n",
      "\n",
      "avg / total       0.95      0.95      0.95       144\n",
      "\n",
      "DecisionTreeClassifier accuracy score:  0.944444444444\n",
      "             precision    recall  f1-score   support\n",
      "\n",
      "   democrat       0.93      0.98      0.96        88\n",
      " republican       0.96      0.89      0.93        56\n",
      "\n",
      "avg / total       0.95      0.94      0.94       144\n",
      "\n",
      "RandomForestClassifier accuracy score:  0.9375\n",
      "             precision    recall  f1-score   support\n",
      "\n",
      "   democrat       0.92      0.98      0.95        88\n",
      " republican       0.96      0.88      0.92        56\n",
      "\n",
      "avg / total       0.94      0.94      0.94       144\n",
      "\n"
     ]
    }
   ],
   "source": [
    "for model in (KNeighborsClassifier(),LogisticRegression(),GaussianNB(),SVC(),DecisionTreeClassifier(),\\\n",
    "              RandomForestClassifier()):\n",
    "    tmp = model.fit(X_train, y_train)\n",
    "    print str(tmp).split('(')[0], 'accuracy score: ', accuracy_score(y_test, tmp.predict(X_test))\n",
    "    print classification_report(y_test, tmp.predict(X_test))"
   ]
  },
  {
   "cell_type": "markdown",
   "metadata": {},
   "source": [
    "#### Challenge 2"
   ]
  },
  {
   "cell_type": "code",
   "execution_count": 41,
   "metadata": {
    "collapsed": true
   },
   "outputs": [],
   "source": [
    "from sklearn.metrics import roc_curve, auc"
   ]
  },
  {
   "cell_type": "code",
   "execution_count": 68,
   "metadata": {
    "collapsed": false
   },
   "outputs": [],
   "source": [
    "y_train = y_train.replace({'democrat':0, 'republican':1})"
   ]
  },
  {
   "cell_type": "code",
   "execution_count": 69,
   "metadata": {
    "collapsed": false
   },
   "outputs": [],
   "source": [
    "y_test = y_test.replace({'democrat':0, 'republican':1})"
   ]
  },
  {
   "cell_type": "code",
   "execution_count": 84,
   "metadata": {
    "collapsed": false
   },
   "outputs": [
    {
     "name": "stdout",
     "output_type": "stream",
     "text": [
      "AUC for KNeighborsClassifier 0.912337662338\n",
      "AUC for LogisticRegression 0.935064935065\n",
      "AUC for GaussianNB 0.926136363636\n",
      "AUC for SVC 0.94724025974\n",
      "AUC for DecisionTreeClassifier 0.929383116883\n",
      "AUC for RandomForestClassifier 0.943993506494\n"
     ]
    },
    {
     "data": {
      "text/plain": [
       "<matplotlib.text.Text at 0x7fc7d4299810>"
      ]
     },
     "execution_count": 84,
     "metadata": {},
     "output_type": "execute_result"
    },
    {
     "data": {
      "image/png": "[encoded data removed]",
      "text/plain": [
       "<matplotlib.figure.Figure at 0x7fc7dad53690>"
      ]
     },
     "metadata": {},
     "output_type": "display_data"
    }
   ],
   "source": [
    "plt.figure(figsize=(12,8))\n",
    "for model in (KNeighborsClassifier(),LogisticRegression(),GaussianNB(),SVC(),DecisionTreeClassifier(),\\\n",
    "              RandomForestClassifier()):\n",
    "    tmp = model.fit(X_train, y_train)\n",
    "    falsepos, truepos, _ = roc_curve(y_test, tmp.predict(X_test))\n",
    "    plt.plot(falsepos, truepos, label = str(model).split('(')[0])\n",
    "    print 'AUC for', str(model).split('(')[0], auc(falsepos, truepos)\n",
    "    \n",
    "plt.legend(loc='best')\n",
    "plt.plot([0,1],[0,1],'--')\n",
    "plt.title('ROC curves')\n",
    "plt.ylabel('true pos')\n",
    "plt.xlabel('false pos')"
   ]
  },
  {
   "cell_type": "markdown",
   "metadata": {},
   "source": [
    "#### Challenge 3"
   ]
  },
  {
   "cell_type": "code",
   "execution_count": 61,
   "metadata": {
    "collapsed": true
   },
   "outputs": [],
   "source": [
    "from sklearn.cross_validation import cross_val_score"
   ]
  },
  {
   "cell_type": "code",
   "execution_count": 73,
   "metadata": {
    "collapsed": true
   },
   "outputs": [],
   "source": [
    "y = y.replace({'democrat':0,'republican':1})"
   ]
  },
  {
   "cell_type": "code",
   "execution_count": 75,
   "metadata": {
    "collapsed": false,
    "scrolled": true
   },
   "outputs": [
    {
     "name": "stdout",
     "output_type": "stream",
     "text": [
      "KNeighborsClassifier \n",
      "accuracy: 0.933333333333 \n",
      "precision: 0.892538476524 \n",
      "recall: 0.940476190476 \n",
      "f1: 0.915836818433 \n",
      "\n",
      "LogisticRegression \n",
      "accuracy: 0.96091954023 \n",
      "precision: 0.949398719643 \n",
      "recall: 0.952380952381 \n",
      "f1: 0.950059445472 \n",
      "\n",
      "GaussianNB \n",
      "accuracy: 0.931034482759 \n",
      "precision: 0.908613247223 \n",
      "recall: 0.916666666667 \n",
      "f1: 0.911184814591 \n",
      "\n",
      "SVC \n",
      "accuracy: 0.954022988506 \n",
      "precision: 0.922270955166 \n",
      "recall: 0.964285714286 \n",
      "f1: 0.942183510572 \n",
      "\n",
      "DecisionTreeClassifier \n",
      "accuracy: 0.949425287356 \n",
      "precision: 0.920949968246 \n",
      "recall: 0.946428571429 \n",
      "f1: 0.935752963827 \n",
      "\n",
      "RandomForestClassifier \n",
      "accuracy: 0.965517241379 \n",
      "precision: 0.942099746221 \n",
      "recall: 0.97619047619 \n",
      "f1: 0.94623880782 \n",
      "\n"
     ]
    }
   ],
   "source": [
    "for model in (KNeighborsClassifier(),LogisticRegression(),GaussianNB(),SVC(),DecisionTreeClassifier(),\\\n",
    "              RandomForestClassifier()):\n",
    "    tmp = model.fit(X_train, y_train)\n",
    "    print str(model).split('(')[0], '\\n', 'accuracy:', np.mean(cross_val_score(tmp,X,y,scoring='accuracy')), '\\n',\\\n",
    "    'precision:', np.mean(cross_val_score(tmp,X,y,scoring='precision')),'\\n', 'recall:', \\\n",
    "    np.mean(cross_val_score(tmp,X,y,scoring='recall')),'\\n', 'f1:', np.mean(cross_val_score(tmp,X,y,scoring='f1')), '\\n'"
   ]
  },
  {
   "cell_type": "markdown",
   "metadata": {},
   "source": [
    "#### Challenge 4"
   ]
  },
  {
   "cell_type": "code",
   "execution_count": 76,
   "metadata": {
    "collapsed": true
   },
   "outputs": [],
   "source": [
    "from datetime import datetime\n",
    "movies = pd.read_csv('/home/amn34/metis/nyc16_ds7/challenges/challenges_data/2013_movies.csv')\n",
    "my = movies.Rating\n",
    "movies.ReleaseDate = pd.to_datetime(movies.ReleaseDate).apply(lambda x: x.toordinal())\n",
    "mX = movies[['Budget','DomesticTotalGross','Runtime','ReleaseDate']]\n",
    "mX = mX.fillna(mX.mean())\n",
    "mX_train, mX_test, my_train, my_test = train_test_split(mX, my, test_size=0.33, random_state=4444)"
   ]
  },
  {
   "cell_type": "code",
   "execution_count": 77,
   "metadata": {
    "collapsed": false
   },
   "outputs": [
    {
     "name": "stdout",
     "output_type": "stream",
     "text": [
      "             precision    recall  f1-score   support\n",
      "\n",
      "          G       0.00      0.00      0.00         0\n",
      "         PG       0.00      0.00      0.00         8\n",
      "      PG-13       0.58      0.73      0.65        15\n",
      "          R       0.54      0.70      0.61        10\n",
      "\n",
      "avg / total       0.43      0.55      0.48        33\n",
      "\n"
     ]
    },
    {
     "name": "stderr",
     "output_type": "stream",
     "text": [
      "/home/amn34/anaconda2/lib/python2.7/site-packages/sklearn/metrics/classification.py:1074: UndefinedMetricWarning: Precision and F-score are ill-defined and being set to 0.0 in labels with no predicted samples.\n",
      "  'precision', 'predicted', average, warn_for)\n",
      "/home/amn34/anaconda2/lib/python2.7/site-packages/sklearn/metrics/classification.py:1076: UndefinedMetricWarning: Recall and F-score are ill-defined and being set to 0.0 in labels with no true samples.\n",
      "  'recall', 'true', average, warn_for)\n"
     ]
    }
   ],
   "source": [
    "mlogit = LogisticRegression().fit(mX_train,my_train)\n",
    "print classification_report(my_test, mlogit.predict(mX_test))"
   ]
  },
  {
   "cell_type": "markdown",
   "metadata": {},
   "source": [
    "#### Challenge 5"
   ]
  },
  {
   "cell_type": "code",
   "execution_count": 78,
   "metadata": {
    "collapsed": true
   },
   "outputs": [],
   "source": [
    "bc = pd.read_csv('/home/amn34/metis/nyc16_ds7/challenges/challenges_data/haberman.data',header=None)\n",
    "bc.columns = ['age','year','nodes','survival']"
   ]
  },
  {
   "cell_type": "code",
   "execution_count": 79,
   "metadata": {
    "collapsed": true
   },
   "outputs": [],
   "source": [
    "bc.survival = bc.survival.replace(2,0)\n",
    "bcy = bc.survival\n",
    "bcX = bc.drop('survival', axis=1)\n",
    "bcX_train, bcX_test, bcy_train, bcy_test = train_test_split(bcX, bcy, test_size=0.33, random_state=4444)"
   ]
  },
  {
   "cell_type": "code",
   "execution_count": 94,
   "metadata": {
    "collapsed": false
   },
   "outputs": [
    {
     "data": {
      "text/plain": [
       "<matplotlib.text.Text at 0x7fc7d3af9050>"
      ]
     },
     "execution_count": 94,
     "metadata": {},
     "output_type": "execute_result"
    },
    {
     "data": {
      "image/png": "[encoded data removed]",
      "text/plain": [
       "<matplotlib.figure.Figure at 0x7fc7d3f67f90>"
      ]
     },
     "metadata": {},
     "output_type": "display_data"
    }
   ],
   "source": [
    "bclogit = LogisticRegression().fit(bcX_train,bcy_train)\n",
    "bcfalsepos, bctruepos, _ = roc_curve(bcy_test, bclogit.predict(bcX_test))\n",
    "plt.plot(bcfalsepos, bctruepos)\n",
    "plt.ylim([0.0,1.1])\n",
    "plt.plot([0,1],[0,1],'--')\n",
    "plt.title('ROC curve')\n",
    "plt.ylabel('true pos')\n",
    "plt.xlabel('false pos')"
   ]
  },
  {
   "cell_type": "code",
   "execution_count": 93,
   "metadata": {
    "collapsed": false
   },
   "outputs": [
    {
     "name": "stdout",
     "output_type": "stream",
     "text": [
      "AUC: 0.478084415584\n"
     ]
    }
   ],
   "source": [
    "print 'AUC:', auc(bcfalsepos, truepos)"
   ]
  },
  {
   "cell_type": "code",
   "execution_count": null,
   "metadata": {
    "collapsed": true
   },
   "outputs": [],
   "source": []
  }
 ],
 "metadata": {
  "kernelspec": {
   "display_name": "Python 2",
   "language": "python",
   "name": "python2"
  },
  "language_info": {
   "codemirror_mode": {
    "name": "ipython",
    "version": 2
   },
   "file_extension": ".py",
   "mimetype": "text/x-python",
   "name": "python",
   "nbconvert_exporter": "python",
   "pygments_lexer": "ipython2",
   "version": "2.7.11"
  }
 },
 "nbformat": 4,
 "nbformat_minor": 0
}
