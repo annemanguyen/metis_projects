{
 "cells": [
  {
   "cell_type": "code",
   "execution_count": 12,
   "metadata": {
    "collapsed": true
   },
   "outputs": [],
   "source": [
    "import nltk\n",
    "from nltk.tokenize import sent_tokenize, word_tokenize, RegexpTokenizer\n",
    "import sys"
   ]
  },
  {
   "cell_type": "code",
   "execution_count": 13,
   "metadata": {
    "collapsed": true
   },
   "outputs": [],
   "source": [
    "import glob\n",
    "import os"
   ]
  },
  {
   "cell_type": "code",
   "execution_count": 14,
   "metadata": {
    "collapsed": false
   },
   "outputs": [],
   "source": [
    "import matplotlib\n",
    "%matplotlib inline"
   ]
  },
  {
   "cell_type": "code",
   "execution_count": 15,
   "metadata": {
    "collapsed": false
   },
   "outputs": [],
   "source": [
    "import matplotlib.pyplot as plt"
   ]
  },
  {
   "cell_type": "code",
   "execution_count": 16,
   "metadata": {
    "collapsed": true
   },
   "outputs": [],
   "source": [
    "import gensim"
   ]
  },
  {
   "cell_type": "code",
   "execution_count": 17,
   "metadata": {
    "collapsed": true
   },
   "outputs": [],
   "source": [
    "from gensim import corpora, models, similarities"
   ]
  },
  {
   "cell_type": "code",
   "execution_count": 7,
   "metadata": {
    "collapsed": true
   },
   "outputs": [],
   "source": [
    "from nltk.stem.porter import PorterStemmer"
   ]
  },
  {
   "cell_type": "code",
   "execution_count": 18,
   "metadata": {
    "collapsed": false
   },
   "outputs": [],
   "source": [
    "from nltk.corpus import stopwords\n",
    "stop = stopwords.words('english')\n",
    "stop = stop + [u'said',u'went',u'could',u'would',u'got',u'get',u'looked',u'around',u'man',u'one',u'put',u'back',\\\n",
    "               u'like',u'know',u'little']"
   ]
  },
  {
   "cell_type": "code",
   "execution_count": 19,
   "metadata": {
    "collapsed": true
   },
   "outputs": [],
   "source": [
    "tokenizer = RegexpTokenizer(r'\\w+')"
   ]
  },
  {
   "cell_type": "code",
   "execution_count": 9,
   "metadata": {
    "collapsed": false
   },
   "outputs": [],
   "source": [
    "texts = []\n",
    "path = '/home/amn34/metis/stuff/noirs/chandler/'\n",
    "for books in glob.glob(os.path.join(path, '*.txt')):\n",
    "    doc = open(books).read()\n",
    "    doc = doc.decode('utf-8')\n",
    "    doc = doc.lower()\n",
    "    docwords = tokenizer.tokenize(doc)\n",
    "    stopped = [w for w in docwords if not w in stop]\n",
    "    #p_stem = PorterStemmer()\n",
    "    #stemmed_words = [p_stem.stem(i) for i in stopped]\n",
    "    texts.append(stopped)"
   ]
  },
  {
   "cell_type": "code",
   "execution_count": 43,
   "metadata": {
    "collapsed": false
   },
   "outputs": [],
   "source": [
    "#for i in texts: print 'book:', i[0:50], '\\n'"
   ]
  },
  {
   "cell_type": "code",
   "execution_count": 10,
   "metadata": {
    "collapsed": false
   },
   "outputs": [],
   "source": [
    "dictionary = corpora.Dictionary(texts)"
   ]
  },
  {
   "cell_type": "code",
   "execution_count": 11,
   "metadata": {
    "collapsed": true
   },
   "outputs": [],
   "source": [
    "corpus = [dictionary.doc2bow(text) for text in texts]"
   ]
  },
  {
   "cell_type": "code",
   "execution_count": 48,
   "metadata": {
    "collapsed": false
   },
   "outputs": [],
   "source": [
    "corpus2 = []\n",
    "\n",
    "for i in corpus:\n",
    "    s = sorted(i, key=lambda x: x[1], reverse=True)\n",
    "    corpus2.append(s[20:])"
   ]
  },
  {
   "cell_type": "code",
   "execution_count": 59,
   "metadata": {
    "collapsed": false
   },
   "outputs": [],
   "source": [
    "ldamodel = gensim.models.ldamodel.LdaModel(corpus, num_topics=5, alpha = 'auto', id2word = dictionary, passes=3)"
   ]
  },
  {
   "cell_type": "code",
   "execution_count": 60,
   "metadata": {
    "collapsed": false
   },
   "outputs": [
    {
     "data": {
      "text/plain": [
       "[(0, u'0.011*look + 0.008*back + 0.007*went + 0.007*get + 0.006*like'),\n",
       " (1, u'0.011*look + 0.009*like + 0.008*back + 0.007*know + 0.006*get'),\n",
       " (2, u'0.011*look + 0.009*like + 0.008*back + 0.007*went + 0.006*door'),\n",
       " (3, u'0.013*look + 0.009*like + 0.008*back + 0.007*know + 0.006*went'),\n",
       " (4, u'0.011*look + 0.008*like + 0.008*back + 0.007*get + 0.007*one')]"
      ]
     },
     "execution_count": 60,
     "metadata": {},
     "output_type": "execute_result"
    }
   ],
   "source": [
    "ldamodel.print_topics(num_topics=5, num_words=5)"
   ]
  },
  {
   "cell_type": "code",
   "execution_count": 61,
   "metadata": {
    "collapsed": true
   },
   "outputs": [],
   "source": [
    "#ldamodel2 = gensim.models.ldamodel.LdaModel(corpus2, num_topics=5, alpha = 'auto', id2word = dictionary, passes=3)"
   ]
  },
  {
   "cell_type": "code",
   "execution_count": 63,
   "metadata": {
    "collapsed": false
   },
   "outputs": [],
   "source": [
    "lda = ldamodel[corpus]"
   ]
  },
  {
   "cell_type": "code",
   "execution_count": 64,
   "metadata": {
    "collapsed": true
   },
   "outputs": [],
   "source": [
    "lda_docs = [doc for doc in lda]"
   ]
  },
  {
   "cell_type": "code",
   "execution_count": 65,
   "metadata": {
    "collapsed": false
   },
   "outputs": [
    {
     "data": {
      "text/plain": [
       "[[(1, 0.9977084264731696)],\n",
       " [(4, 0.99709657381814298)],\n",
       " [(4, 0.99913990756666637)],\n",
       " [(0, 0.99771681001900425)],\n",
       " [(4, 0.99958281850987851)],\n",
       " [(3, 0.99684816854901959)],\n",
       " [(2, 0.9967751589014211)]]"
      ]
     },
     "execution_count": 65,
     "metadata": {},
     "output_type": "execute_result"
    }
   ],
   "source": [
    "lda_docs"
   ]
  },
  {
   "cell_type": "code",
   "execution_count": 66,
   "metadata": {
    "collapsed": false
   },
   "outputs": [
    {
     "data": {
      "text/plain": [
       "[(0, u'0.004*around + 0.004*right + 0.004*room + 0.004*way + 0.004*name'),\n",
       " (1, u'0.004*around + 0.004*think + 0.004*see + 0.004*eddi + 0.004*want'),\n",
       " (2, u'0.004*way + 0.004*right + 0.004*came + 0.004*see + 0.004*make'),\n",
       " (3, u'0.004*still + 0.004*open + 0.004*light + 0.004*head + 0.004*thought'),\n",
       " (4, u'0.001*way + 0.001*someth + 0.001*turn + 0.001*call + 0.001*come')]"
      ]
     },
     "execution_count": 66,
     "metadata": {},
     "output_type": "execute_result"
    }
   ],
   "source": [
    "ldamodel2.print_topics(num_topics=5, num_words=5)"
   ]
  },
  {
   "cell_type": "code",
   "execution_count": null,
   "metadata": {
    "collapsed": true
   },
   "outputs": [],
   "source": [
    "ldamodel4 = gensim.models.ldamodel.LdaModel(corpus, num_topics=5, alpha = 'auto', id2word = dictionary, passes=3)"
   ]
  },
  {
   "cell_type": "markdown",
   "metadata": {},
   "source": [
    "#### tfidf and similarities"
   ]
  },
  {
   "cell_type": "code",
   "execution_count": 49,
   "metadata": {
    "collapsed": true
   },
   "outputs": [],
   "source": [
    "tfidf = models.TfidfModel(corpus)"
   ]
  },
  {
   "cell_type": "code",
   "execution_count": 50,
   "metadata": {
    "collapsed": true
   },
   "outputs": [],
   "source": [
    "corpus_tfidf = tfidf[corpus]"
   ]
  },
  {
   "cell_type": "markdown",
   "metadata": {},
   "source": [
    "#### LSI"
   ]
  },
  {
   "cell_type": "code",
   "execution_count": 59,
   "metadata": {
    "collapsed": false
   },
   "outputs": [],
   "source": [
    "lsi = models.LsiModel(corpus,id2word=dictionary,num_topics=100)"
   ]
  },
  {
   "cell_type": "code",
   "execution_count": 60,
   "metadata": {
    "collapsed": false
   },
   "outputs": [],
   "source": [
    "lsi_corp = lsi[corpus_tfidf]"
   ]
  },
  {
   "cell_type": "code",
   "execution_count": 61,
   "metadata": {
    "collapsed": false,
    "scrolled": true
   },
   "outputs": [],
   "source": [
    "lsidocs = [docs for docs in lsi_corp]"
   ]
  },
  {
   "cell_type": "code",
   "execution_count": 62,
   "metadata": {
    "collapsed": false
   },
   "outputs": [
    {
     "data": {
      "text/plain": [
       "[[(0, 0.024152198723476112),\n",
       "  (1, -0.012198962044240697),\n",
       "  (2, 0.01251720726067565),\n",
       "  (3, -0.012603472514571007),\n",
       "  (4, 0.0077766944261916451),\n",
       "  (5, -0.019270754127603672),\n",
       "  (6, 0.62153808689337287)],\n",
       " [(0, 0.057606425806798846),\n",
       "  (1, 0.16724657464095605),\n",
       "  (2, -0.70645625822949953),\n",
       "  (3, 0.016072264474437929),\n",
       "  (4, 0.020248221258768864),\n",
       "  (5, -0.085769307558449609),\n",
       "  (6, -0.07579251928464216)],\n",
       " [(0, 0.04356488663832285),\n",
       "  (1, 0.17505432378153382),\n",
       "  (2, 0.18909768533960816),\n",
       "  (3, 0.48103083988970724),\n",
       "  (4, -0.063254074668387797),\n",
       "  (5, -0.37890515101904992),\n",
       "  (6, -0.070722090836693077)],\n",
       " [(0, 0.043377221052336053),\n",
       "  (1, 0.10094071671210159),\n",
       "  (2, 0.10569790121185242),\n",
       "  (3, -0.30890364229136558),\n",
       "  (4, -0.53968921501297629),\n",
       "  (5, 0.023589284843907366),\n",
       "  (6, -0.081552321546721276)],\n",
       " [(0, 0.10430184015342042),\n",
       "  (1, -0.56971842297947783),\n",
       "  (2, -0.012503712074089499),\n",
       "  (3, 0.16357169915318232),\n",
       "  (4, -0.068847975274789419),\n",
       "  (5, -0.0037660532164495398),\n",
       "  (6, -0.18811090738062047)],\n",
       " [(0, 0.044848339605350146),\n",
       "  (1, 0.12265393636499056),\n",
       "  (2, 0.095658320650463258),\n",
       "  (3, 0.10629159195410132),\n",
       "  (4, 0.15158342134459796),\n",
       "  (5, 0.50616617855790147),\n",
       "  (6, -0.057014552079894178)],\n",
       " [(0, 0.046581661444644706),\n",
       "  (1, 0.030411792295476373),\n",
       "  (2, 0.10985878689652007),\n",
       "  (3, -0.32443210367930675),\n",
       "  (4, 0.3703599680590835),\n",
       "  (5, -0.23736571029019227),\n",
       "  (6, -0.11099899089671186)]]"
      ]
     },
     "execution_count": 62,
     "metadata": {},
     "output_type": "execute_result"
    }
   ],
   "source": [
    "lsidocs #these are the document vectors"
   ]
  },
  {
   "cell_type": "code",
   "execution_count": 63,
   "metadata": {
    "collapsed": false
   },
   "outputs": [],
   "source": [
    "index = similarities.MatrixSimilarity(lsidocs)"
   ]
  },
  {
   "cell_type": "code",
   "execution_count": 64,
   "metadata": {
    "collapsed": false
   },
   "outputs": [],
   "source": [
    "sim = sorted(enumerate(index[lsidocs[0]]),key = lambda item: -item[1])"
   ]
  },
  {
   "cell_type": "code",
   "execution_count": 65,
   "metadata": {
    "collapsed": false
   },
   "outputs": [
    {
     "data": {
      "text/plain": [
       "[(0, 1.0),\n",
       " (2, -0.10011195),\n",
       " (1, -0.11971439),\n",
       " (3, -0.12508082),\n",
       " (5, -0.12652844),\n",
       " (6, -0.15552139),\n",
       " (4, -0.27875277)]"
      ]
     },
     "execution_count": 65,
     "metadata": {},
     "output_type": "execute_result"
    }
   ],
   "source": [
    "sim"
   ]
  },
  {
   "cell_type": "markdown",
   "metadata": {},
   "source": [
    "#### tfidf sims"
   ]
  },
  {
   "cell_type": "code",
   "execution_count": 51,
   "metadata": {
    "collapsed": false
   },
   "outputs": [],
   "source": [
    "index = similarities.MatrixSimilarity(tfidf[corpus])"
   ]
  },
  {
   "cell_type": "code",
   "execution_count": 52,
   "metadata": {
    "collapsed": true
   },
   "outputs": [],
   "source": [
    "sims = index[corpus_tfidf]"
   ]
  },
  {
   "cell_type": "code",
   "execution_count": 53,
   "metadata": {
    "collapsed": false,
    "scrolled": true
   },
   "outputs": [
    {
     "name": "stdout",
     "output_type": "stream",
     "text": [
      "[[ 0.99999946  0.00358821  0.00692076  0.00491023  0.01305366  0.00580851\n",
      "   0.00919848]\n",
      " [ 0.00358821  1.00000131  0.00423647  0.00505418  0.0087037   0.00669264\n",
      "   0.00840007]\n",
      " [ 0.00692076  0.00423647  0.99999911  0.00552453  0.01135284  0.01781846\n",
      "   0.0073291 ]\n",
      " [ 0.00491023  0.00505418  0.00552453  1.0000006   0.01045414  0.00955684\n",
      "   0.00782859]\n",
      " [ 0.01305366  0.0087037   0.01135284  0.01045414  1.00000358  0.01098933\n",
      "   0.02283053]\n",
      " [ 0.00580851  0.00669264  0.01781846  0.00955684  0.01098933  0.99999893\n",
      "   0.01055269]\n",
      " [ 0.00919849  0.00840007  0.0073291   0.00782859  0.02283053  0.01055269\n",
      "   1.00000048]]\n"
     ]
    }
   ],
   "source": [
    "print sims"
   ]
  },
  {
   "cell_type": "code",
   "execution_count": 54,
   "metadata": {
    "collapsed": false
   },
   "outputs": [
    {
     "name": "stderr",
     "output_type": "stream",
     "text": [
      "/home/amn34/anaconda2/lib/python2.7/site-packages/gensim/models/ldamodel.py:527: RuntimeWarning: overflow encountered in exp2\n",
      "  (perwordbound, numpy.exp2(-perwordbound), len(chunk), corpus_words))\n"
     ]
    }
   ],
   "source": [
    "ldamodel3 = gensim.models.ldamodel.LdaModel(corpus_tfidf, num_topics=7, alpha = 'auto', id2word = dictionary, passes=5)"
   ]
  },
  {
   "cell_type": "code",
   "execution_count": 55,
   "metadata": {
    "collapsed": false
   },
   "outputs": [
    {
     "data": {
      "text/plain": [
       "[(0,\n",
       "  u'0.000*mitchell + 0.000*kingsley + 0.000*degarmo + 0.000*vannier + 0.000*regan'),\n",
       " (1,\n",
       "  u'0.000*marriott + 0.000*florian + 0.000*malloy + 0.000*riordan + 0.000*nulty'),\n",
       " (2, u'0.000*geiger + 0.000*regan + 0.000*brody + 0.000*canino + 0.000*mars'),\n",
       " (3, u'0.000*geiger + 0.000*regan + 0.000*brody + 0.000*mars + 0.000*carmen'),\n",
       " (4,\n",
       "  u'0.000*wade + 0.000*murdock + 0.000*vannier + 0.000*lennox + 0.000*hench'),\n",
       " (5,\n",
       "  u'0.000*degarmo + 0.000*mitchell + 0.000*regan + 0.000*patton + 0.000*murdock'),\n",
       " (6,\n",
       "  u'0.000*mitchell + 0.000*degarmo + 0.000*kingsley + 0.000*marriott + 0.000*lavery')]"
      ]
     },
     "execution_count": 55,
     "metadata": {},
     "output_type": "execute_result"
    }
   ],
   "source": [
    "ldamodel3.print_topics(num_topics=7, num_words=5)"
   ]
  },
  {
   "cell_type": "code",
   "execution_count": 56,
   "metadata": {
    "collapsed": true
   },
   "outputs": [],
   "source": [
    "lda3 = ldamodel3[corpus_tfidf]"
   ]
  },
  {
   "cell_type": "code",
   "execution_count": 57,
   "metadata": {
    "collapsed": true
   },
   "outputs": [],
   "source": [
    "lda3_docs = [doc for doc in lda3]"
   ]
  },
  {
   "cell_type": "code",
   "execution_count": 58,
   "metadata": {
    "collapsed": false
   },
   "outputs": [
    {
     "data": {
      "text/plain": [
       "[[(6, 0.97648981027408099)],\n",
       " [(6, 0.9697889848814919)],\n",
       " [(3, 0.96744580256227586), (6, 0.013854234045993277)],\n",
       " [(4, 0.96849859953598494), (6, 0.014218589870415056)],\n",
       " [(4, 0.9792325019083733)],\n",
       " [(6, 0.98233536924865883)],\n",
       " [(6, 0.98169335572282956)]]"
      ]
     },
     "execution_count": 58,
     "metadata": {},
     "output_type": "execute_result"
    }
   ],
   "source": [
    "lda3_docs"
   ]
  },
  {
   "cell_type": "markdown",
   "metadata": {},
   "source": [
    "#### parsing"
   ]
  },
  {
   "cell_type": "code",
   "execution_count": 2,
   "metadata": {
    "collapsed": true
   },
   "outputs": [],
   "source": [
    "from nltk import pos_tag"
   ]
  },
  {
   "cell_type": "code",
   "execution_count": 3,
   "metadata": {
    "collapsed": false
   },
   "outputs": [],
   "source": [
    "sleep = open('/home/amn34/metis/stuff/noirs/chandler/rc_bigsleep.txt').read()"
   ]
  },
  {
   "cell_type": "code",
   "execution_count": 4,
   "metadata": {
    "collapsed": false
   },
   "outputs": [],
   "source": [
    "sleep = sleep.decode('utf-8')"
   ]
  },
  {
   "cell_type": "code",
   "execution_count": null,
   "metadata": {
    "collapsed": true
   },
   "outputs": [],
   "source": [
    "#sleepsent = sent_tokenize(sleep)"
   ]
  },
  {
   "cell_type": "code",
   "execution_count": 24,
   "metadata": {
    "collapsed": true
   },
   "outputs": [],
   "source": [
    "raw = sleep.lower()\n",
    "sleepwords = tokenizer.tokenize(raw)"
   ]
  },
  {
   "cell_type": "code",
   "execution_count": 25,
   "metadata": {
    "collapsed": true
   },
   "outputs": [],
   "source": [
    "stopped = [w for w in sleepwords if not w in stop]"
   ]
  },
  {
   "cell_type": "code",
   "execution_count": null,
   "metadata": {
    "collapsed": true
   },
   "outputs": [],
   "source": [
    "#p_stemmer = PorterStemmer()"
   ]
  },
  {
   "cell_type": "code",
   "execution_count": null,
   "metadata": {
    "collapsed": true
   },
   "outputs": [],
   "source": [
    "#stemmed_words = [p_stemmer.stem(i) for i in stopped]"
   ]
  },
  {
   "cell_type": "code",
   "execution_count": 42,
   "metadata": {
    "collapsed": false
   },
   "outputs": [],
   "source": [
    "cap = pos_tag(word_tokenize(sleep))"
   ]
  },
  {
   "cell_type": "code",
   "execution_count": null,
   "metadata": {
    "collapsed": true
   },
   "outputs": [],
   "source": [
    "from nltk import Text"
   ]
  },
  {
   "cell_type": "code",
   "execution_count": null,
   "metadata": {
    "collapsed": true
   },
   "outputs": [],
   "source": [
    "text = nltk.Text(stopped)"
   ]
  },
  {
   "cell_type": "code",
   "execution_count": null,
   "metadata": {
    "collapsed": false
   },
   "outputs": [],
   "source": [
    "text.similar('man')"
   ]
  },
  {
   "cell_type": "code",
   "execution_count": null,
   "metadata": {
    "collapsed": false
   },
   "outputs": [],
   "source": [
    "text.similar('gun')"
   ]
  },
  {
   "cell_type": "code",
   "execution_count": null,
   "metadata": {
    "collapsed": false
   },
   "outputs": [],
   "source": [
    "text.similar('cigarette')"
   ]
  },
  {
   "cell_type": "code",
   "execution_count": null,
   "metadata": {
    "collapsed": false
   },
   "outputs": [],
   "source": [
    "text.common_contexts(['man','gun'])"
   ]
  },
  {
   "cell_type": "code",
   "execution_count": null,
   "metadata": {
    "collapsed": false
   },
   "outputs": [],
   "source": [
    "text.concordance('man')"
   ]
  },
  {
   "cell_type": "code",
   "execution_count": null,
   "metadata": {
    "collapsed": false
   },
   "outputs": [],
   "source": [
    "text.collocations()"
   ]
  },
  {
   "cell_type": "code",
   "execution_count": null,
   "metadata": {
    "collapsed": false
   },
   "outputs": [],
   "source": [
    "text.count('gun')"
   ]
  },
  {
   "cell_type": "code",
   "execution_count": null,
   "metadata": {
    "collapsed": true
   },
   "outputs": [],
   "source": [
    "from nltk import FreqDist"
   ]
  },
  {
   "cell_type": "code",
   "execution_count": null,
   "metadata": {
    "collapsed": true
   },
   "outputs": [],
   "source": [
    "fd = nltk.FreqDist(text)"
   ]
  },
  {
   "cell_type": "code",
   "execution_count": null,
   "metadata": {
    "collapsed": false
   },
   "outputs": [],
   "source": [
    "plt.figure(figsize = (12,8))\n",
    "fd.plot(50,cumulative=False,color='lilac')"
   ]
  },
  {
   "cell_type": "code",
   "execution_count": null,
   "metadata": {
    "collapsed": false
   },
   "outputs": [],
   "source": [
    "fd.hapaxes()"
   ]
  },
  {
   "cell_type": "code",
   "execution_count": null,
   "metadata": {
    "collapsed": false
   },
   "outputs": [],
   "source": [
    "tagged[0:10]"
   ]
  },
  {
   "cell_type": "code",
   "execution_count": null,
   "metadata": {
    "collapsed": false
   },
   "outputs": [],
   "source": [
    "keeplist = ['NN', 'NNP','NNPS','NNS', 'JJ', 'JJR', 'JJS', 'RB', 'RBR', 'RBS']"
   ]
  },
  {
   "cell_type": "code",
   "execution_count": null,
   "metadata": {
    "collapsed": false
   },
   "outputs": [],
   "source": [
    "naa = []\n",
    "for i in tagged:\n",
    "    if i[1] in keeplist:\n",
    "        naa.append(i[0])"
   ]
  },
  {
   "cell_type": "code",
   "execution_count": null,
   "metadata": {
    "collapsed": false
   },
   "outputs": [],
   "source": [
    "naa"
   ]
  },
  {
   "cell_type": "code",
   "execution_count": null,
   "metadata": {
    "collapsed": false
   },
   "outputs": [],
   "source": [
    "tagged_texts = []\n",
    "path = '/home/amn34/metis/stuff/noirs/chandler'\n",
    "for books in glob.glob(os.path.join(path, '*.txt')):\n",
    "    doc = open(books).read()\n",
    "    doc = doc.decode('utf-8')\n",
    "    doc = doc.lower()\n",
    "    docwords = tokenizer.tokenize(doc)\n",
    "    stopped = [w for w in docwords if not w in stop]\n",
    "    tagged = pos_tag(stopped)\n",
    "    tagged_texts.append(tagged)"
   ]
  },
  {
   "cell_type": "code",
   "execution_count": null,
   "metadata": {
    "collapsed": false
   },
   "outputs": [],
   "source": [
    "for i in tagged_texts: print i[0:5]"
   ]
  },
  {
   "cell_type": "code",
   "execution_count": null,
   "metadata": {
    "collapsed": false
   },
   "outputs": [],
   "source": [
    "nounadj = []\n",
    "\n",
    "for book in tagged_texts:\n",
    "    templist = []\n",
    "    for word in book:\n",
    "        if word[1] in keeplist:\n",
    "            templist.append(word[0])\n",
    "    nounadj.append(templist)"
   ]
  },
  {
   "cell_type": "code",
   "execution_count": null,
   "metadata": {
    "collapsed": false
   },
   "outputs": [],
   "source": [
    "naa_dictionary = corpora.Dictionary(nounadj)"
   ]
  },
  {
   "cell_type": "code",
   "execution_count": null,
   "metadata": {
    "collapsed": false
   },
   "outputs": [],
   "source": [
    "naa_corpus = [naa_dictionary.doc2bow(text) for text in nounadj]"
   ]
  },
  {
   "cell_type": "code",
   "execution_count": null,
   "metadata": {
    "collapsed": true
   },
   "outputs": [],
   "source": [
    "naa_ldamodel = gensim.models.ldamodel.LdaModel(naa_corpus, num_topics=2, alpha = 'auto', eta = 'auto', id2word = naa_dictionary, passes=10)"
   ]
  },
  {
   "cell_type": "code",
   "execution_count": null,
   "metadata": {
    "collapsed": false
   },
   "outputs": [],
   "source": [
    "naa_ldamodel.print_topics(num_topics=2, num_words=5)"
   ]
  },
  {
   "cell_type": "markdown",
   "metadata": {},
   "source": [
    "#### ne"
   ]
  },
  {
   "cell_type": "code",
   "execution_count": 17,
   "metadata": {
    "collapsed": false
   },
   "outputs": [],
   "source": [
    "sleepwords = tokenizer.tokenize(sleep)"
   ]
  },
  {
   "cell_type": "code",
   "execution_count": 20,
   "metadata": {
    "collapsed": false,
    "scrolled": true
   },
   "outputs": [],
   "source": [
    "named = nltk.ne_chunk(nltk.pos_tag(sleepwords))"
   ]
  },
  {
   "cell_type": "code",
   "execution_count": 25,
   "metadata": {
    "collapsed": false
   },
   "outputs": [
    {
     "data": {
      "text/plain": [
       "[(u'It', 'PRP'),\n",
       " (u'was', 'VBD'),\n",
       " (u'about', 'RB'),\n",
       " (u'eleven', 'JJ'),\n",
       " (u'o', 'NNS'),\n",
       " (u'clock', 'NN'),\n",
       " (u'in', 'IN'),\n",
       " (u'the', 'DT'),\n",
       " (u'morning', 'NN'),\n",
       " (u'mid', 'JJ'),\n",
       " (u'October', 'NNP'),\n",
       " (u'with', 'IN'),\n",
       " (u'the', 'DT'),\n",
       " (u'sun', 'NN'),\n",
       " (u'not', 'RB'),\n",
       " (u'shining', 'VBG'),\n",
       " (u'and', 'CC'),\n",
       " (u'a', 'DT'),\n",
       " (u'look', 'NN'),\n",
       " (u'of', 'IN'),\n",
       " (u'hard', 'JJ'),\n",
       " (u'wet', 'NN'),\n",
       " (u'rain', 'NN'),\n",
       " (u'in', 'IN'),\n",
       " (u'the', 'DT'),\n",
       " (u'clearness', 'NN'),\n",
       " (u'of', 'IN'),\n",
       " (u'the', 'DT'),\n",
       " (u'foothills', 'NNS'),\n",
       " (u'I', 'PRP'),\n",
       " (u'was', 'VBD'),\n",
       " (u'wearing', 'VBG'),\n",
       " (u'my', 'PRP$'),\n",
       " (u'powder', 'NN'),\n",
       " (u'blue', 'JJ'),\n",
       " (u'suit', 'NN'),\n",
       " (u'with', 'IN'),\n",
       " (u'dark', 'JJ'),\n",
       " (u'blue', 'JJ'),\n",
       " (u'shirt', 'NN'),\n",
       " (u'tie', 'NN'),\n",
       " (u'and', 'CC'),\n",
       " (u'display', 'NN'),\n",
       " (u'handkerchief', 'NN'),\n",
       " (u'black', 'JJ'),\n",
       " (u'brogues', 'NNS'),\n",
       " (u'black', 'JJ'),\n",
       " (u'wool', 'NN'),\n",
       " (u'socks', 'NNS'),\n",
       " (u'with', 'IN'),\n",
       " (u'dark', 'JJ'),\n",
       " (u'blue', 'NN'),\n",
       " (u'clocks', 'NNS'),\n",
       " (u'on', 'IN'),\n",
       " (u'them', 'PRP'),\n",
       " (u'I', 'PRP'),\n",
       " (u'was', 'VBD'),\n",
       " (u'neat', 'JJ'),\n",
       " (u'clean', 'JJ'),\n",
       " (u'shaved', 'VBN'),\n",
       " (u'and', 'CC'),\n",
       " (u'sober', 'JJ'),\n",
       " (u'and', 'CC'),\n",
       " (u'I', 'PRP'),\n",
       " (u'didn', 'VBP'),\n",
       " (u't', 'JJ'),\n",
       " (u'care', 'NN'),\n",
       " (u'who', 'WP'),\n",
       " (u'knew', 'VBD'),\n",
       " (u'it', 'PRP'),\n",
       " (u'I', 'PRP'),\n",
       " (u'was', 'VBD'),\n",
       " (u'everything', 'NN'),\n",
       " (u'the', 'DT'),\n",
       " (u'well', 'RB'),\n",
       " (u'dressed', 'JJ'),\n",
       " (u'private', 'JJ'),\n",
       " (u'detective', 'NN'),\n",
       " (u'ought', 'MD'),\n",
       " (u'to', 'TO'),\n",
       " (u'be', 'VB'),\n",
       " (u'I', 'PRP'),\n",
       " (u'was', 'VBD'),\n",
       " (u'calling', 'VBG'),\n",
       " (u'on', 'IN'),\n",
       " (u'four', 'CD'),\n",
       " (u'million', 'CD'),\n",
       " (u'dollars', 'NNS'),\n",
       " (u'The', 'DT'),\n",
       " (u'main', 'JJ'),\n",
       " (u'hallway', 'NN'),\n",
       " (u'of', 'IN'),\n",
       " (u'the', 'DT'),\n",
       " Tree('ORGANIZATION', [(u'Sternwood', 'NNP')]),\n",
       " (u'place', 'NN'),\n",
       " (u'was', 'VBD'),\n",
       " (u'two', 'CD'),\n",
       " (u'stories', 'NNS'),\n",
       " (u'high', 'VBP'),\n",
       " (u'Over', 'IN'),\n",
       " (u'the', 'DT'),\n",
       " (u'entrance', 'NN'),\n",
       " (u'doors', 'NNS'),\n",
       " (u'which', 'WDT'),\n",
       " (u'would', 'MD'),\n",
       " (u'have', 'VB'),\n",
       " (u'let', 'VBN'),\n",
       " (u'in', 'IN'),\n",
       " (u'a', 'DT'),\n",
       " (u'troop', 'NN'),\n",
       " (u'of', 'IN'),\n",
       " Tree('GPE', [(u'Indian', 'JJ')]),\n",
       " (u'elephants', 'NNS'),\n",
       " (u'there', 'EX'),\n",
       " (u'was', 'VBD'),\n",
       " (u'a', 'DT'),\n",
       " (u'broad', 'JJ'),\n",
       " (u'stained', 'JJ'),\n",
       " (u'glass', 'NN'),\n",
       " (u'panel', 'NN'),\n",
       " (u'showing', 'VBG'),\n",
       " (u'a', 'DT'),\n",
       " (u'knight', 'NN'),\n",
       " (u'in', 'IN'),\n",
       " (u'dark', 'JJ'),\n",
       " (u'armor', 'NN'),\n",
       " (u'rescuing', 'VBG'),\n",
       " (u'a', 'DT'),\n",
       " (u'lady', 'NN'),\n",
       " (u'who', 'WP'),\n",
       " (u'was', 'VBD'),\n",
       " (u'tied', 'VBN'),\n",
       " (u'to', 'TO'),\n",
       " (u'a', 'DT'),\n",
       " (u'tree', 'NN'),\n",
       " (u'and', 'CC'),\n",
       " (u'didn', 'NN'),\n",
       " (u't', 'NNS'),\n",
       " (u'have', 'VBP'),\n",
       " (u'any', 'DT'),\n",
       " (u'clothes', 'NNS'),\n",
       " (u'on', 'IN'),\n",
       " (u'but', 'CC'),\n",
       " (u'some', 'DT'),\n",
       " (u'very', 'RB'),\n",
       " (u'long', 'JJ'),\n",
       " (u'and', 'CC'),\n",
       " (u'convenient', 'JJ'),\n",
       " (u'hair', 'NN'),\n",
       " (u'The', 'DT'),\n",
       " (u'knight', 'NN'),\n",
       " (u'had', 'VBD'),\n",
       " (u'pushed', 'VBN'),\n",
       " (u'the', 'DT'),\n",
       " (u'vizor', 'NN'),\n",
       " (u'of', 'IN'),\n",
       " (u'his', 'PRP$'),\n",
       " (u'helmet', 'NN'),\n",
       " (u'back', 'RB'),\n",
       " (u'to', 'TO'),\n",
       " (u'be', 'VB'),\n",
       " (u'sociable', 'JJ'),\n",
       " (u'and', 'CC'),\n",
       " (u'he', 'PRP'),\n",
       " (u'was', 'VBD'),\n",
       " (u'fiddling', 'VBG'),\n",
       " (u'with', 'IN'),\n",
       " (u'the', 'DT'),\n",
       " (u'knots', 'NNS'),\n",
       " (u'on', 'IN'),\n",
       " (u'the', 'DT'),\n",
       " (u'ropes', 'NNS'),\n",
       " (u'that', 'WDT'),\n",
       " (u'tied', 'VBD'),\n",
       " (u'the', 'DT'),\n",
       " (u'lady', 'NN'),\n",
       " (u'to', 'TO'),\n",
       " (u'the', 'DT'),\n",
       " (u'tree', 'NN'),\n",
       " (u'and', 'CC'),\n",
       " (u'not', 'RB'),\n",
       " (u'getting', 'VBG'),\n",
       " (u'anywhere', 'RB'),\n",
       " (u'I', 'PRP'),\n",
       " (u'stood', 'VBD'),\n",
       " (u'there', 'EX'),\n",
       " (u'and', 'CC'),\n",
       " (u'thought', 'VBD'),\n",
       " (u'that', 'IN'),\n",
       " (u'if', 'IN'),\n",
       " (u'I', 'PRP'),\n",
       " (u'lived', 'VBD'),\n",
       " (u'in', 'IN'),\n",
       " (u'the', 'DT'),\n",
       " (u'house', 'NN'),\n",
       " (u'I', 'PRP'),\n",
       " (u'would', 'MD'),\n",
       " (u'sooner', 'RB'),\n",
       " (u'or', 'CC'),\n",
       " (u'later', 'RB'),\n",
       " (u'have', 'VBP'),\n",
       " (u'to', 'TO'),\n",
       " (u'climb', 'VB'),\n",
       " (u'up', 'RP'),\n",
       " (u'there', 'RB'),\n",
       " (u'and', 'CC'),\n",
       " (u'help', 'VB'),\n",
       " (u'him', 'PRP'),\n",
       " (u'He', 'PRP'),\n",
       " (u'didn', 'VBZ'),\n",
       " (u't', 'NN'),\n",
       " (u'seem', 'NN'),\n",
       " (u'to', 'TO'),\n",
       " (u'be', 'VB'),\n",
       " (u'really', 'RB'),\n",
       " (u'trying', 'VBG'),\n",
       " (u'There', 'EX'),\n",
       " (u'were', 'VBD'),\n",
       " Tree('GPE', [(u'French', 'JJ')]),\n",
       " (u'doors', 'NNS'),\n",
       " (u'at', 'IN'),\n",
       " (u'the', 'DT'),\n",
       " (u'back', 'NN'),\n",
       " (u'of', 'IN'),\n",
       " (u'the', 'DT'),\n",
       " (u'hall', 'NN'),\n",
       " (u'beyond', 'IN'),\n",
       " (u'them', 'PRP'),\n",
       " (u'a', 'DT'),\n",
       " (u'wide', 'JJ'),\n",
       " (u'sweep', 'NN'),\n",
       " (u'of', 'IN'),\n",
       " (u'emerald', 'JJ'),\n",
       " (u'grass', 'NN'),\n",
       " (u'to', 'TO'),\n",
       " (u'a', 'DT'),\n",
       " (u'white', 'JJ'),\n",
       " (u'garage', 'NN'),\n",
       " (u'in', 'IN'),\n",
       " (u'front', 'NN'),\n",
       " (u'of', 'IN'),\n",
       " (u'which', 'WDT'),\n",
       " (u'a', 'DT'),\n",
       " (u'slim', 'NN'),\n",
       " (u'dark', 'NN'),\n",
       " (u'young', 'JJ'),\n",
       " (u'chauffeur', 'NN'),\n",
       " (u'in', 'IN'),\n",
       " (u'shiny', 'JJ'),\n",
       " (u'black', 'JJ'),\n",
       " (u'leggings', 'NNS'),\n",
       " (u'was', 'VBD'),\n",
       " (u'dusting', 'VBG'),\n",
       " (u'a', 'DT'),\n",
       " (u'maroon', 'NN'),\n",
       " Tree('PERSON', [(u'Packard', 'NNP')]),\n",
       " (u'convertible', 'JJ'),\n",
       " (u'Beyond', 'NNP'),\n",
       " (u'the', 'DT'),\n",
       " (u'garage', 'NN'),\n",
       " (u'were', 'VBD'),\n",
       " (u'some', 'DT'),\n",
       " (u'decorative', 'JJ'),\n",
       " (u'trees', 'NNS'),\n",
       " (u'trimmed', 'VBD'),\n",
       " (u'as', 'RB'),\n",
       " (u'carefully', 'RB'),\n",
       " (u'as', 'IN'),\n",
       " (u'poodle', 'JJ'),\n",
       " (u'dogs', 'NNS'),\n",
       " (u'Beyond', 'VBP'),\n",
       " (u'them', 'PRP'),\n",
       " (u'a', 'DT'),\n",
       " (u'large', 'JJ'),\n",
       " (u'greenhouse', 'NN'),\n",
       " (u'with', 'IN'),\n",
       " (u'a', 'DT'),\n",
       " (u'domed', 'JJ'),\n",
       " (u'roof', 'NN'),\n",
       " (u'Then', 'RB'),\n",
       " (u'more', 'RBR'),\n",
       " (u'trees', 'NNS'),\n",
       " (u'and', 'CC'),\n",
       " (u'beyond', 'IN'),\n",
       " (u'everything', 'NN'),\n",
       " (u'the', 'DT'),\n",
       " (u'solid', 'JJ'),\n",
       " (u'uneven', 'JJ'),\n",
       " (u'comfortable', 'JJ'),\n",
       " (u'line', 'NN'),\n",
       " (u'of', 'IN'),\n",
       " (u'the', 'DT'),\n",
       " (u'foothills', 'NNS'),\n",
       " (u'On', 'IN'),\n",
       " (u'the', 'DT'),\n",
       " (u'east', 'JJ'),\n",
       " (u'side', 'NN'),\n",
       " (u'of', 'IN'),\n",
       " (u'the', 'DT'),\n",
       " (u'hall', 'NN'),\n",
       " (u'a', 'DT'),\n",
       " (u'free', 'JJ'),\n",
       " (u'staircase', 'NN'),\n",
       " (u'tile', 'NN'),\n",
       " (u'paved', 'VBD'),\n",
       " (u'rose', 'VBD'),\n",
       " (u'to', 'TO'),\n",
       " (u'a', 'DT'),\n",
       " (u'gallery', 'NN'),\n",
       " (u'with', 'IN'),\n",
       " (u'a', 'DT'),\n",
       " (u'wrought', 'NN'),\n",
       " (u'iron', 'NN'),\n",
       " (u'railing', 'NN'),\n",
       " (u'and', 'CC'),\n",
       " (u'another', 'DT'),\n",
       " (u'piece', 'NN'),\n",
       " (u'of', 'IN'),\n",
       " (u'stained', 'JJ'),\n",
       " (u'glass', 'NN'),\n",
       " (u'romance', 'NN'),\n",
       " Tree('PERSON', [(u'Large', 'NNP')]),\n",
       " (u'hard', 'JJ'),\n",
       " (u'chairs', 'NNS'),\n",
       " (u'with', 'IN'),\n",
       " (u'rounded', 'JJ'),\n",
       " (u'red', 'JJ'),\n",
       " (u'plush', 'NN'),\n",
       " (u'seats', 'NNS'),\n",
       " (u'were', 'VBD'),\n",
       " (u'backed', 'VBN'),\n",
       " (u'into', 'IN'),\n",
       " (u'the', 'DT'),\n",
       " (u'vacant', 'JJ'),\n",
       " (u'spaces', 'NNS'),\n",
       " (u'of', 'IN'),\n",
       " (u'the', 'DT'),\n",
       " (u'wall', 'NN'),\n",
       " (u'round', 'NN'),\n",
       " (u'about', 'IN'),\n",
       " (u'They', 'PRP'),\n",
       " (u'didn', 'VBP'),\n",
       " (u't', 'JJ'),\n",
       " (u'look', 'NN'),\n",
       " (u'as', 'IN'),\n",
       " (u'if', 'IN'),\n",
       " (u'anybody', 'NN'),\n",
       " (u'had', 'VBD'),\n",
       " (u'ever', 'RB'),\n",
       " (u'sat', 'VBN'),\n",
       " (u'in', 'IN'),\n",
       " (u'them', 'PRP'),\n",
       " (u'In', 'IN'),\n",
       " (u'the', 'DT'),\n",
       " (u'middle', 'NN'),\n",
       " (u'of', 'IN'),\n",
       " (u'the', 'DT'),\n",
       " (u'west', 'JJS'),\n",
       " (u'wall', 'NN'),\n",
       " (u'there', 'EX'),\n",
       " (u'was', 'VBD'),\n",
       " (u'a', 'DT'),\n",
       " (u'big', 'JJ'),\n",
       " (u'empty', 'JJ'),\n",
       " (u'fireplace', 'NN'),\n",
       " (u'with', 'IN'),\n",
       " (u'a', 'DT'),\n",
       " (u'brass', 'NN'),\n",
       " (u'screen', 'NN'),\n",
       " (u'in', 'IN'),\n",
       " (u'four', 'CD'),\n",
       " (u'hinged', 'NN'),\n",
       " (u'panels', 'NNS'),\n",
       " (u'and', 'CC'),\n",
       " (u'over', 'IN'),\n",
       " (u'the', 'DT'),\n",
       " (u'fireplace', 'NN'),\n",
       " (u'a', 'DT'),\n",
       " (u'marble', 'JJ'),\n",
       " (u'mantel', 'NN'),\n",
       " (u'with', 'IN'),\n",
       " (u'cupids', 'NNS'),\n",
       " (u'at', 'IN'),\n",
       " (u'the', 'DT'),\n",
       " (u'corners', 'NNS'),\n",
       " (u'Above', 'IN'),\n",
       " (u'the', 'DT'),\n",
       " (u'mantel', 'NN'),\n",
       " (u'there', 'EX'),\n",
       " (u'was', 'VBD'),\n",
       " (u'a', 'DT'),\n",
       " (u'large', 'JJ'),\n",
       " (u'oil', 'NN'),\n",
       " (u'portrait', 'NN'),\n",
       " (u'and', 'CC'),\n",
       " (u'above', 'IN'),\n",
       " (u'the', 'DT'),\n",
       " (u'portrait', 'NN'),\n",
       " (u'two', 'CD'),\n",
       " (u'bullet', 'NN'),\n",
       " (u'torn', 'NNS'),\n",
       " (u'or', 'CC'),\n",
       " (u'moth', 'CC'),\n",
       " (u'eaten', 'JJ'),\n",
       " (u'cavalry', 'NN'),\n",
       " (u'pennants', 'NNS'),\n",
       " (u'crossed', 'VBN'),\n",
       " (u'in', 'IN'),\n",
       " (u'a', 'DT'),\n",
       " (u'glass', 'NN'),\n",
       " (u'frame', 'NN'),\n",
       " (u'The', 'DT'),\n",
       " (u'portrait', 'NN'),\n",
       " (u'was', 'VBD'),\n",
       " (u'a', 'DT'),\n",
       " (u'stiffly', 'NN'),\n",
       " (u'posed', 'VBD'),\n",
       " (u'job', 'NN'),\n",
       " (u'of', 'IN'),\n",
       " (u'an', 'DT'),\n",
       " (u'officer', 'NN'),\n",
       " (u'in', 'IN'),\n",
       " (u'full', 'JJ'),\n",
       " (u'regimentals', 'NNS'),\n",
       " (u'of', 'IN'),\n",
       " (u'about', 'IN'),\n",
       " (u'the', 'DT'),\n",
       " (u'time', 'NN'),\n",
       " (u'of', 'IN'),\n",
       " (u'the', 'DT'),\n",
       " Tree('GPE', [(u'Mexican', 'NNP')]),\n",
       " (u'war', 'NN'),\n",
       " (u'The', 'DT'),\n",
       " (u'officer', 'NN'),\n",
       " (u'had', 'VBD'),\n",
       " (u'a', 'DT'),\n",
       " (u'neat', 'JJ'),\n",
       " (u'black', 'JJ'),\n",
       " (u'imperial', 'JJ'),\n",
       " (u'black', 'JJ'),\n",
       " (u'mustachios', 'NNS'),\n",
       " (u'hot', 'JJ'),\n",
       " (u'hard', 'JJ'),\n",
       " (u'coal', 'NN'),\n",
       " (u'black', 'JJ'),\n",
       " (u'eyes', 'NNS'),\n",
       " (u'and', 'CC'),\n",
       " (u'the', 'DT'),\n",
       " (u'general', 'JJ'),\n",
       " (u'look', 'NN'),\n",
       " (u'of', 'IN'),\n",
       " (u'a', 'DT'),\n",
       " (u'man', 'NN'),\n",
       " (u'it', 'PRP'),\n",
       " (u'would', 'MD'),\n",
       " (u'pay', 'VB'),\n",
       " (u'to', 'TO'),\n",
       " (u'get', 'VB'),\n",
       " (u'along', 'IN'),\n",
       " (u'with', 'IN'),\n",
       " (u'I', 'PRP'),\n",
       " (u'thought', 'VBD'),\n",
       " (u'this', 'DT'),\n",
       " (u'might', 'MD'),\n",
       " (u'be', 'VB'),\n",
       " Tree('ORGANIZATION', [(u'General', 'JJ'), (u'Sternwood', 'NNP')]),\n",
       " (u's', 'NN'),\n",
       " (u'grandfather', 'NN'),\n",
       " (u'It', 'PRP'),\n",
       " (u'could', 'MD'),\n",
       " (u'hardly', 'RB'),\n",
       " (u'be', 'VB'),\n",
       " (u'the', 'DT'),\n",
       " (u'General', 'NNP'),\n",
       " (u'himself', 'PRP'),\n",
       " (u'even', 'RB'),\n",
       " (u'though', 'IN'),\n",
       " (u'I', 'PRP'),\n",
       " (u'had', 'VBD'),\n",
       " (u'heard', 'NN'),\n",
       " (u'he', 'PRP'),\n",
       " (u'was', 'VBD'),\n",
       " (u'pretty', 'RB'),\n",
       " (u'far', 'RB'),\n",
       " (u'gone', 'VBN'),\n",
       " (u'in', 'IN'),\n",
       " (u'years', 'NNS'),\n",
       " (u'to', 'TO'),\n",
       " (u'have', 'VB'),\n",
       " (u'a', 'DT'),\n",
       " (u'couple', 'NN'),\n",
       " (u'of', 'IN'),\n",
       " (u'daughters', 'NNS'),\n",
       " (u'still', 'RB'),\n",
       " (u'in', 'IN'),\n",
       " (u'the', 'DT'),\n",
       " (u'dangerous', 'JJ'),\n",
       " (u'twenties', 'NNS'),\n",
       " (u'I', 'PRP'),\n",
       " (u'was', 'VBD')]"
      ]
     },
     "execution_count": 25,
     "metadata": {},
     "output_type": "execute_result"
    }
   ],
   "source": [
    "named[0:500]"
   ]
  },
  {
   "cell_type": "code",
   "execution_count": null,
   "metadata": {
    "collapsed": true
   },
   "outputs": [],
   "source": []
  }
 ],
 "metadata": {
  "kernelspec": {
   "display_name": "Python 2",
   "language": "python",
   "name": "python2"
  },
  "language_info": {
   "codemirror_mode": {
    "name": "ipython",
    "version": 2
   },
   "file_extension": ".py",
   "mimetype": "text/x-python",
   "name": "python",
   "nbconvert_exporter": "python",
   "pygments_lexer": "ipython2",
   "version": "2.7.11"
  }
 },
 "nbformat": 4,
 "nbformat_minor": 0
}
