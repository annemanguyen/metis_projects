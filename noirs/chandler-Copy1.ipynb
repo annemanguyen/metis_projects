{
 "cells": [
  {
   "cell_type": "code",
   "execution_count": 15,
   "metadata": {
    "collapsed": true
   },
   "outputs": [],
   "source": [
    "import nltk\n",
    "from nltk.tokenize import sent_tokenize, word_tokenize, RegexpTokenizer\n",
    "import sys"
   ]
  },
  {
   "cell_type": "code",
   "execution_count": 3,
   "metadata": {
    "collapsed": true
   },
   "outputs": [],
   "source": [
    "import glob\n",
    "import os"
   ]
  },
  {
   "cell_type": "code",
   "execution_count": 4,
   "metadata": {
    "collapsed": false
   },
   "outputs": [],
   "source": [
    "import matplotlib\n",
    "%matplotlib inline"
   ]
  },
  {
   "cell_type": "code",
   "execution_count": 5,
   "metadata": {
    "collapsed": false
   },
   "outputs": [],
   "source": [
    "import matplotlib.pyplot as plt"
   ]
  },
  {
   "cell_type": "code",
   "execution_count": 6,
   "metadata": {
    "collapsed": true
   },
   "outputs": [],
   "source": [
    "import gensim"
   ]
  },
  {
   "cell_type": "code",
   "execution_count": 7,
   "metadata": {
    "collapsed": true
   },
   "outputs": [],
   "source": [
    "from gensim import corpora, models, similarities"
   ]
  },
  {
   "cell_type": "code",
   "execution_count": 8,
   "metadata": {
    "collapsed": true
   },
   "outputs": [],
   "source": [
    "from nltk.stem.porter import PorterStemmer"
   ]
  },
  {
   "cell_type": "code",
   "execution_count": 9,
   "metadata": {
    "collapsed": false
   },
   "outputs": [],
   "source": [
    "from nltk.corpus import stopwords\n",
    "stop = stopwords.words('english')\n",
    "stop.append('said')"
   ]
  },
  {
   "cell_type": "code",
   "execution_count": 16,
   "metadata": {
    "collapsed": true
   },
   "outputs": [],
   "source": [
    "tokenizer = RegexpTokenizer(r'\\w+')"
   ]
  },
  {
   "cell_type": "code",
   "execution_count": 21,
   "metadata": {
    "collapsed": false
   },
   "outputs": [
    {
     "ename": "NameError",
     "evalue": "name 'glob' is not defined",
     "output_type": "error",
     "traceback": [
      "\u001b[1;31m---------------------------------------------------------------------------\u001b[0m",
      "\u001b[1;31mNameError\u001b[0m                                 Traceback (most recent call last)",
      "\u001b[1;32m<ipython-input-21-a76fa780c06c>\u001b[0m in \u001b[0;36m<module>\u001b[1;34m()\u001b[0m\n\u001b[0;32m      1\u001b[0m \u001b[0mtexts\u001b[0m \u001b[1;33m=\u001b[0m \u001b[1;33m[\u001b[0m\u001b[1;33m]\u001b[0m\u001b[1;33m\u001b[0m\u001b[0m\n\u001b[0;32m      2\u001b[0m \u001b[0mpath\u001b[0m \u001b[1;33m=\u001b[0m \u001b[1;34m'/home/amn34/metis/stuff/noirs/chandler'\u001b[0m\u001b[1;33m\u001b[0m\u001b[0m\n\u001b[1;32m----> 3\u001b[1;33m \u001b[1;32mfor\u001b[0m \u001b[0mbooks\u001b[0m \u001b[1;32min\u001b[0m \u001b[0mglob\u001b[0m\u001b[1;33m.\u001b[0m\u001b[0mglob\u001b[0m\u001b[1;33m(\u001b[0m\u001b[0mos\u001b[0m\u001b[1;33m.\u001b[0m\u001b[0mpath\u001b[0m\u001b[1;33m.\u001b[0m\u001b[0mjoin\u001b[0m\u001b[1;33m(\u001b[0m\u001b[0mpath\u001b[0m\u001b[1;33m,\u001b[0m \u001b[1;34m'*.txt'\u001b[0m\u001b[1;33m)\u001b[0m\u001b[1;33m)\u001b[0m\u001b[1;33m:\u001b[0m\u001b[1;33m\u001b[0m\u001b[0m\n\u001b[0m\u001b[0;32m      4\u001b[0m     \u001b[0mdoc\u001b[0m \u001b[1;33m=\u001b[0m \u001b[0mopen\u001b[0m\u001b[1;33m(\u001b[0m\u001b[0mbooks\u001b[0m\u001b[1;33m)\u001b[0m\u001b[1;33m.\u001b[0m\u001b[0mread\u001b[0m\u001b[1;33m(\u001b[0m\u001b[1;33m)\u001b[0m\u001b[1;33m\u001b[0m\u001b[0m\n\u001b[0;32m      5\u001b[0m     \u001b[0mdoc\u001b[0m \u001b[1;33m=\u001b[0m \u001b[0mdoc\u001b[0m\u001b[1;33m.\u001b[0m\u001b[0mdecode\u001b[0m\u001b[1;33m(\u001b[0m\u001b[1;34m'utf-8'\u001b[0m\u001b[1;33m)\u001b[0m\u001b[1;33m\u001b[0m\u001b[0m\n",
      "\u001b[1;31mNameError\u001b[0m: name 'glob' is not defined"
     ]
    }
   ],
   "source": [
    "texts = []\n",
    "path = '/home/amn34/metis/stuff/noirs/chandler/'\n",
    "for books in glob.glob(os.path.join(path, '*.txt')):\n",
    "    doc = open(books).read()\n",
    "    doc = doc.decode('utf-8')\n",
    "    doc = doc.lower()\n",
    "    docwords = tokenizer.tokenize(doc)\n",
    "    stopped = [w for w in docwords if not w in stop]\n",
    "    #p_stem = PorterStemmer()\n",
    "    #stemmed_words = [p_stem.stem(i) for i in stopped]\n",
    "    texts.append(stopped)"
   ]
  },
  {
   "cell_type": "code",
   "execution_count": 15,
   "metadata": {
    "collapsed": false
   },
   "outputs": [
    {
     "name": "stdout",
     "output_type": "stream",
     "text": [
      "book: [u'hous', u'dresden', u'avenu', u'oak', u'noll', u'section', u'pasadena', u'big', u'solid', u'cool', u'look', u'hous', u'burgundi', u'brick', u'wall', u'terra', u'cotta', u'tile', u'roof', u'white', u'stone', u'trim', u'front', u'window', u'lead', u'downstair', u'upstair', u'window', u'cottag', u'type', u'lot', u'rococo', u'imit', u'stonework', u'trim', u'around', u'front', u'wall', u'attend', u'flower', u'bush', u'half', u'acr', u'fine', u'green', u'lawn', u'drift', u'gentl', u'slope', u'street'] \n",
      "\n",
      "book: [u'one', u'mix', u'block', u'central', u'avenu', u'block', u'yet', u'negro', u'come', u'three', u'chair', u'barber', u'shop', u'agenc', u'thought', u'relief', u'barber', u'name', u'dimitrio', u'aleidi', u'might', u'work', u'small', u'matter', u'wife', u'will', u'spend', u'littl', u'money', u'come', u'home', u'never', u'found', u'mr', u'aleidi', u'never', u'paid', u'money', u'either', u'warm', u'day', u'almost', u'end', u'march', u'stood', u'outsid', u'barber', u'shop', u'look', u'jut'] \n",
      "\n",
      "book: [u'pebbl', u'glass', u'door', u'panel', u'letter', u'flake', u'black', u'paint', u'philip', u'marlow', u'investig', u'reason', u'shabbi', u'door', u'end', u'reason', u'shabbi', u'corridor', u'sort', u'build', u'new', u'year', u'tile', u'bathroom', u'becam', u'basi', u'civil', u'door', u'lock', u'next', u'anoth', u'door', u'legend', u'lock', u'come', u'nobodi', u'big', u'bluebottl', u'fli', u'manhattan', u'kansa', u'one', u'clear', u'bright', u'summer', u'morn', u'get', u'earli', u'spring', u'california'] \n",
      "\n",
      "book: [u'voic', u'telephon', u'seem', u'sharp', u'peremptori', u'hear', u'well', u'partli', u'half', u'awak', u'partli', u'hold', u'receiv', u'upsid', u'fumbl', u'around', u'grunt', u'hear', u'clyde', u'umney', u'lawyer', u'clyde', u'umney', u'lawyer', u'thought', u'sever', u'marlow', u'yeah', u'guess', u'look', u'wrist', u'watch', u'6', u'30', u'best', u'hour', u'get', u'fresh', u'young', u'man', u'sorri', u'mr', u'umney', u'young', u'man', u'old', u'tire', u'full', u'coffe', u'sir'] \n",
      "\n",
      "book: [u'first', u'time', u'laid', u'eye', u'terri', u'lennox', u'drunk', u'roll', u'royc', u'silver', u'wraith', u'outsid', u'terrac', u'dancer', u'park', u'lot', u'attend', u'brought', u'car', u'still', u'hold', u'door', u'open', u'terri', u'lennox', u'left', u'foot', u'still', u'dangl', u'outsid', u'forgotten', u'one', u'young', u'look', u'face', u'hair', u'bone', u'white', u'could', u'tell', u'eye', u'plaster', u'hairlin', u'otherwis', u'look', u'like', u'nice', u'young', u'guy', u'dinner'] \n",
      "\n",
      "book: [u'treloar', u'build', u'oliv', u'street', u'near', u'sixth', u'west', u'side', u'sidewalk', u'front', u'built', u'black', u'white', u'rubber', u'block', u'take', u'give', u'govern', u'hatless', u'pale', u'man', u'face', u'like', u'build', u'superintend', u'watch', u'work', u'look', u'break', u'heart', u'went', u'past', u'arcad', u'specialti', u'shop', u'vast', u'black', u'gold', u'lobbi', u'gillerlain', u'compani', u'seventh', u'floor', u'front', u'behind', u'swing', u'doubl', u'plate', u'glass', u'door'] \n",
      "\n",
      "book: [u'eleven', u'clock', u'morn', u'mid', u'octob', u'sun', u'shine', u'look', u'hard', u'wet', u'rain', u'clear', u'foothil', u'wear', u'powder', u'blue', u'suit', u'dark', u'blue', u'shirt', u'tie', u'display', u'handkerchief', u'black', u'brogu', u'black', u'wool', u'sock', u'dark', u'blue', u'clock', u'neat', u'clean', u'shave', u'sober', u'care', u'knew', u'everyth', u'well', u'dress', u'privat', u'detect', u'ought', u'call', u'four', u'million', u'dollar', u'main', u'hallway', u'sternwood'] \n",
      "\n"
     ]
    }
   ],
   "source": [
    "for i in texts: print 'book:', i[0:50], '\\n'"
   ]
  },
  {
   "cell_type": "code",
   "execution_count": 16,
   "metadata": {
    "collapsed": false
   },
   "outputs": [],
   "source": [
    "dictionary = corpora.Dictionary(texts)"
   ]
  },
  {
   "cell_type": "code",
   "execution_count": 17,
   "metadata": {
    "collapsed": true
   },
   "outputs": [],
   "source": [
    "corpus = [dictionary.doc2bow(text) for text in texts]"
   ]
  },
  {
   "cell_type": "code",
   "execution_count": 18,
   "metadata": {
    "collapsed": false
   },
   "outputs": [
    {
     "name": "stdout",
     "output_type": "stream",
     "text": [
      "look\n",
      "like\n",
      "back\n",
      "know\n",
      "went\n",
      "door\n",
      "would\n",
      "mr\n",
      "get\n",
      "littl\n",
      "hand\n",
      "one\n",
      "man\n",
      "go\n",
      "eye\n",
      "\n",
      "\n",
      "\n",
      "look\n",
      "like\n",
      "back\n",
      "one\n",
      "get\n",
      "man\n",
      "went\n",
      "littl\n",
      "got\n",
      "door\n",
      "go\n",
      "eye\n",
      "hand\n",
      "know\n",
      "would\n",
      "\n",
      "\n",
      "\n",
      "look\n",
      "like\n",
      "back\n",
      "littl\n",
      "know\n",
      "went\n",
      "one\n",
      "get\n",
      "door\n",
      "would\n",
      "hand\n",
      "got\n",
      "man\n",
      "go\n",
      "eye\n",
      "\n",
      "\n",
      "\n",
      "look\n",
      "back\n",
      "went\n",
      "know\n",
      "get\n",
      "could\n",
      "one\n",
      "got\n",
      "would\n",
      "like\n",
      "man\n",
      "mitchel\n",
      "mr\n",
      "car\n",
      "door\n",
      "\n",
      "\n",
      "\n",
      "look\n",
      "get\n",
      "got\n",
      "like\n",
      "know\n",
      "one\n",
      "back\n",
      "would\n",
      "time\n",
      "mr\n",
      "went\n",
      "want\n",
      "could\n",
      "man\n",
      "wade\n",
      "\n",
      "\n",
      "\n",
      "look\n",
      "like\n",
      "back\n",
      "know\n",
      "went\n",
      "would\n",
      "littl\n",
      "one\n",
      "got\n",
      "get\n",
      "degarmo\n",
      "go\n",
      "kingsley\n",
      "hand\n",
      "door\n",
      "\n",
      "\n",
      "\n",
      "look\n",
      "like\n",
      "back\n",
      "went\n",
      "door\n",
      "eye\n",
      "know\n",
      "got\n",
      "littl\n",
      "man\n",
      "get\n",
      "would\n",
      "one\n",
      "car\n",
      "hand\n",
      "\n",
      "\n",
      "\n"
     ]
    }
   ],
   "source": [
    "corpus2 = []\n",
    "\n",
    "for i in corpus:\n",
    "    s = sorted(i, key=lambda x: x[1], reverse=True)\n",
    "    corpus2.append(s[20:])\n",
    "    for j in s[0:15]:\n",
    "        print dictionary.get(j[0])\n",
    "    print '\\n\\n'"
   ]
  },
  {
   "cell_type": "code",
   "execution_count": 59,
   "metadata": {
    "collapsed": false
   },
   "outputs": [],
   "source": [
    "ldamodel = gensim.models.ldamodel.LdaModel(corpus, num_topics=5, alpha = 'auto', id2word = dictionary, passes=5)"
   ]
  },
  {
   "cell_type": "code",
   "execution_count": 60,
   "metadata": {
    "collapsed": false
   },
   "outputs": [
    {
     "data": {
      "text/plain": [
       "[(0, u'0.011*look + 0.008*back + 0.007*went + 0.007*get + 0.006*like'),\n",
       " (1, u'0.011*look + 0.009*like + 0.008*back + 0.007*know + 0.006*get'),\n",
       " (2, u'0.011*look + 0.009*like + 0.008*back + 0.007*went + 0.006*door'),\n",
       " (3, u'0.013*look + 0.009*like + 0.008*back + 0.007*know + 0.006*went'),\n",
       " (4, u'0.011*look + 0.008*like + 0.008*back + 0.007*get + 0.007*one')]"
      ]
     },
     "execution_count": 60,
     "metadata": {},
     "output_type": "execute_result"
    }
   ],
   "source": [
    "ldamodel.print_topics(num_topics=5, num_words=5)"
   ]
  },
  {
   "cell_type": "code",
   "execution_count": 61,
   "metadata": {
    "collapsed": true
   },
   "outputs": [],
   "source": [
    "ldamodel2 = gensim.models.ldamodel.LdaModel(corpus2, num_topics=5, alpha = 'auto', id2word = dictionary, passes=10)"
   ]
  },
  {
   "cell_type": "code",
   "execution_count": 63,
   "metadata": {
    "collapsed": false
   },
   "outputs": [],
   "source": [
    "lda = ldamodel[corpus]"
   ]
  },
  {
   "cell_type": "code",
   "execution_count": 64,
   "metadata": {
    "collapsed": true
   },
   "outputs": [],
   "source": [
    "lda_docs = [doc for doc in lda]"
   ]
  },
  {
   "cell_type": "code",
   "execution_count": 65,
   "metadata": {
    "collapsed": false
   },
   "outputs": [
    {
     "data": {
      "text/plain": [
       "[[(1, 0.9977084264731696)],\n",
       " [(4, 0.99709657381814298)],\n",
       " [(4, 0.99913990756666637)],\n",
       " [(0, 0.99771681001900425)],\n",
       " [(4, 0.99958281850987851)],\n",
       " [(3, 0.99684816854901959)],\n",
       " [(2, 0.9967751589014211)]]"
      ]
     },
     "execution_count": 65,
     "metadata": {},
     "output_type": "execute_result"
    }
   ],
   "source": [
    "lda_docs"
   ]
  },
  {
   "cell_type": "code",
   "execution_count": 66,
   "metadata": {
    "collapsed": false
   },
   "outputs": [
    {
     "data": {
      "text/plain": [
       "[(0, u'0.004*around + 0.004*right + 0.004*room + 0.004*way + 0.004*name'),\n",
       " (1, u'0.004*around + 0.004*think + 0.004*see + 0.004*eddi + 0.004*want'),\n",
       " (2, u'0.004*way + 0.004*right + 0.004*came + 0.004*see + 0.004*make'),\n",
       " (3, u'0.004*still + 0.004*open + 0.004*light + 0.004*head + 0.004*thought'),\n",
       " (4, u'0.001*way + 0.001*someth + 0.001*turn + 0.001*call + 0.001*come')]"
      ]
     },
     "execution_count": 66,
     "metadata": {},
     "output_type": "execute_result"
    }
   ],
   "source": [
    "ldamodel2.print_topics(num_topics=5, num_words=5)"
   ]
  },
  {
   "cell_type": "markdown",
   "metadata": {},
   "source": [
    "#### tfidf and similarities"
   ]
  },
  {
   "cell_type": "code",
   "execution_count": 67,
   "metadata": {
    "collapsed": true
   },
   "outputs": [],
   "source": [
    "tfidf = models.TfidfModel(corpus)"
   ]
  },
  {
   "cell_type": "code",
   "execution_count": 68,
   "metadata": {
    "collapsed": true
   },
   "outputs": [],
   "source": [
    "corpus_tfidf = tfidf[corpus]"
   ]
  },
  {
   "cell_type": "code",
   "execution_count": 69,
   "metadata": {
    "collapsed": false
   },
   "outputs": [],
   "source": [
    "index = similarities.MatrixSimilarity(tfidf[corpus])"
   ]
  },
  {
   "cell_type": "code",
   "execution_count": 70,
   "metadata": {
    "collapsed": true
   },
   "outputs": [],
   "source": [
    "sims = index[corpus_tfidf]"
   ]
  },
  {
   "cell_type": "code",
   "execution_count": null,
   "metadata": {
    "collapsed": false,
    "scrolled": true
   },
   "outputs": [],
   "source": [
    "print sims"
   ]
  },
  {
   "cell_type": "code",
   "execution_count": 74,
   "metadata": {
    "collapsed": false
   },
   "outputs": [],
   "source": [
    "ldamodel3 = gensim.models.ldamodel.LdaModel(corpus_tfidf, num_topics=7, alpha = 'auto', id2word = dictionary, passes=5)"
   ]
  },
  {
   "cell_type": "code",
   "execution_count": 75,
   "metadata": {
    "collapsed": false
   },
   "outputs": [
    {
     "data": {
      "text/plain": [
       "[(0,\n",
       "  u'0.000*marriott + 0.000*malloy + 0.000*florian + 0.000*grayl + 0.000*nulti'),\n",
       " (1,\n",
       "  u'0.000*degarmo + 0.000*geiger + 0.000*mitchel + 0.000*kingsley + 0.000*almor'),\n",
       " (2,\n",
       "  u'0.000*geiger + 0.000*degarmo + 0.000*kingsley + 0.000*lennox + 0.000*regan'),\n",
       " (3,\n",
       "  u'0.001*mitchel + 0.000*steelgrav + 0.000*orrin + 0.000*weld + 0.000*gobl'),\n",
       " (4,\n",
       "  u'0.000*geiger + 0.000*kingsley + 0.000*laveri + 0.000*mitchel + 0.000*vannier'),\n",
       " (5,\n",
       "  u'0.000*murdock + 0.000*vannier + 0.000*hench + 0.000*morni + 0.000*phillip'),\n",
       " (6,\n",
       "  u'0.000*laveri + 0.000*mitchel + 0.000*murdock + 0.000*geiger + 0.000*kingsley')]"
      ]
     },
     "execution_count": 75,
     "metadata": {},
     "output_type": "execute_result"
    }
   ],
   "source": [
    "ldamodel3.print_topics(num_topics=7, num_words=5)"
   ]
  },
  {
   "cell_type": "code",
   "execution_count": 76,
   "metadata": {
    "collapsed": true
   },
   "outputs": [],
   "source": [
    "lda3 = ldamodel3[corpus_tfidf]"
   ]
  },
  {
   "cell_type": "code",
   "execution_count": 78,
   "metadata": {
    "collapsed": true
   },
   "outputs": [],
   "source": [
    "lda3_docs = [doc for doc in lda3]"
   ]
  },
  {
   "cell_type": "code",
   "execution_count": 79,
   "metadata": {
    "collapsed": false
   },
   "outputs": [
    {
     "data": {
      "text/plain": [
       "[[(2, 0.013180304406147305), (5, 0.95945997443427344)],\n",
       " [(0, 0.96919973451692365)],\n",
       " [(3, 0.97109710199949917)],\n",
       " [(2, 0.012715452344259952), (3, 0.96282780367754328)],\n",
       " [(2, 0.97824776581401296)],\n",
       " [(2, 0.95761990879174397), (3, 0.011319421271313235)],\n",
       " [(2, 0.96549097305967979)]]"
      ]
     },
     "execution_count": 79,
     "metadata": {},
     "output_type": "execute_result"
    }
   ],
   "source": [
    "lda3_docs"
   ]
  },
  {
   "cell_type": "markdown",
   "metadata": {},
   "source": [
    "#### parsing"
   ]
  },
  {
   "cell_type": "code",
   "execution_count": 2,
   "metadata": {
    "collapsed": true
   },
   "outputs": [],
   "source": [
    "from nltk import pos_tag"
   ]
  },
  {
   "cell_type": "code",
   "execution_count": 3,
   "metadata": {
    "collapsed": false
   },
   "outputs": [],
   "source": [
    "sleep = open('/home/amn34/metis/stuff/noirs/chandler/rc_bigsleep.txt').read()"
   ]
  },
  {
   "cell_type": "code",
   "execution_count": 4,
   "metadata": {
    "collapsed": false
   },
   "outputs": [],
   "source": [
    "sleep = sleep.decode('utf-8')"
   ]
  },
  {
   "cell_type": "code",
   "execution_count": null,
   "metadata": {
    "collapsed": true
   },
   "outputs": [],
   "source": [
    "#sleepsent = sent_tokenize(sleep)"
   ]
  },
  {
   "cell_type": "code",
   "execution_count": 24,
   "metadata": {
    "collapsed": true
   },
   "outputs": [],
   "source": [
    "raw = sleep.lower()\n",
    "sleepwords = tokenizer.tokenize(raw)"
   ]
  },
  {
   "cell_type": "code",
   "execution_count": 25,
   "metadata": {
    "collapsed": true
   },
   "outputs": [],
   "source": [
    "stopped = [w for w in sleepwords if not w in stop]"
   ]
  },
  {
   "cell_type": "code",
   "execution_count": null,
   "metadata": {
    "collapsed": true
   },
   "outputs": [],
   "source": [
    "#p_stemmer = PorterStemmer()"
   ]
  },
  {
   "cell_type": "code",
   "execution_count": null,
   "metadata": {
    "collapsed": true
   },
   "outputs": [],
   "source": [
    "#stemmed_words = [p_stemmer.stem(i) for i in stopped]"
   ]
  },
  {
   "cell_type": "code",
   "execution_count": 42,
   "metadata": {
    "collapsed": false
   },
   "outputs": [],
   "source": [
    "cap = pos_tag(word_tokenize(sleep))"
   ]
  },
  {
   "cell_type": "code",
   "execution_count": null,
   "metadata": {
    "collapsed": true
   },
   "outputs": [],
   "source": [
    "from nltk import Text"
   ]
  },
  {
   "cell_type": "code",
   "execution_count": null,
   "metadata": {
    "collapsed": true
   },
   "outputs": [],
   "source": [
    "text = nltk.Text(stopped)"
   ]
  },
  {
   "cell_type": "code",
   "execution_count": null,
   "metadata": {
    "collapsed": false
   },
   "outputs": [],
   "source": [
    "text.similar('man')"
   ]
  },
  {
   "cell_type": "code",
   "execution_count": null,
   "metadata": {
    "collapsed": false
   },
   "outputs": [],
   "source": [
    "text.similar('gun')"
   ]
  },
  {
   "cell_type": "code",
   "execution_count": null,
   "metadata": {
    "collapsed": false
   },
   "outputs": [],
   "source": [
    "text.similar('cigarette')"
   ]
  },
  {
   "cell_type": "code",
   "execution_count": null,
   "metadata": {
    "collapsed": false
   },
   "outputs": [],
   "source": [
    "text.common_contexts(['man','gun'])"
   ]
  },
  {
   "cell_type": "code",
   "execution_count": null,
   "metadata": {
    "collapsed": false
   },
   "outputs": [],
   "source": [
    "text.concordance('man')"
   ]
  },
  {
   "cell_type": "code",
   "execution_count": null,
   "metadata": {
    "collapsed": false
   },
   "outputs": [],
   "source": [
    "text.collocations()"
   ]
  },
  {
   "cell_type": "code",
   "execution_count": null,
   "metadata": {
    "collapsed": false
   },
   "outputs": [],
   "source": [
    "text.count('gun')"
   ]
  },
  {
   "cell_type": "code",
   "execution_count": null,
   "metadata": {
    "collapsed": true
   },
   "outputs": [],
   "source": [
    "from nltk import FreqDist"
   ]
  },
  {
   "cell_type": "code",
   "execution_count": null,
   "metadata": {
    "collapsed": true
   },
   "outputs": [],
   "source": [
    "fd = nltk.FreqDist(text)"
   ]
  },
  {
   "cell_type": "code",
   "execution_count": null,
   "metadata": {
    "collapsed": false
   },
   "outputs": [],
   "source": [
    "plt.figure(figsize = (12,8))\n",
    "fd.plot(50,cumulative=False,color='lilac')"
   ]
  },
  {
   "cell_type": "code",
   "execution_count": null,
   "metadata": {
    "collapsed": false
   },
   "outputs": [],
   "source": [
    "fd.hapaxes()"
   ]
  },
  {
   "cell_type": "code",
   "execution_count": null,
   "metadata": {
    "collapsed": false
   },
   "outputs": [],
   "source": [
    "tagged[0:10]"
   ]
  },
  {
   "cell_type": "code",
   "execution_count": null,
   "metadata": {
    "collapsed": false
   },
   "outputs": [],
   "source": [
    "keeplist = ['NN', 'NNP','NNPS','NNS', 'JJ', 'JJR', 'JJS', 'RB', 'RBR', 'RBS']"
   ]
  },
  {
   "cell_type": "code",
   "execution_count": null,
   "metadata": {
    "collapsed": false
   },
   "outputs": [],
   "source": [
    "naa = []\n",
    "for i in tagged:\n",
    "    if i[1] in keeplist:\n",
    "        naa.append(i[0])"
   ]
  },
  {
   "cell_type": "code",
   "execution_count": null,
   "metadata": {
    "collapsed": false
   },
   "outputs": [],
   "source": [
    "naa"
   ]
  },
  {
   "cell_type": "code",
   "execution_count": null,
   "metadata": {
    "collapsed": false
   },
   "outputs": [],
   "source": [
    "tagged_texts = []\n",
    "path = '/home/amn34/metis/stuff/noirs/chandler'\n",
    "for books in glob.glob(os.path.join(path, '*.txt')):\n",
    "    doc = open(books).read()\n",
    "    doc = doc.decode('utf-8')\n",
    "    doc = doc.lower()\n",
    "    docwords = tokenizer.tokenize(doc)\n",
    "    stopped = [w for w in docwords if not w in stop]\n",
    "    tagged = pos_tag(stopped)\n",
    "    tagged_texts.append(tagged)"
   ]
  },
  {
   "cell_type": "code",
   "execution_count": null,
   "metadata": {
    "collapsed": false
   },
   "outputs": [],
   "source": [
    "for i in tagged_texts: print i[0:5]"
   ]
  },
  {
   "cell_type": "code",
   "execution_count": null,
   "metadata": {
    "collapsed": false
   },
   "outputs": [],
   "source": [
    "nounadj = []\n",
    "\n",
    "for book in tagged_texts:\n",
    "    templist = []\n",
    "    for word in book:\n",
    "        if word[1] in keeplist:\n",
    "            templist.append(word[0])\n",
    "    nounadj.append(templist)"
   ]
  },
  {
   "cell_type": "code",
   "execution_count": null,
   "metadata": {
    "collapsed": false
   },
   "outputs": [],
   "source": [
    "naa_dictionary = corpora.Dictionary(nounadj)"
   ]
  },
  {
   "cell_type": "code",
   "execution_count": null,
   "metadata": {
    "collapsed": false
   },
   "outputs": [],
   "source": [
    "naa_corpus = [naa_dictionary.doc2bow(text) for text in nounadj]"
   ]
  },
  {
   "cell_type": "code",
   "execution_count": null,
   "metadata": {
    "collapsed": true
   },
   "outputs": [],
   "source": [
    "naa_ldamodel = gensim.models.ldamodel.LdaModel(naa_corpus, num_topics=2, alpha = 'auto', eta = 'auto', id2word = naa_dictionary, passes=10)"
   ]
  },
  {
   "cell_type": "code",
   "execution_count": null,
   "metadata": {
    "collapsed": false
   },
   "outputs": [],
   "source": [
    "naa_ldamodel.print_topics(num_topics=2, num_words=5)"
   ]
  },
  {
   "cell_type": "markdown",
   "metadata": {},
   "source": [
    "#### ne"
   ]
  },
  {
   "cell_type": "code",
   "execution_count": 17,
   "metadata": {
    "collapsed": false
   },
   "outputs": [],
   "source": [
    "sleepwords = tokenizer.tokenize(sleep)"
   ]
  },
  {
   "cell_type": "code",
   "execution_count": 20,
   "metadata": {
    "collapsed": false,
    "scrolled": true
   },
   "outputs": [],
   "source": [
    "named = nltk.ne_chunk(nltk.pos_tag(sleepwords))"
   ]
  },
  {
   "cell_type": "code",
   "execution_count": 25,
   "metadata": {
    "collapsed": false
   },
   "outputs": [
    {
     "data": {
      "text/plain": [
       "[(u'It', 'PRP'),\n",
       " (u'was', 'VBD'),\n",
       " (u'about', 'RB'),\n",
       " (u'eleven', 'JJ'),\n",
       " (u'o', 'NNS'),\n",
       " (u'clock', 'NN'),\n",
       " (u'in', 'IN'),\n",
       " (u'the', 'DT'),\n",
       " (u'morning', 'NN'),\n",
       " (u'mid', 'JJ'),\n",
       " (u'October', 'NNP'),\n",
       " (u'with', 'IN'),\n",
       " (u'the', 'DT'),\n",
       " (u'sun', 'NN'),\n",
       " (u'not', 'RB'),\n",
       " (u'shining', 'VBG'),\n",
       " (u'and', 'CC'),\n",
       " (u'a', 'DT'),\n",
       " (u'look', 'NN'),\n",
       " (u'of', 'IN'),\n",
       " (u'hard', 'JJ'),\n",
       " (u'wet', 'NN'),\n",
       " (u'rain', 'NN'),\n",
       " (u'in', 'IN'),\n",
       " (u'the', 'DT'),\n",
       " (u'clearness', 'NN'),\n",
       " (u'of', 'IN'),\n",
       " (u'the', 'DT'),\n",
       " (u'foothills', 'NNS'),\n",
       " (u'I', 'PRP'),\n",
       " (u'was', 'VBD'),\n",
       " (u'wearing', 'VBG'),\n",
       " (u'my', 'PRP$'),\n",
       " (u'powder', 'NN'),\n",
       " (u'blue', 'JJ'),\n",
       " (u'suit', 'NN'),\n",
       " (u'with', 'IN'),\n",
       " (u'dark', 'JJ'),\n",
       " (u'blue', 'JJ'),\n",
       " (u'shirt', 'NN'),\n",
       " (u'tie', 'NN'),\n",
       " (u'and', 'CC'),\n",
       " (u'display', 'NN'),\n",
       " (u'handkerchief', 'NN'),\n",
       " (u'black', 'JJ'),\n",
       " (u'brogues', 'NNS'),\n",
       " (u'black', 'JJ'),\n",
       " (u'wool', 'NN'),\n",
       " (u'socks', 'NNS'),\n",
       " (u'with', 'IN'),\n",
       " (u'dark', 'JJ'),\n",
       " (u'blue', 'NN'),\n",
       " (u'clocks', 'NNS'),\n",
       " (u'on', 'IN'),\n",
       " (u'them', 'PRP'),\n",
       " (u'I', 'PRP'),\n",
       " (u'was', 'VBD'),\n",
       " (u'neat', 'JJ'),\n",
       " (u'clean', 'JJ'),\n",
       " (u'shaved', 'VBN'),\n",
       " (u'and', 'CC'),\n",
       " (u'sober', 'JJ'),\n",
       " (u'and', 'CC'),\n",
       " (u'I', 'PRP'),\n",
       " (u'didn', 'VBP'),\n",
       " (u't', 'JJ'),\n",
       " (u'care', 'NN'),\n",
       " (u'who', 'WP'),\n",
       " (u'knew', 'VBD'),\n",
       " (u'it', 'PRP'),\n",
       " (u'I', 'PRP'),\n",
       " (u'was', 'VBD'),\n",
       " (u'everything', 'NN'),\n",
       " (u'the', 'DT'),\n",
       " (u'well', 'RB'),\n",
       " (u'dressed', 'JJ'),\n",
       " (u'private', 'JJ'),\n",
       " (u'detective', 'NN'),\n",
       " (u'ought', 'MD'),\n",
       " (u'to', 'TO'),\n",
       " (u'be', 'VB'),\n",
       " (u'I', 'PRP'),\n",
       " (u'was', 'VBD'),\n",
       " (u'calling', 'VBG'),\n",
       " (u'on', 'IN'),\n",
       " (u'four', 'CD'),\n",
       " (u'million', 'CD'),\n",
       " (u'dollars', 'NNS'),\n",
       " (u'The', 'DT'),\n",
       " (u'main', 'JJ'),\n",
       " (u'hallway', 'NN'),\n",
       " (u'of', 'IN'),\n",
       " (u'the', 'DT'),\n",
       " Tree('ORGANIZATION', [(u'Sternwood', 'NNP')]),\n",
       " (u'place', 'NN'),\n",
       " (u'was', 'VBD'),\n",
       " (u'two', 'CD'),\n",
       " (u'stories', 'NNS'),\n",
       " (u'high', 'VBP'),\n",
       " (u'Over', 'IN'),\n",
       " (u'the', 'DT'),\n",
       " (u'entrance', 'NN'),\n",
       " (u'doors', 'NNS'),\n",
       " (u'which', 'WDT'),\n",
       " (u'would', 'MD'),\n",
       " (u'have', 'VB'),\n",
       " (u'let', 'VBN'),\n",
       " (u'in', 'IN'),\n",
       " (u'a', 'DT'),\n",
       " (u'troop', 'NN'),\n",
       " (u'of', 'IN'),\n",
       " Tree('GPE', [(u'Indian', 'JJ')]),\n",
       " (u'elephants', 'NNS'),\n",
       " (u'there', 'EX'),\n",
       " (u'was', 'VBD'),\n",
       " (u'a', 'DT'),\n",
       " (u'broad', 'JJ'),\n",
       " (u'stained', 'JJ'),\n",
       " (u'glass', 'NN'),\n",
       " (u'panel', 'NN'),\n",
       " (u'showing', 'VBG'),\n",
       " (u'a', 'DT'),\n",
       " (u'knight', 'NN'),\n",
       " (u'in', 'IN'),\n",
       " (u'dark', 'JJ'),\n",
       " (u'armor', 'NN'),\n",
       " (u'rescuing', 'VBG'),\n",
       " (u'a', 'DT'),\n",
       " (u'lady', 'NN'),\n",
       " (u'who', 'WP'),\n",
       " (u'was', 'VBD'),\n",
       " (u'tied', 'VBN'),\n",
       " (u'to', 'TO'),\n",
       " (u'a', 'DT'),\n",
       " (u'tree', 'NN'),\n",
       " (u'and', 'CC'),\n",
       " (u'didn', 'NN'),\n",
       " (u't', 'NNS'),\n",
       " (u'have', 'VBP'),\n",
       " (u'any', 'DT'),\n",
       " (u'clothes', 'NNS'),\n",
       " (u'on', 'IN'),\n",
       " (u'but', 'CC'),\n",
       " (u'some', 'DT'),\n",
       " (u'very', 'RB'),\n",
       " (u'long', 'JJ'),\n",
       " (u'and', 'CC'),\n",
       " (u'convenient', 'JJ'),\n",
       " (u'hair', 'NN'),\n",
       " (u'The', 'DT'),\n",
       " (u'knight', 'NN'),\n",
       " (u'had', 'VBD'),\n",
       " (u'pushed', 'VBN'),\n",
       " (u'the', 'DT'),\n",
       " (u'vizor', 'NN'),\n",
       " (u'of', 'IN'),\n",
       " (u'his', 'PRP$'),\n",
       " (u'helmet', 'NN'),\n",
       " (u'back', 'RB'),\n",
       " (u'to', 'TO'),\n",
       " (u'be', 'VB'),\n",
       " (u'sociable', 'JJ'),\n",
       " (u'and', 'CC'),\n",
       " (u'he', 'PRP'),\n",
       " (u'was', 'VBD'),\n",
       " (u'fiddling', 'VBG'),\n",
       " (u'with', 'IN'),\n",
       " (u'the', 'DT'),\n",
       " (u'knots', 'NNS'),\n",
       " (u'on', 'IN'),\n",
       " (u'the', 'DT'),\n",
       " (u'ropes', 'NNS'),\n",
       " (u'that', 'WDT'),\n",
       " (u'tied', 'VBD'),\n",
       " (u'the', 'DT'),\n",
       " (u'lady', 'NN'),\n",
       " (u'to', 'TO'),\n",
       " (u'the', 'DT'),\n",
       " (u'tree', 'NN'),\n",
       " (u'and', 'CC'),\n",
       " (u'not', 'RB'),\n",
       " (u'getting', 'VBG'),\n",
       " (u'anywhere', 'RB'),\n",
       " (u'I', 'PRP'),\n",
       " (u'stood', 'VBD'),\n",
       " (u'there', 'EX'),\n",
       " (u'and', 'CC'),\n",
       " (u'thought', 'VBD'),\n",
       " (u'that', 'IN'),\n",
       " (u'if', 'IN'),\n",
       " (u'I', 'PRP'),\n",
       " (u'lived', 'VBD'),\n",
       " (u'in', 'IN'),\n",
       " (u'the', 'DT'),\n",
       " (u'house', 'NN'),\n",
       " (u'I', 'PRP'),\n",
       " (u'would', 'MD'),\n",
       " (u'sooner', 'RB'),\n",
       " (u'or', 'CC'),\n",
       " (u'later', 'RB'),\n",
       " (u'have', 'VBP'),\n",
       " (u'to', 'TO'),\n",
       " (u'climb', 'VB'),\n",
       " (u'up', 'RP'),\n",
       " (u'there', 'RB'),\n",
       " (u'and', 'CC'),\n",
       " (u'help', 'VB'),\n",
       " (u'him', 'PRP'),\n",
       " (u'He', 'PRP'),\n",
       " (u'didn', 'VBZ'),\n",
       " (u't', 'NN'),\n",
       " (u'seem', 'NN'),\n",
       " (u'to', 'TO'),\n",
       " (u'be', 'VB'),\n",
       " (u'really', 'RB'),\n",
       " (u'trying', 'VBG'),\n",
       " (u'There', 'EX'),\n",
       " (u'were', 'VBD'),\n",
       " Tree('GPE', [(u'French', 'JJ')]),\n",
       " (u'doors', 'NNS'),\n",
       " (u'at', 'IN'),\n",
       " (u'the', 'DT'),\n",
       " (u'back', 'NN'),\n",
       " (u'of', 'IN'),\n",
       " (u'the', 'DT'),\n",
       " (u'hall', 'NN'),\n",
       " (u'beyond', 'IN'),\n",
       " (u'them', 'PRP'),\n",
       " (u'a', 'DT'),\n",
       " (u'wide', 'JJ'),\n",
       " (u'sweep', 'NN'),\n",
       " (u'of', 'IN'),\n",
       " (u'emerald', 'JJ'),\n",
       " (u'grass', 'NN'),\n",
       " (u'to', 'TO'),\n",
       " (u'a', 'DT'),\n",
       " (u'white', 'JJ'),\n",
       " (u'garage', 'NN'),\n",
       " (u'in', 'IN'),\n",
       " (u'front', 'NN'),\n",
       " (u'of', 'IN'),\n",
       " (u'which', 'WDT'),\n",
       " (u'a', 'DT'),\n",
       " (u'slim', 'NN'),\n",
       " (u'dark', 'NN'),\n",
       " (u'young', 'JJ'),\n",
       " (u'chauffeur', 'NN'),\n",
       " (u'in', 'IN'),\n",
       " (u'shiny', 'JJ'),\n",
       " (u'black', 'JJ'),\n",
       " (u'leggings', 'NNS'),\n",
       " (u'was', 'VBD'),\n",
       " (u'dusting', 'VBG'),\n",
       " (u'a', 'DT'),\n",
       " (u'maroon', 'NN'),\n",
       " Tree('PERSON', [(u'Packard', 'NNP')]),\n",
       " (u'convertible', 'JJ'),\n",
       " (u'Beyond', 'NNP'),\n",
       " (u'the', 'DT'),\n",
       " (u'garage', 'NN'),\n",
       " (u'were', 'VBD'),\n",
       " (u'some', 'DT'),\n",
       " (u'decorative', 'JJ'),\n",
       " (u'trees', 'NNS'),\n",
       " (u'trimmed', 'VBD'),\n",
       " (u'as', 'RB'),\n",
       " (u'carefully', 'RB'),\n",
       " (u'as', 'IN'),\n",
       " (u'poodle', 'JJ'),\n",
       " (u'dogs', 'NNS'),\n",
       " (u'Beyond', 'VBP'),\n",
       " (u'them', 'PRP'),\n",
       " (u'a', 'DT'),\n",
       " (u'large', 'JJ'),\n",
       " (u'greenhouse', 'NN'),\n",
       " (u'with', 'IN'),\n",
       " (u'a', 'DT'),\n",
       " (u'domed', 'JJ'),\n",
       " (u'roof', 'NN'),\n",
       " (u'Then', 'RB'),\n",
       " (u'more', 'RBR'),\n",
       " (u'trees', 'NNS'),\n",
       " (u'and', 'CC'),\n",
       " (u'beyond', 'IN'),\n",
       " (u'everything', 'NN'),\n",
       " (u'the', 'DT'),\n",
       " (u'solid', 'JJ'),\n",
       " (u'uneven', 'JJ'),\n",
       " (u'comfortable', 'JJ'),\n",
       " (u'line', 'NN'),\n",
       " (u'of', 'IN'),\n",
       " (u'the', 'DT'),\n",
       " (u'foothills', 'NNS'),\n",
       " (u'On', 'IN'),\n",
       " (u'the', 'DT'),\n",
       " (u'east', 'JJ'),\n",
       " (u'side', 'NN'),\n",
       " (u'of', 'IN'),\n",
       " (u'the', 'DT'),\n",
       " (u'hall', 'NN'),\n",
       " (u'a', 'DT'),\n",
       " (u'free', 'JJ'),\n",
       " (u'staircase', 'NN'),\n",
       " (u'tile', 'NN'),\n",
       " (u'paved', 'VBD'),\n",
       " (u'rose', 'VBD'),\n",
       " (u'to', 'TO'),\n",
       " (u'a', 'DT'),\n",
       " (u'gallery', 'NN'),\n",
       " (u'with', 'IN'),\n",
       " (u'a', 'DT'),\n",
       " (u'wrought', 'NN'),\n",
       " (u'iron', 'NN'),\n",
       " (u'railing', 'NN'),\n",
       " (u'and', 'CC'),\n",
       " (u'another', 'DT'),\n",
       " (u'piece', 'NN'),\n",
       " (u'of', 'IN'),\n",
       " (u'stained', 'JJ'),\n",
       " (u'glass', 'NN'),\n",
       " (u'romance', 'NN'),\n",
       " Tree('PERSON', [(u'Large', 'NNP')]),\n",
       " (u'hard', 'JJ'),\n",
       " (u'chairs', 'NNS'),\n",
       " (u'with', 'IN'),\n",
       " (u'rounded', 'JJ'),\n",
       " (u'red', 'JJ'),\n",
       " (u'plush', 'NN'),\n",
       " (u'seats', 'NNS'),\n",
       " (u'were', 'VBD'),\n",
       " (u'backed', 'VBN'),\n",
       " (u'into', 'IN'),\n",
       " (u'the', 'DT'),\n",
       " (u'vacant', 'JJ'),\n",
       " (u'spaces', 'NNS'),\n",
       " (u'of', 'IN'),\n",
       " (u'the', 'DT'),\n",
       " (u'wall', 'NN'),\n",
       " (u'round', 'NN'),\n",
       " (u'about', 'IN'),\n",
       " (u'They', 'PRP'),\n",
       " (u'didn', 'VBP'),\n",
       " (u't', 'JJ'),\n",
       " (u'look', 'NN'),\n",
       " (u'as', 'IN'),\n",
       " (u'if', 'IN'),\n",
       " (u'anybody', 'NN'),\n",
       " (u'had', 'VBD'),\n",
       " (u'ever', 'RB'),\n",
       " (u'sat', 'VBN'),\n",
       " (u'in', 'IN'),\n",
       " (u'them', 'PRP'),\n",
       " (u'In', 'IN'),\n",
       " (u'the', 'DT'),\n",
       " (u'middle', 'NN'),\n",
       " (u'of', 'IN'),\n",
       " (u'the', 'DT'),\n",
       " (u'west', 'JJS'),\n",
       " (u'wall', 'NN'),\n",
       " (u'there', 'EX'),\n",
       " (u'was', 'VBD'),\n",
       " (u'a', 'DT'),\n",
       " (u'big', 'JJ'),\n",
       " (u'empty', 'JJ'),\n",
       " (u'fireplace', 'NN'),\n",
       " (u'with', 'IN'),\n",
       " (u'a', 'DT'),\n",
       " (u'brass', 'NN'),\n",
       " (u'screen', 'NN'),\n",
       " (u'in', 'IN'),\n",
       " (u'four', 'CD'),\n",
       " (u'hinged', 'NN'),\n",
       " (u'panels', 'NNS'),\n",
       " (u'and', 'CC'),\n",
       " (u'over', 'IN'),\n",
       " (u'the', 'DT'),\n",
       " (u'fireplace', 'NN'),\n",
       " (u'a', 'DT'),\n",
       " (u'marble', 'JJ'),\n",
       " (u'mantel', 'NN'),\n",
       " (u'with', 'IN'),\n",
       " (u'cupids', 'NNS'),\n",
       " (u'at', 'IN'),\n",
       " (u'the', 'DT'),\n",
       " (u'corners', 'NNS'),\n",
       " (u'Above', 'IN'),\n",
       " (u'the', 'DT'),\n",
       " (u'mantel', 'NN'),\n",
       " (u'there', 'EX'),\n",
       " (u'was', 'VBD'),\n",
       " (u'a', 'DT'),\n",
       " (u'large', 'JJ'),\n",
       " (u'oil', 'NN'),\n",
       " (u'portrait', 'NN'),\n",
       " (u'and', 'CC'),\n",
       " (u'above', 'IN'),\n",
       " (u'the', 'DT'),\n",
       " (u'portrait', 'NN'),\n",
       " (u'two', 'CD'),\n",
       " (u'bullet', 'NN'),\n",
       " (u'torn', 'NNS'),\n",
       " (u'or', 'CC'),\n",
       " (u'moth', 'CC'),\n",
       " (u'eaten', 'JJ'),\n",
       " (u'cavalry', 'NN'),\n",
       " (u'pennants', 'NNS'),\n",
       " (u'crossed', 'VBN'),\n",
       " (u'in', 'IN'),\n",
       " (u'a', 'DT'),\n",
       " (u'glass', 'NN'),\n",
       " (u'frame', 'NN'),\n",
       " (u'The', 'DT'),\n",
       " (u'portrait', 'NN'),\n",
       " (u'was', 'VBD'),\n",
       " (u'a', 'DT'),\n",
       " (u'stiffly', 'NN'),\n",
       " (u'posed', 'VBD'),\n",
       " (u'job', 'NN'),\n",
       " (u'of', 'IN'),\n",
       " (u'an', 'DT'),\n",
       " (u'officer', 'NN'),\n",
       " (u'in', 'IN'),\n",
       " (u'full', 'JJ'),\n",
       " (u'regimentals', 'NNS'),\n",
       " (u'of', 'IN'),\n",
       " (u'about', 'IN'),\n",
       " (u'the', 'DT'),\n",
       " (u'time', 'NN'),\n",
       " (u'of', 'IN'),\n",
       " (u'the', 'DT'),\n",
       " Tree('GPE', [(u'Mexican', 'NNP')]),\n",
       " (u'war', 'NN'),\n",
       " (u'The', 'DT'),\n",
       " (u'officer', 'NN'),\n",
       " (u'had', 'VBD'),\n",
       " (u'a', 'DT'),\n",
       " (u'neat', 'JJ'),\n",
       " (u'black', 'JJ'),\n",
       " (u'imperial', 'JJ'),\n",
       " (u'black', 'JJ'),\n",
       " (u'mustachios', 'NNS'),\n",
       " (u'hot', 'JJ'),\n",
       " (u'hard', 'JJ'),\n",
       " (u'coal', 'NN'),\n",
       " (u'black', 'JJ'),\n",
       " (u'eyes', 'NNS'),\n",
       " (u'and', 'CC'),\n",
       " (u'the', 'DT'),\n",
       " (u'general', 'JJ'),\n",
       " (u'look', 'NN'),\n",
       " (u'of', 'IN'),\n",
       " (u'a', 'DT'),\n",
       " (u'man', 'NN'),\n",
       " (u'it', 'PRP'),\n",
       " (u'would', 'MD'),\n",
       " (u'pay', 'VB'),\n",
       " (u'to', 'TO'),\n",
       " (u'get', 'VB'),\n",
       " (u'along', 'IN'),\n",
       " (u'with', 'IN'),\n",
       " (u'I', 'PRP'),\n",
       " (u'thought', 'VBD'),\n",
       " (u'this', 'DT'),\n",
       " (u'might', 'MD'),\n",
       " (u'be', 'VB'),\n",
       " Tree('ORGANIZATION', [(u'General', 'JJ'), (u'Sternwood', 'NNP')]),\n",
       " (u's', 'NN'),\n",
       " (u'grandfather', 'NN'),\n",
       " (u'It', 'PRP'),\n",
       " (u'could', 'MD'),\n",
       " (u'hardly', 'RB'),\n",
       " (u'be', 'VB'),\n",
       " (u'the', 'DT'),\n",
       " (u'General', 'NNP'),\n",
       " (u'himself', 'PRP'),\n",
       " (u'even', 'RB'),\n",
       " (u'though', 'IN'),\n",
       " (u'I', 'PRP'),\n",
       " (u'had', 'VBD'),\n",
       " (u'heard', 'NN'),\n",
       " (u'he', 'PRP'),\n",
       " (u'was', 'VBD'),\n",
       " (u'pretty', 'RB'),\n",
       " (u'far', 'RB'),\n",
       " (u'gone', 'VBN'),\n",
       " (u'in', 'IN'),\n",
       " (u'years', 'NNS'),\n",
       " (u'to', 'TO'),\n",
       " (u'have', 'VB'),\n",
       " (u'a', 'DT'),\n",
       " (u'couple', 'NN'),\n",
       " (u'of', 'IN'),\n",
       " (u'daughters', 'NNS'),\n",
       " (u'still', 'RB'),\n",
       " (u'in', 'IN'),\n",
       " (u'the', 'DT'),\n",
       " (u'dangerous', 'JJ'),\n",
       " (u'twenties', 'NNS'),\n",
       " (u'I', 'PRP'),\n",
       " (u'was', 'VBD')]"
      ]
     },
     "execution_count": 25,
     "metadata": {},
     "output_type": "execute_result"
    }
   ],
   "source": [
    "named[0:500]"
   ]
  },
  {
   "cell_type": "code",
   "execution_count": null,
   "metadata": {
    "collapsed": true
   },
   "outputs": [],
   "source": []
  }
 ],
 "metadata": {
  "kernelspec": {
   "display_name": "Python 2",
   "language": "python",
   "name": "python2"
  },
  "language_info": {
   "codemirror_mode": {
    "name": "ipython",
    "version": 2
   },
   "file_extension": ".py",
   "mimetype": "text/x-python",
   "name": "python",
   "nbconvert_exporter": "python",
   "pygments_lexer": "ipython2",
   "version": "2.7.11"
  }
 },
 "nbformat": 4,
 "nbformat_minor": 0
}
